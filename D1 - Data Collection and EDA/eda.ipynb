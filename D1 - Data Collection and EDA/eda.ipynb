{
 "cells": [
  {
   "attachments": {},
   "cell_type": "markdown",
   "metadata": {},
   "source": [
    "#7DaysOfCode - Machine Learning Day-1: Collecting Data and Exploratory Data Analysis is correct?"
   ]
  },
  {
   "cell_type": "code",
   "execution_count": 1,
   "metadata": {},
   "outputs": [],
   "source": [
    "import numpy as np\n",
    "import pandas as pd\n",
    "import matplotlib.pyplot as plt\n",
    "import seaborn as sns\n",
    "pd.set_option('display.max_columns', None)"
   ]
  },
  {
   "cell_type": "code",
   "execution_count": 2,
   "metadata": {},
   "outputs": [],
   "source": [
    "spotify_df = pd.read_csv(\"C:/Users/SAMSUNG/OneDrive/Documentos/GitHub/7DaysOfCode_SpotifyML/data/dataset.csv\")"
   ]
  },
  {
   "cell_type": "code",
   "execution_count": 3,
   "metadata": {},
   "outputs": [
    {
     "data": {
      "text/html": [
       "<div>\n",
       "<style scoped>\n",
       "    .dataframe tbody tr th:only-of-type {\n",
       "        vertical-align: middle;\n",
       "    }\n",
       "\n",
       "    .dataframe tbody tr th {\n",
       "        vertical-align: top;\n",
       "    }\n",
       "\n",
       "    .dataframe thead th {\n",
       "        text-align: right;\n",
       "    }\n",
       "</style>\n",
       "<table border=\"1\" class=\"dataframe\">\n",
       "  <thead>\n",
       "    <tr style=\"text-align: right;\">\n",
       "      <th></th>\n",
       "      <th>Unnamed: 0</th>\n",
       "      <th>track_id</th>\n",
       "      <th>artists</th>\n",
       "      <th>album_name</th>\n",
       "      <th>track_name</th>\n",
       "      <th>popularity</th>\n",
       "      <th>duration_ms</th>\n",
       "      <th>explicit</th>\n",
       "      <th>danceability</th>\n",
       "      <th>energy</th>\n",
       "      <th>key</th>\n",
       "      <th>loudness</th>\n",
       "      <th>mode</th>\n",
       "      <th>speechiness</th>\n",
       "      <th>acousticness</th>\n",
       "      <th>instrumentalness</th>\n",
       "      <th>liveness</th>\n",
       "      <th>valence</th>\n",
       "      <th>tempo</th>\n",
       "      <th>time_signature</th>\n",
       "      <th>track_genre</th>\n",
       "    </tr>\n",
       "  </thead>\n",
       "  <tbody>\n",
       "    <tr>\n",
       "      <th>0</th>\n",
       "      <td>0</td>\n",
       "      <td>5SuOikwiRyPMVoIQDJUgSV</td>\n",
       "      <td>Gen Hoshino</td>\n",
       "      <td>Comedy</td>\n",
       "      <td>Comedy</td>\n",
       "      <td>73</td>\n",
       "      <td>230666</td>\n",
       "      <td>False</td>\n",
       "      <td>0.676</td>\n",
       "      <td>0.4610</td>\n",
       "      <td>1</td>\n",
       "      <td>-6.746</td>\n",
       "      <td>0</td>\n",
       "      <td>0.1430</td>\n",
       "      <td>0.0322</td>\n",
       "      <td>0.000001</td>\n",
       "      <td>0.3580</td>\n",
       "      <td>0.715</td>\n",
       "      <td>87.917</td>\n",
       "      <td>4</td>\n",
       "      <td>acoustic</td>\n",
       "    </tr>\n",
       "    <tr>\n",
       "      <th>1</th>\n",
       "      <td>1</td>\n",
       "      <td>4qPNDBW1i3p13qLCt0Ki3A</td>\n",
       "      <td>Ben Woodward</td>\n",
       "      <td>Ghost (Acoustic)</td>\n",
       "      <td>Ghost - Acoustic</td>\n",
       "      <td>55</td>\n",
       "      <td>149610</td>\n",
       "      <td>False</td>\n",
       "      <td>0.420</td>\n",
       "      <td>0.1660</td>\n",
       "      <td>1</td>\n",
       "      <td>-17.235</td>\n",
       "      <td>1</td>\n",
       "      <td>0.0763</td>\n",
       "      <td>0.9240</td>\n",
       "      <td>0.000006</td>\n",
       "      <td>0.1010</td>\n",
       "      <td>0.267</td>\n",
       "      <td>77.489</td>\n",
       "      <td>4</td>\n",
       "      <td>acoustic</td>\n",
       "    </tr>\n",
       "    <tr>\n",
       "      <th>2</th>\n",
       "      <td>2</td>\n",
       "      <td>1iJBSr7s7jYXzM8EGcbK5b</td>\n",
       "      <td>Ingrid Michaelson;ZAYN</td>\n",
       "      <td>To Begin Again</td>\n",
       "      <td>To Begin Again</td>\n",
       "      <td>57</td>\n",
       "      <td>210826</td>\n",
       "      <td>False</td>\n",
       "      <td>0.438</td>\n",
       "      <td>0.3590</td>\n",
       "      <td>0</td>\n",
       "      <td>-9.734</td>\n",
       "      <td>1</td>\n",
       "      <td>0.0557</td>\n",
       "      <td>0.2100</td>\n",
       "      <td>0.000000</td>\n",
       "      <td>0.1170</td>\n",
       "      <td>0.120</td>\n",
       "      <td>76.332</td>\n",
       "      <td>4</td>\n",
       "      <td>acoustic</td>\n",
       "    </tr>\n",
       "    <tr>\n",
       "      <th>3</th>\n",
       "      <td>3</td>\n",
       "      <td>6lfxq3CG4xtTiEg7opyCyx</td>\n",
       "      <td>Kina Grannis</td>\n",
       "      <td>Crazy Rich Asians (Original Motion Picture Sou...</td>\n",
       "      <td>Can't Help Falling In Love</td>\n",
       "      <td>71</td>\n",
       "      <td>201933</td>\n",
       "      <td>False</td>\n",
       "      <td>0.266</td>\n",
       "      <td>0.0596</td>\n",
       "      <td>0</td>\n",
       "      <td>-18.515</td>\n",
       "      <td>1</td>\n",
       "      <td>0.0363</td>\n",
       "      <td>0.9050</td>\n",
       "      <td>0.000071</td>\n",
       "      <td>0.1320</td>\n",
       "      <td>0.143</td>\n",
       "      <td>181.740</td>\n",
       "      <td>3</td>\n",
       "      <td>acoustic</td>\n",
       "    </tr>\n",
       "    <tr>\n",
       "      <th>4</th>\n",
       "      <td>4</td>\n",
       "      <td>5vjLSffimiIP26QG5WcN2K</td>\n",
       "      <td>Chord Overstreet</td>\n",
       "      <td>Hold On</td>\n",
       "      <td>Hold On</td>\n",
       "      <td>82</td>\n",
       "      <td>198853</td>\n",
       "      <td>False</td>\n",
       "      <td>0.618</td>\n",
       "      <td>0.4430</td>\n",
       "      <td>2</td>\n",
       "      <td>-9.681</td>\n",
       "      <td>1</td>\n",
       "      <td>0.0526</td>\n",
       "      <td>0.4690</td>\n",
       "      <td>0.000000</td>\n",
       "      <td>0.0829</td>\n",
       "      <td>0.167</td>\n",
       "      <td>119.949</td>\n",
       "      <td>4</td>\n",
       "      <td>acoustic</td>\n",
       "    </tr>\n",
       "  </tbody>\n",
       "</table>\n",
       "</div>"
      ],
      "text/plain": [
       "   Unnamed: 0                track_id                 artists  \\\n",
       "0           0  5SuOikwiRyPMVoIQDJUgSV             Gen Hoshino   \n",
       "1           1  4qPNDBW1i3p13qLCt0Ki3A            Ben Woodward   \n",
       "2           2  1iJBSr7s7jYXzM8EGcbK5b  Ingrid Michaelson;ZAYN   \n",
       "3           3  6lfxq3CG4xtTiEg7opyCyx            Kina Grannis   \n",
       "4           4  5vjLSffimiIP26QG5WcN2K        Chord Overstreet   \n",
       "\n",
       "                                          album_name  \\\n",
       "0                                             Comedy   \n",
       "1                                   Ghost (Acoustic)   \n",
       "2                                     To Begin Again   \n",
       "3  Crazy Rich Asians (Original Motion Picture Sou...   \n",
       "4                                            Hold On   \n",
       "\n",
       "                   track_name  popularity  duration_ms  explicit  \\\n",
       "0                      Comedy          73       230666     False   \n",
       "1            Ghost - Acoustic          55       149610     False   \n",
       "2              To Begin Again          57       210826     False   \n",
       "3  Can't Help Falling In Love          71       201933     False   \n",
       "4                     Hold On          82       198853     False   \n",
       "\n",
       "   danceability  energy  key  loudness  mode  speechiness  acousticness  \\\n",
       "0         0.676  0.4610    1    -6.746     0       0.1430        0.0322   \n",
       "1         0.420  0.1660    1   -17.235     1       0.0763        0.9240   \n",
       "2         0.438  0.3590    0    -9.734     1       0.0557        0.2100   \n",
       "3         0.266  0.0596    0   -18.515     1       0.0363        0.9050   \n",
       "4         0.618  0.4430    2    -9.681     1       0.0526        0.4690   \n",
       "\n",
       "   instrumentalness  liveness  valence    tempo  time_signature track_genre  \n",
       "0          0.000001    0.3580    0.715   87.917               4    acoustic  \n",
       "1          0.000006    0.1010    0.267   77.489               4    acoustic  \n",
       "2          0.000000    0.1170    0.120   76.332               4    acoustic  \n",
       "3          0.000071    0.1320    0.143  181.740               3    acoustic  \n",
       "4          0.000000    0.0829    0.167  119.949               4    acoustic  "
      ]
     },
     "execution_count": 3,
     "metadata": {},
     "output_type": "execute_result"
    }
   ],
   "source": [
    "spotify_df.head()"
   ]
  },
  {
   "cell_type": "code",
   "execution_count": 4,
   "metadata": {},
   "outputs": [
    {
     "data": {
      "text/plain": [
       "(114000, 21)"
      ]
     },
     "execution_count": 4,
     "metadata": {},
     "output_type": "execute_result"
    }
   ],
   "source": [
    "spotify_df.shape"
   ]
  },
  {
   "cell_type": "code",
   "execution_count": 5,
   "metadata": {},
   "outputs": [],
   "source": [
    "#dropping Unnamed: column\n",
    "spotify_df = spotify_df.drop(columns = ['Unnamed: 0'])"
   ]
  },
  {
   "cell_type": "code",
   "execution_count": 6,
   "metadata": {},
   "outputs": [
    {
     "data": {
      "text/plain": [
       "track_id            0\n",
       "artists             1\n",
       "album_name          1\n",
       "track_name          1\n",
       "popularity          0\n",
       "duration_ms         0\n",
       "explicit            0\n",
       "danceability        0\n",
       "energy              0\n",
       "key                 0\n",
       "loudness            0\n",
       "mode                0\n",
       "speechiness         0\n",
       "acousticness        0\n",
       "instrumentalness    0\n",
       "liveness            0\n",
       "valence             0\n",
       "tempo               0\n",
       "time_signature      0\n",
       "track_genre         0\n",
       "dtype: int64"
      ]
     },
     "execution_count": 6,
     "metadata": {},
     "output_type": "execute_result"
    }
   ],
   "source": [
    "#checking for null values\n",
    "spotify_df.isnull().sum()"
   ]
  },
  {
   "attachments": {},
   "cell_type": "markdown",
   "metadata": {},
   "source": [
    "There is only 3 missing values in the entire dataset, and I chose to simply drop that data point."
   ]
  },
  {
   "cell_type": "code",
   "execution_count": 7,
   "metadata": {},
   "outputs": [],
   "source": [
    "spotify_df = spotify_df.dropna()"
   ]
  },
  {
   "cell_type": "code",
   "execution_count": 8,
   "metadata": {},
   "outputs": [
    {
     "data": {
      "text/plain": [
       "450"
      ]
     },
     "execution_count": 8,
     "metadata": {},
     "output_type": "execute_result"
    }
   ],
   "source": [
    "#checking for duplicates\n",
    "spotify_df.duplicated().sum()"
   ]
  },
  {
   "cell_type": "code",
   "execution_count": 9,
   "metadata": {},
   "outputs": [],
   "source": [
    "#dropping it\n",
    "spotify_df = spotify_df.drop_duplicates()"
   ]
  },
  {
   "cell_type": "code",
   "execution_count": 10,
   "metadata": {},
   "outputs": [
    {
     "name": "stdout",
     "output_type": "stream",
     "text": [
      "<class 'pandas.core.frame.DataFrame'>\n",
      "Int64Index: 113549 entries, 0 to 113999\n",
      "Data columns (total 20 columns):\n",
      " #   Column            Non-Null Count   Dtype  \n",
      "---  ------            --------------   -----  \n",
      " 0   track_id          113549 non-null  object \n",
      " 1   artists           113549 non-null  object \n",
      " 2   album_name        113549 non-null  object \n",
      " 3   track_name        113549 non-null  object \n",
      " 4   popularity        113549 non-null  int64  \n",
      " 5   duration_ms       113549 non-null  int64  \n",
      " 6   explicit          113549 non-null  bool   \n",
      " 7   danceability      113549 non-null  float64\n",
      " 8   energy            113549 non-null  float64\n",
      " 9   key               113549 non-null  int64  \n",
      " 10  loudness          113549 non-null  float64\n",
      " 11  mode              113549 non-null  int64  \n",
      " 12  speechiness       113549 non-null  float64\n",
      " 13  acousticness      113549 non-null  float64\n",
      " 14  instrumentalness  113549 non-null  float64\n",
      " 15  liveness          113549 non-null  float64\n",
      " 16  valence           113549 non-null  float64\n",
      " 17  tempo             113549 non-null  float64\n",
      " 18  time_signature    113549 non-null  int64  \n",
      " 19  track_genre       113549 non-null  object \n",
      "dtypes: bool(1), float64(9), int64(5), object(5)\n",
      "memory usage: 17.4+ MB\n"
     ]
    }
   ],
   "source": [
    "#correcting Dtype\n",
    "spotify_df.info()"
   ]
  },
  {
   "cell_type": "code",
   "execution_count": 11,
   "metadata": {},
   "outputs": [],
   "source": [
    "#convert song_duration from ms to minutes\n",
    "spotify_df['duration_ms'] = spotify_df['duration_ms']/60000"
   ]
  },
  {
   "attachments": {},
   "cell_type": "markdown",
   "metadata": {},
   "source": [
    "# EDA\n"
   ]
  },
  {
   "cell_type": "code",
   "execution_count": 12,
   "metadata": {},
   "outputs": [
    {
     "data": {
      "text/html": [
       "<div>\n",
       "<style scoped>\n",
       "    .dataframe tbody tr th:only-of-type {\n",
       "        vertical-align: middle;\n",
       "    }\n",
       "\n",
       "    .dataframe tbody tr th {\n",
       "        vertical-align: top;\n",
       "    }\n",
       "\n",
       "    .dataframe thead th {\n",
       "        text-align: right;\n",
       "    }\n",
       "</style>\n",
       "<table border=\"1\" class=\"dataframe\">\n",
       "  <thead>\n",
       "    <tr style=\"text-align: right;\">\n",
       "      <th></th>\n",
       "      <th>count</th>\n",
       "      <th>mean</th>\n",
       "      <th>std</th>\n",
       "      <th>min</th>\n",
       "      <th>25%</th>\n",
       "      <th>50%</th>\n",
       "      <th>75%</th>\n",
       "      <th>max</th>\n",
       "    </tr>\n",
       "  </thead>\n",
       "  <tbody>\n",
       "    <tr>\n",
       "      <th>popularity</th>\n",
       "      <td>113549.0</td>\n",
       "      <td>33.324433</td>\n",
       "      <td>22.283855</td>\n",
       "      <td>0.0000</td>\n",
       "      <td>17.000000</td>\n",
       "      <td>35.000000</td>\n",
       "      <td>50.0000</td>\n",
       "      <td>100.00000</td>\n",
       "    </tr>\n",
       "    <tr>\n",
       "      <th>duration_ms</th>\n",
       "      <td>113549.0</td>\n",
       "      <td>3.801356</td>\n",
       "      <td>1.773552</td>\n",
       "      <td>0.1431</td>\n",
       "      <td>2.903067</td>\n",
       "      <td>3.550000</td>\n",
       "      <td>4.3598</td>\n",
       "      <td>87.28825</td>\n",
       "    </tr>\n",
       "    <tr>\n",
       "      <th>danceability</th>\n",
       "      <td>113549.0</td>\n",
       "      <td>0.567031</td>\n",
       "      <td>0.173409</td>\n",
       "      <td>0.0000</td>\n",
       "      <td>0.456000</td>\n",
       "      <td>0.580000</td>\n",
       "      <td>0.6950</td>\n",
       "      <td>0.98500</td>\n",
       "    </tr>\n",
       "    <tr>\n",
       "      <th>energy</th>\n",
       "      <td>113549.0</td>\n",
       "      <td>0.642091</td>\n",
       "      <td>0.251053</td>\n",
       "      <td>0.0000</td>\n",
       "      <td>0.473000</td>\n",
       "      <td>0.685000</td>\n",
       "      <td>0.8540</td>\n",
       "      <td>1.00000</td>\n",
       "    </tr>\n",
       "    <tr>\n",
       "      <th>key</th>\n",
       "      <td>113549.0</td>\n",
       "      <td>5.309452</td>\n",
       "      <td>3.560147</td>\n",
       "      <td>0.0000</td>\n",
       "      <td>2.000000</td>\n",
       "      <td>5.000000</td>\n",
       "      <td>8.0000</td>\n",
       "      <td>11.00000</td>\n",
       "    </tr>\n",
       "    <tr>\n",
       "      <th>loudness</th>\n",
       "      <td>113549.0</td>\n",
       "      <td>-8.243408</td>\n",
       "      <td>5.011422</td>\n",
       "      <td>-49.5310</td>\n",
       "      <td>-9.998000</td>\n",
       "      <td>-6.997000</td>\n",
       "      <td>-5.0010</td>\n",
       "      <td>4.53200</td>\n",
       "    </tr>\n",
       "    <tr>\n",
       "      <th>mode</th>\n",
       "      <td>113549.0</td>\n",
       "      <td>0.637866</td>\n",
       "      <td>0.480620</td>\n",
       "      <td>0.0000</td>\n",
       "      <td>0.000000</td>\n",
       "      <td>1.000000</td>\n",
       "      <td>1.0000</td>\n",
       "      <td>1.00000</td>\n",
       "    </tr>\n",
       "    <tr>\n",
       "      <th>speechiness</th>\n",
       "      <td>113549.0</td>\n",
       "      <td>0.084674</td>\n",
       "      <td>0.105762</td>\n",
       "      <td>0.0000</td>\n",
       "      <td>0.035900</td>\n",
       "      <td>0.048900</td>\n",
       "      <td>0.0845</td>\n",
       "      <td>0.96500</td>\n",
       "    </tr>\n",
       "    <tr>\n",
       "      <th>acousticness</th>\n",
       "      <td>113549.0</td>\n",
       "      <td>0.314064</td>\n",
       "      <td>0.331906</td>\n",
       "      <td>0.0000</td>\n",
       "      <td>0.016800</td>\n",
       "      <td>0.168000</td>\n",
       "      <td>0.5960</td>\n",
       "      <td>0.99600</td>\n",
       "    </tr>\n",
       "    <tr>\n",
       "      <th>instrumentalness</th>\n",
       "      <td>113549.0</td>\n",
       "      <td>0.155703</td>\n",
       "      <td>0.309217</td>\n",
       "      <td>0.0000</td>\n",
       "      <td>0.000000</td>\n",
       "      <td>0.000041</td>\n",
       "      <td>0.0487</td>\n",
       "      <td>1.00000</td>\n",
       "    </tr>\n",
       "    <tr>\n",
       "      <th>liveness</th>\n",
       "      <td>113549.0</td>\n",
       "      <td>0.213613</td>\n",
       "      <td>0.190462</td>\n",
       "      <td>0.0000</td>\n",
       "      <td>0.098000</td>\n",
       "      <td>0.132000</td>\n",
       "      <td>0.2730</td>\n",
       "      <td>1.00000</td>\n",
       "    </tr>\n",
       "    <tr>\n",
       "      <th>valence</th>\n",
       "      <td>113549.0</td>\n",
       "      <td>0.474205</td>\n",
       "      <td>0.259204</td>\n",
       "      <td>0.0000</td>\n",
       "      <td>0.260000</td>\n",
       "      <td>0.464000</td>\n",
       "      <td>0.6830</td>\n",
       "      <td>0.99500</td>\n",
       "    </tr>\n",
       "    <tr>\n",
       "      <th>tempo</th>\n",
       "      <td>113549.0</td>\n",
       "      <td>122.175745</td>\n",
       "      <td>29.972954</td>\n",
       "      <td>0.0000</td>\n",
       "      <td>99.296000</td>\n",
       "      <td>122.020000</td>\n",
       "      <td>140.0740</td>\n",
       "      <td>243.37200</td>\n",
       "    </tr>\n",
       "    <tr>\n",
       "      <th>time_signature</th>\n",
       "      <td>113549.0</td>\n",
       "      <td>3.904218</td>\n",
       "      <td>0.432117</td>\n",
       "      <td>0.0000</td>\n",
       "      <td>4.000000</td>\n",
       "      <td>4.000000</td>\n",
       "      <td>4.0000</td>\n",
       "      <td>5.00000</td>\n",
       "    </tr>\n",
       "  </tbody>\n",
       "</table>\n",
       "</div>"
      ],
      "text/plain": [
       "                     count        mean        std      min        25%  \\\n",
       "popularity        113549.0   33.324433  22.283855   0.0000  17.000000   \n",
       "duration_ms       113549.0    3.801356   1.773552   0.1431   2.903067   \n",
       "danceability      113549.0    0.567031   0.173409   0.0000   0.456000   \n",
       "energy            113549.0    0.642091   0.251053   0.0000   0.473000   \n",
       "key               113549.0    5.309452   3.560147   0.0000   2.000000   \n",
       "loudness          113549.0   -8.243408   5.011422 -49.5310  -9.998000   \n",
       "mode              113549.0    0.637866   0.480620   0.0000   0.000000   \n",
       "speechiness       113549.0    0.084674   0.105762   0.0000   0.035900   \n",
       "acousticness      113549.0    0.314064   0.331906   0.0000   0.016800   \n",
       "instrumentalness  113549.0    0.155703   0.309217   0.0000   0.000000   \n",
       "liveness          113549.0    0.213613   0.190462   0.0000   0.098000   \n",
       "valence           113549.0    0.474205   0.259204   0.0000   0.260000   \n",
       "tempo             113549.0  122.175745  29.972954   0.0000  99.296000   \n",
       "time_signature    113549.0    3.904218   0.432117   0.0000   4.000000   \n",
       "\n",
       "                         50%       75%        max  \n",
       "popularity         35.000000   50.0000  100.00000  \n",
       "duration_ms         3.550000    4.3598   87.28825  \n",
       "danceability        0.580000    0.6950    0.98500  \n",
       "energy              0.685000    0.8540    1.00000  \n",
       "key                 5.000000    8.0000   11.00000  \n",
       "loudness           -6.997000   -5.0010    4.53200  \n",
       "mode                1.000000    1.0000    1.00000  \n",
       "speechiness         0.048900    0.0845    0.96500  \n",
       "acousticness        0.168000    0.5960    0.99600  \n",
       "instrumentalness    0.000041    0.0487    1.00000  \n",
       "liveness            0.132000    0.2730    1.00000  \n",
       "valence             0.464000    0.6830    0.99500  \n",
       "tempo             122.020000  140.0740  243.37200  \n",
       "time_signature      4.000000    4.0000    5.00000  "
      ]
     },
     "execution_count": 12,
     "metadata": {},
     "output_type": "execute_result"
    }
   ],
   "source": [
    "spotify_df.describe().T"
   ]
  },
  {
   "attachments": {},
   "cell_type": "markdown",
   "metadata": {},
   "source": [
    "- One interesting observation is the low mean value of popularity at 33. Considering that Spotify ranks popularity on a scale of 0 to 100, this suggests that most songs in the dataset, at least in this analysis, may not be very popular and may go relatively unnoticed. In fact, only the top third quartile, representing the top 25% of the distribution, have a popularity score above 50.\n",
    "- The majority of songs have a duration of around 3 minutes, with the longest songs ranging around 4 minutes. However, there is one outlier with a duration of 87 minutes, which seems unusually long for a typical song.\n",
    "- The valence attribute, which indicates the \"happiness\" or positivity of a song, has a relatively low mean value of 0.4. This raises an interesting question: do people tend to compose more sad or melancholic songs, given the lower valence values observed in the dataset?\n"
   ]
  },
  {
   "cell_type": "code",
   "execution_count": 13,
   "metadata": {},
   "outputs": [
    {
     "data": {
      "text/html": [
       "<div>\n",
       "<style scoped>\n",
       "    .dataframe tbody tr th:only-of-type {\n",
       "        vertical-align: middle;\n",
       "    }\n",
       "\n",
       "    .dataframe tbody tr th {\n",
       "        vertical-align: top;\n",
       "    }\n",
       "\n",
       "    .dataframe thead th {\n",
       "        text-align: right;\n",
       "    }\n",
       "</style>\n",
       "<table border=\"1\" class=\"dataframe\">\n",
       "  <thead>\n",
       "    <tr style=\"text-align: right;\">\n",
       "      <th></th>\n",
       "      <th>count</th>\n",
       "      <th>unique</th>\n",
       "      <th>top</th>\n",
       "      <th>freq</th>\n",
       "    </tr>\n",
       "  </thead>\n",
       "  <tbody>\n",
       "    <tr>\n",
       "      <th>track_id</th>\n",
       "      <td>113549</td>\n",
       "      <td>89740</td>\n",
       "      <td>6S3JlDAGk3uu3NtZbPnuhS</td>\n",
       "      <td>9</td>\n",
       "    </tr>\n",
       "    <tr>\n",
       "      <th>artists</th>\n",
       "      <td>113549</td>\n",
       "      <td>31437</td>\n",
       "      <td>The Beatles</td>\n",
       "      <td>279</td>\n",
       "    </tr>\n",
       "    <tr>\n",
       "      <th>album_name</th>\n",
       "      <td>113549</td>\n",
       "      <td>46589</td>\n",
       "      <td>Alternative Christmas 2022</td>\n",
       "      <td>195</td>\n",
       "    </tr>\n",
       "    <tr>\n",
       "      <th>track_name</th>\n",
       "      <td>113549</td>\n",
       "      <td>73608</td>\n",
       "      <td>Run Rudolph Run</td>\n",
       "      <td>151</td>\n",
       "    </tr>\n",
       "    <tr>\n",
       "      <th>track_genre</th>\n",
       "      <td>113549</td>\n",
       "      <td>114</td>\n",
       "      <td>acoustic</td>\n",
       "      <td>1000</td>\n",
       "    </tr>\n",
       "  </tbody>\n",
       "</table>\n",
       "</div>"
      ],
      "text/plain": [
       "              count unique                         top  freq\n",
       "track_id     113549  89740      6S3JlDAGk3uu3NtZbPnuhS     9\n",
       "artists      113549  31437                 The Beatles   279\n",
       "album_name   113549  46589  Alternative Christmas 2022   195\n",
       "track_name   113549  73608             Run Rudolph Run   151\n",
       "track_genre  113549    114                    acoustic  1000"
      ]
     },
     "execution_count": 13,
     "metadata": {},
     "output_type": "execute_result"
    }
   ],
   "source": [
    "spotify_df.describe(include='object').T"
   ]
  },
  {
   "attachments": {},
   "cell_type": "markdown",
   "metadata": {},
   "source": [
    "- The Beatles appear to be a popular choice in the dataset, with a total of 279 songs featuring their music.\n",
    "- It's interesting to note that there are 151 songs named \"Run Rudolph Run\" in the dataset. \"Run Rudolph Run\" is a Christmas song originally written by Chuck Berry, and it has been covered by numerous other artists over the years.\n",
    "- Additionally, in the Christmas theme, the most frequent album name is \"Alternative Christmas 2022\".\n"
   ]
  },
  {
   "cell_type": "code",
   "execution_count": 14,
   "metadata": {},
   "outputs": [
    {
     "data": {
      "image/png": "[encoded data removed]",
      "text/plain": [
       "<Figure size 1440x720 with 16 Axes>"
      ]
     },
     "metadata": {
      "needs_background": "light"
     },
     "output_type": "display_data"
    }
   ],
   "source": [
    "spotify_df.hist(bins=60, grid=False, figsize=(20,10))\n",
    "plt.show()"
   ]
  },
  {
   "attachments": {},
   "cell_type": "markdown",
   "metadata": {},
   "source": [
    "- The histograms provide further confirmation of our initial analysis of popularity: there is a peak around low values, with a large number of songs ranging between 0-10 in popularity.\n",
    "- The distribution of duration_ms clearly shows the presence of outliers, as indicated by the heavily skewed distribution.\n",
    "- Danceability and tempo appear to follow normal distributions, as indicated by their histogram distributions.\n",
    "- Liveness and speechiness are right-skewed, while loudness and energy are left-skewed, as evident from their respective histograms.\n",
    "- Valence, on the other hand, appears to follow a uniform distribution, as observed from its histogram.\n",
    "\n",
    "Overral, we can see that:\n",
    "\n",
    "i. Popularity: The majority of songs in the sample have low popularity values, with a peak around 0-10. This suggests that the songs in the dataset may not be widely popular or well-known.\n",
    "\n",
    "ii. The normal distribution shape of danceability and tempo indicates that these attributes are evenly distributed across the sample, suggesting that the songs in the dataset have similar danceability and tempo characteristics.\n",
    "\n",
    "iii. Liveness, Speechiness, Loudness, and Energy: The skewness of these attributes' distributions (right-skewed for liveness and speechiness, left-skewed for loudness and energy) suggests that the songs in the dataset tend to have lower liveness and speechiness values, but higher loudness and energy values on average.\n",
    "\n",
    "iv. Valence: The uniform distribution of valence indicates that the songs in the sample have a relatively balanced distribution of happiness or positive emotions."
   ]
  },
  {
   "attachments": {},
   "cell_type": "markdown",
   "metadata": {},
   "source": [
    "## Looking for outliers"
   ]
  },
  {
   "cell_type": "code",
   "execution_count": 15,
   "metadata": {},
   "outputs": [
    {
     "data": {
      "text/plain": [
       "Index(['track_id', 'artists', 'album_name', 'track_name', 'popularity',\n",
       "       'duration_ms', 'explicit', 'danceability', 'energy', 'key', 'loudness',\n",
       "       'mode', 'speechiness', 'acousticness', 'instrumentalness', 'liveness',\n",
       "       'valence', 'tempo', 'time_signature', 'track_genre'],\n",
       "      dtype='object')"
      ]
     },
     "execution_count": 15,
     "metadata": {},
     "output_type": "execute_result"
    }
   ],
   "source": [
    "spotify_df.columns"
   ]
  },
  {
   "cell_type": "code",
   "execution_count": 16,
   "metadata": {},
   "outputs": [
    {
     "data": {
      "text/plain": [
       "[Text(0, 1, '')]"
      ]
     },
     "execution_count": 16,
     "metadata": {},
     "output_type": "execute_result"
    },
    {
     "data": {
      "image/png": "[encoded data removed]",
      "text/plain": [
       "<Figure size 1440x720 with 2 Axes>"
      ]
     },
     "metadata": {
      "needs_background": "light"
     },
     "output_type": "display_data"
    }
   ],
   "source": [
    "# Create a subplot with 1 row and 2 columns\n",
    "fig, axes = plt.subplots(1, 2, figsize=(20, 10))\n",
    "\n",
    "# Boxplot for 'popularity' column\n",
    "axes[0].boxplot(spotify_df['popularity'], vert=False, meanline=True, showmeans=True,\n",
    "                medianprops=dict(color='orange'), meanprops=dict(color='#E83810', linewidth=2))\n",
    "axes[0].set_title('Popularity Boxplot')\n",
    "axes[0].grid(False)\n",
    "axes[0].set_xlabel('Popularity')\n",
    "axes[0].set_yticklabels([]) # Remove y-axis labels\n",
    "\n",
    "# Boxplot for 'duration_ms' column\n",
    "axes[1].boxplot(spotify_df['duration_ms'], vert=False)\n",
    "axes[1].set_title('Duration (ms) Boxplot')\n",
    "axes[1].grid(False)\n",
    "axes[1].set_xlabel('Duration (ms)')\n",
    "axes[1].set_yticklabels([]) # Remove y-axis labels"
   ]
  },
  {
   "attachments": {},
   "cell_type": "markdown",
   "metadata": {},
   "source": [
    "Based on the duration distribution in the dataset, it appears that most songs have durations of under 10 minutes, but there are songs with unusually long durations ranging from 10 to 20 minutes, and even over 1 hour. This suggests that there may be songs with diverse lengths and styles, including longer compositions or experimental tracks, present in the dataset."
   ]
  },
  {
   "cell_type": "code",
   "execution_count": 17,
   "metadata": {},
   "outputs": [
    {
     "data": {
      "text/plain": [
       "Index(['track_id', 'artists', 'album_name', 'track_name', 'popularity',\n",
       "       'duration_ms', 'explicit', 'danceability', 'energy', 'key', 'loudness',\n",
       "       'mode', 'speechiness', 'acousticness', 'instrumentalness', 'liveness',\n",
       "       'valence', 'tempo', 'time_signature', 'track_genre'],\n",
       "      dtype='object')"
      ]
     },
     "execution_count": 17,
     "metadata": {},
     "output_type": "execute_result"
    }
   ],
   "source": [
    "spotify_df.columns"
   ]
  },
  {
   "cell_type": "code",
   "execution_count": 18,
   "metadata": {},
   "outputs": [
    {
     "data": {
      "text/plain": [
       "<AxesSubplot:>"
      ]
     },
     "execution_count": 18,
     "metadata": {},
     "output_type": "execute_result"
    },
    {
     "data": {
      "image/png": "[encoded data removed]",
      "text/plain": [
       "<Figure size 1440x720 with 1 Axes>"
      ]
     },
     "metadata": {
      "needs_background": "light"
     },
     "output_type": "display_data"
    }
   ],
   "source": [
    "spotify_df.boxplot(column= ['danceability', 'energy',\n",
    "       'mode', 'speechiness', 'acousticness', 'instrumentalness', 'liveness',\n",
    "       'valence'],figsize=(20,10),grid=False )"
   ]
  },
  {
   "attachments": {},
   "cell_type": "markdown",
   "metadata": {},
   "source": [
    "Based on the boxplots, it appears that speechiness, instrumentalness, and liveness have a high number of data points that fall outside the interquartile range (IQR), indicating the presence of numerous outliers in these attributes. These outliers could represent songs that exhibit unusual or distinct characteristics in terms of their speechiness, instrumentalness, or liveness. "
   ]
  },
  {
   "attachments": {},
   "cell_type": "markdown",
   "metadata": {},
   "source": [
    "## Exploring trends"
   ]
  },
  {
   "cell_type": "code",
   "execution_count": 19,
   "metadata": {},
   "outputs": [
    {
     "data": {
      "text/plain": [
       "Index(['track_id', 'artists', 'album_name', 'track_name', 'popularity',\n",
       "       'duration_ms', 'explicit', 'danceability', 'energy', 'key', 'loudness',\n",
       "       'mode', 'speechiness', 'acousticness', 'instrumentalness', 'liveness',\n",
       "       'valence', 'tempo', 'time_signature', 'track_genre'],\n",
       "      dtype='object')"
      ]
     },
     "execution_count": 19,
     "metadata": {},
     "output_type": "execute_result"
    }
   ],
   "source": [
    "spotify_df.columns"
   ]
  },
  {
   "attachments": {},
   "cell_type": "markdown",
   "metadata": {},
   "source": [
    "### Top 10 most popular tracks"
   ]
  },
  {
   "cell_type": "code",
   "execution_count": 20,
   "metadata": {},
   "outputs": [
    {
     "data": {
      "text/html": [
       "<div>\n",
       "<style scoped>\n",
       "    .dataframe tbody tr th:only-of-type {\n",
       "        vertical-align: middle;\n",
       "    }\n",
       "\n",
       "    .dataframe tbody tr th {\n",
       "        vertical-align: top;\n",
       "    }\n",
       "\n",
       "    .dataframe thead th {\n",
       "        text-align: right;\n",
       "    }\n",
       "</style>\n",
       "<table border=\"1\" class=\"dataframe\">\n",
       "  <thead>\n",
       "    <tr style=\"text-align: right;\">\n",
       "      <th></th>\n",
       "      <th>track_name</th>\n",
       "      <th>artists</th>\n",
       "      <th>track_id</th>\n",
       "      <th>popularity</th>\n",
       "    </tr>\n",
       "  </thead>\n",
       "  <tbody>\n",
       "    <tr>\n",
       "      <th>81051</th>\n",
       "      <td>Unholy (feat. Kim Petras)</td>\n",
       "      <td>Sam Smith;Kim Petras</td>\n",
       "      <td>3nqQXoyQOWXiESFLlDF1hG</td>\n",
       "      <td>100</td>\n",
       "    </tr>\n",
       "    <tr>\n",
       "      <th>20001</th>\n",
       "      <td>Unholy (feat. Kim Petras)</td>\n",
       "      <td>Sam Smith;Kim Petras</td>\n",
       "      <td>3nqQXoyQOWXiESFLlDF1hG</td>\n",
       "      <td>100</td>\n",
       "    </tr>\n",
       "    <tr>\n",
       "      <th>51664</th>\n",
       "      <td>Quevedo: Bzrp Music Sessions, Vol. 52</td>\n",
       "      <td>Bizarrap;Quevedo</td>\n",
       "      <td>2tTmW7RDtMQtBk7m2rYeSw</td>\n",
       "      <td>99</td>\n",
       "    </tr>\n",
       "    <tr>\n",
       "      <th>68303</th>\n",
       "      <td>La Bachata</td>\n",
       "      <td>Manuel Turizo</td>\n",
       "      <td>5ww2BF9slyYgNOk37BlC4u</td>\n",
       "      <td>98</td>\n",
       "    </tr>\n",
       "    <tr>\n",
       "      <th>81210</th>\n",
       "      <td>I'm Good (Blue)</td>\n",
       "      <td>David Guetta;Bebe Rexha</td>\n",
       "      <td>4uUG5RXrOk84mYEfFvj3cK</td>\n",
       "      <td>98</td>\n",
       "    </tr>\n",
       "    <tr>\n",
       "      <th>67356</th>\n",
       "      <td>La Bachata</td>\n",
       "      <td>Manuel Turizo</td>\n",
       "      <td>5ww2BF9slyYgNOk37BlC4u</td>\n",
       "      <td>98</td>\n",
       "    </tr>\n",
       "    <tr>\n",
       "      <th>88410</th>\n",
       "      <td>La Bachata</td>\n",
       "      <td>Manuel Turizo</td>\n",
       "      <td>5ww2BF9slyYgNOk37BlC4u</td>\n",
       "      <td>98</td>\n",
       "    </tr>\n",
       "    <tr>\n",
       "      <th>30003</th>\n",
       "      <td>I'm Good (Blue)</td>\n",
       "      <td>David Guetta;Bebe Rexha</td>\n",
       "      <td>4uUG5RXrOk84mYEfFvj3cK</td>\n",
       "      <td>98</td>\n",
       "    </tr>\n",
       "    <tr>\n",
       "      <th>89411</th>\n",
       "      <td>La Bachata</td>\n",
       "      <td>Manuel Turizo</td>\n",
       "      <td>5ww2BF9slyYgNOk37BlC4u</td>\n",
       "      <td>98</td>\n",
       "    </tr>\n",
       "    <tr>\n",
       "      <th>20008</th>\n",
       "      <td>I'm Good (Blue)</td>\n",
       "      <td>David Guetta;Bebe Rexha</td>\n",
       "      <td>4uUG5RXrOk84mYEfFvj3cK</td>\n",
       "      <td>98</td>\n",
       "    </tr>\n",
       "  </tbody>\n",
       "</table>\n",
       "</div>"
      ],
      "text/plain": [
       "                                  track_name                  artists  \\\n",
       "81051              Unholy (feat. Kim Petras)     Sam Smith;Kim Petras   \n",
       "20001              Unholy (feat. Kim Petras)     Sam Smith;Kim Petras   \n",
       "51664  Quevedo: Bzrp Music Sessions, Vol. 52         Bizarrap;Quevedo   \n",
       "68303                             La Bachata            Manuel Turizo   \n",
       "81210                        I'm Good (Blue)  David Guetta;Bebe Rexha   \n",
       "67356                             La Bachata            Manuel Turizo   \n",
       "88410                             La Bachata            Manuel Turizo   \n",
       "30003                        I'm Good (Blue)  David Guetta;Bebe Rexha   \n",
       "89411                             La Bachata            Manuel Turizo   \n",
       "20008                        I'm Good (Blue)  David Guetta;Bebe Rexha   \n",
       "\n",
       "                     track_id  popularity  \n",
       "81051  3nqQXoyQOWXiESFLlDF1hG         100  \n",
       "20001  3nqQXoyQOWXiESFLlDF1hG         100  \n",
       "51664  2tTmW7RDtMQtBk7m2rYeSw          99  \n",
       "68303  5ww2BF9slyYgNOk37BlC4u          98  \n",
       "81210  4uUG5RXrOk84mYEfFvj3cK          98  \n",
       "67356  5ww2BF9slyYgNOk37BlC4u          98  \n",
       "88410  5ww2BF9slyYgNOk37BlC4u          98  \n",
       "30003  4uUG5RXrOk84mYEfFvj3cK          98  \n",
       "89411  5ww2BF9slyYgNOk37BlC4u          98  \n",
       "20008  4uUG5RXrOk84mYEfFvj3cK          98  "
      ]
     },
     "execution_count": 20,
     "metadata": {},
     "output_type": "execute_result"
    }
   ],
   "source": [
    "#top 10 most popular tracks\n",
    "spotify_df.sort_values(by=['popularity'], ascending=False)[['track_name', 'artists', 'track_id', 'popularity']].head(10)"
   ]
  },
  {
   "attachments": {},
   "cell_type": "markdown",
   "metadata": {},
   "source": [
    "It appears that even after dropping duplicates, some still remain in the dataset. To further clean the data, I will try specifying the 'track_id' as the unique identifier for each song. Since the 'track_id' should be unique for each track, this approach may help resolve the issue of duplicates. Duplicates in the 'track_id' column could arise from various reasons, such as multiple versions or releases of the same song, remixes, or discrepancies in data sources. By using the 'track_id' as a unique identifier and removing duplicates based on this column, I can ensure that I have a clean and distinct representation of each song in the dataset, which will contribute to more accurate analysis and visualization."
   ]
  },
  {
   "cell_type": "code",
   "execution_count": 21,
   "metadata": {},
   "outputs": [],
   "source": [
    "spotify_df.drop_duplicates(subset='track_id', keep='first', inplace=True)\n"
   ]
  },
  {
   "cell_type": "code",
   "execution_count": 22,
   "metadata": {},
   "outputs": [
    {
     "data": {
      "text/plain": [
       "(89740, 20)"
      ]
     },
     "execution_count": 22,
     "metadata": {},
     "output_type": "execute_result"
    }
   ],
   "source": [
    "spotify_df.shape"
   ]
  },
  {
   "cell_type": "code",
   "execution_count": 23,
   "metadata": {},
   "outputs": [
    {
     "data": {
      "text/html": [
       "<div>\n",
       "<style scoped>\n",
       "    .dataframe tbody tr th:only-of-type {\n",
       "        vertical-align: middle;\n",
       "    }\n",
       "\n",
       "    .dataframe tbody tr th {\n",
       "        vertical-align: top;\n",
       "    }\n",
       "\n",
       "    .dataframe thead th {\n",
       "        text-align: right;\n",
       "    }\n",
       "</style>\n",
       "<table border=\"1\" class=\"dataframe\">\n",
       "  <thead>\n",
       "    <tr style=\"text-align: right;\">\n",
       "      <th></th>\n",
       "      <th>track_name</th>\n",
       "      <th>artists</th>\n",
       "      <th>track_id</th>\n",
       "      <th>popularity</th>\n",
       "    </tr>\n",
       "  </thead>\n",
       "  <tbody>\n",
       "    <tr>\n",
       "      <th>20001</th>\n",
       "      <td>Unholy (feat. Kim Petras)</td>\n",
       "      <td>Sam Smith;Kim Petras</td>\n",
       "      <td>3nqQXoyQOWXiESFLlDF1hG</td>\n",
       "      <td>100</td>\n",
       "    </tr>\n",
       "    <tr>\n",
       "      <th>51664</th>\n",
       "      <td>Quevedo: Bzrp Music Sessions, Vol. 52</td>\n",
       "      <td>Bizarrap;Quevedo</td>\n",
       "      <td>2tTmW7RDtMQtBk7m2rYeSw</td>\n",
       "      <td>99</td>\n",
       "    </tr>\n",
       "    <tr>\n",
       "      <th>20008</th>\n",
       "      <td>I'm Good (Blue)</td>\n",
       "      <td>David Guetta;Bebe Rexha</td>\n",
       "      <td>4uUG5RXrOk84mYEfFvj3cK</td>\n",
       "      <td>98</td>\n",
       "    </tr>\n",
       "    <tr>\n",
       "      <th>67356</th>\n",
       "      <td>La Bachata</td>\n",
       "      <td>Manuel Turizo</td>\n",
       "      <td>5ww2BF9slyYgNOk37BlC4u</td>\n",
       "      <td>98</td>\n",
       "    </tr>\n",
       "    <tr>\n",
       "      <th>67358</th>\n",
       "      <td>Me Porto Bonito</td>\n",
       "      <td>Bad Bunny;Chencho Corleone</td>\n",
       "      <td>6Sq7ltF9Qa7SNFBsV5Cogx</td>\n",
       "      <td>97</td>\n",
       "    </tr>\n",
       "    <tr>\n",
       "      <th>67359</th>\n",
       "      <td>Tití Me Preguntó</td>\n",
       "      <td>Bad Bunny</td>\n",
       "      <td>1IHWl5LamUGEuP4ozKQSXZ</td>\n",
       "      <td>97</td>\n",
       "    </tr>\n",
       "    <tr>\n",
       "      <th>67559</th>\n",
       "      <td>Efecto</td>\n",
       "      <td>Bad Bunny</td>\n",
       "      <td>5Eax0qFko2dh7Rl2lYs3bx</td>\n",
       "      <td>96</td>\n",
       "    </tr>\n",
       "    <tr>\n",
       "      <th>20000</th>\n",
       "      <td>Under The Influence</td>\n",
       "      <td>Chris Brown</td>\n",
       "      <td>5IgjP7X4th6nMNDh4akUHb</td>\n",
       "      <td>96</td>\n",
       "    </tr>\n",
       "    <tr>\n",
       "      <th>79000</th>\n",
       "      <td>I Ain't Worried</td>\n",
       "      <td>OneRepublic</td>\n",
       "      <td>4h9wh7iOZ0GGn8QVp4RAOB</td>\n",
       "      <td>96</td>\n",
       "    </tr>\n",
       "    <tr>\n",
       "      <th>81052</th>\n",
       "      <td>As It Was</td>\n",
       "      <td>Harry Styles</td>\n",
       "      <td>4LRPiXqCikLlN15c3yImP7</td>\n",
       "      <td>95</td>\n",
       "    </tr>\n",
       "  </tbody>\n",
       "</table>\n",
       "</div>"
      ],
      "text/plain": [
       "                                  track_name                     artists  \\\n",
       "20001              Unholy (feat. Kim Petras)        Sam Smith;Kim Petras   \n",
       "51664  Quevedo: Bzrp Music Sessions, Vol. 52            Bizarrap;Quevedo   \n",
       "20008                        I'm Good (Blue)     David Guetta;Bebe Rexha   \n",
       "67356                             La Bachata               Manuel Turizo   \n",
       "67358                        Me Porto Bonito  Bad Bunny;Chencho Corleone   \n",
       "67359                       Tití Me Preguntó                   Bad Bunny   \n",
       "67559                                 Efecto                   Bad Bunny   \n",
       "20000                    Under The Influence                 Chris Brown   \n",
       "79000                        I Ain't Worried                 OneRepublic   \n",
       "81052                              As It Was                Harry Styles   \n",
       "\n",
       "                     track_id  popularity  \n",
       "20001  3nqQXoyQOWXiESFLlDF1hG         100  \n",
       "51664  2tTmW7RDtMQtBk7m2rYeSw          99  \n",
       "20008  4uUG5RXrOk84mYEfFvj3cK          98  \n",
       "67356  5ww2BF9slyYgNOk37BlC4u          98  \n",
       "67358  6Sq7ltF9Qa7SNFBsV5Cogx          97  \n",
       "67359  1IHWl5LamUGEuP4ozKQSXZ          97  \n",
       "67559  5Eax0qFko2dh7Rl2lYs3bx          96  \n",
       "20000  5IgjP7X4th6nMNDh4akUHb          96  \n",
       "79000  4h9wh7iOZ0GGn8QVp4RAOB          96  \n",
       "81052  4LRPiXqCikLlN15c3yImP7          95  "
      ]
     },
     "execution_count": 23,
     "metadata": {},
     "output_type": "execute_result"
    }
   ],
   "source": [
    "#top 10 most popular tracks\n",
    "spotify_df.sort_values(by=['popularity'], ascending=False)[['track_name', 'artists', 'track_id', 'popularity']].head(10)"
   ]
  },
  {
   "attachments": {},
   "cell_type": "markdown",
   "metadata": {},
   "source": [
    "That's better. It's evident that Bad Bunny has gained significant popularity in recent times."
   ]
  },
  {
   "attachments": {},
   "cell_type": "markdown",
   "metadata": {},
   "source": [
    "### Top 10 artists by popularity"
   ]
  },
  {
   "attachments": {},
   "cell_type": "markdown",
   "metadata": {},
   "source": [
    "There is no column that explicitly indicates an artist's popularity in the given dataset. To determine the popularity of an artist, I have considered artists who have a significant number of songs with a popularity score of over 50. The threshold of 50 is chosen based on the 3rd quartile of the popularity scores of the songs, which indicates a relatively high level of popularity. Hence, artists with the most songs that exceed this popularity threshold are considered popular in this analysis."
   ]
  },
  {
   "cell_type": "code",
   "execution_count": 24,
   "metadata": {},
   "outputs": [],
   "source": [
    "#top 10 artists by popularity\n",
    "popular_songs = spotify_df[spotify_df['popularity'] > 50]\n",
    "artist_popularity = popular_songs.groupby(\"artists\").count()[\"popularity\"]\n",
    "artist_popularity_sorted = artist_popularity.sort_values(ascending=False)\n",
    "popular_artists = artist_popularity_sorted.head(10)"
   ]
  },
  {
   "cell_type": "code",
   "execution_count": 25,
   "metadata": {},
   "outputs": [
    {
     "data": {
      "image/png": "[encoded data removed]",
      "text/plain": [
       "<Figure size 1152x576 with 1 Axes>"
      ]
     },
     "metadata": {
      "needs_background": "light"
     },
     "output_type": "display_data"
    }
   ],
   "source": [
    "def generate_horizontal_bar_chart(df, title):\n",
    "    \"\"\"\n",
    "    Generate a horizontal bar chart with annotations.\n",
    "\n",
    "    Args:\n",
    "        df (pd.DataFrame): Input dataframe.\n",
    "        title (str): Title of the plot.\n",
    "\n",
    "    Returns:\n",
    "        None\n",
    "    \"\"\"\n",
    "    # Sort the dataframe by the values in ascending order\n",
    "    df_sorted = df.sort_values(ascending=True)\n",
    "\n",
    "    # Create the horizontal bar chart\n",
    "    plot = df_sorted.plot(kind='barh', xlabel='', figsize=(16, 8), width=0.8)\n",
    "\n",
    "    # Set the title and other plot properties\n",
    "    plt.title(title, size=16, alpha=0.8, weight='bold')\n",
    "    plt.gca().spines['top'].set_visible(False)\n",
    "    plt.gca().spines['right'].set_visible(False)\n",
    "    plt.gca().spines['left'].set_visible(False)\n",
    "    plt.tick_params(bottom=False, left=False)\n",
    "\n",
    "    rects = plot.patches\n",
    "\n",
    "    # For each bar: Place a label\n",
    "    for rect in rects:\n",
    "        # Get X and Y placement of label from rect.\n",
    "        x_value = rect.get_width()\n",
    "        y_value = rect.get_y() + rect.get_height() / 2\n",
    "\n",
    "        # Number of points between bar and label. Change to your liking.\n",
    "        space = -50\n",
    "        # Vertical alignment for positive values\n",
    "        ha = 'left'\n",
    "\n",
    "        # If value of bar is negative: Place label left of bar\n",
    "        if x_value < 0:\n",
    "            # Invert space to place label to the left\n",
    "            space *= -1\n",
    "            # Horizontally align label at right\n",
    "            ha = 'right'\n",
    "\n",
    "        # Use X value as label and format number with one decimal place\n",
    "        label = \"{:.0f}\".format(x_value)\n",
    "\n",
    "        # Create annotation\n",
    "        plt.annotate(\n",
    "            label,                      # Use `label` as label\n",
    "            (x_value, y_value),         # Place label at end of the bar\n",
    "            xytext=(space, 0),          # Horizontally shift label by `space`\n",
    "            textcoords=\"offset points\", # Interpret `xytext` as offset in points\n",
    "            va='center',                # Vertically center label\n",
    "            ha=ha,\n",
    "            color='white',\n",
    "            weight='bold',\n",
    "            size=14)\n",
    "    plt.show()\n",
    "\n",
    "\n",
    "generate_horizontal_bar_chart(popular_artists, 'Top 10 Popular Artists')"
   ]
  },
  {
   "cell_type": "code",
   "execution_count": 26,
   "metadata": {},
   "outputs": [
    {
     "data": {
      "text/plain": [
       "Index(['track_id', 'artists', 'album_name', 'track_name', 'popularity',\n",
       "       'duration_ms', 'explicit', 'danceability', 'energy', 'key', 'loudness',\n",
       "       'mode', 'speechiness', 'acousticness', 'instrumentalness', 'liveness',\n",
       "       'valence', 'tempo', 'time_signature', 'track_genre'],\n",
       "      dtype='object')"
      ]
     },
     "execution_count": 26,
     "metadata": {},
     "output_type": "execute_result"
    }
   ],
   "source": [
    "spotify_df.columns"
   ]
  },
  {
   "attachments": {},
   "cell_type": "markdown",
   "metadata": {},
   "source": [
    "### Top 5 longest songs"
   ]
  },
  {
   "cell_type": "code",
   "execution_count": 27,
   "metadata": {},
   "outputs": [
    {
     "data": {
      "image/png": "[encoded data removed]",
      "text/plain": [
       "<Figure size 1152x576 with 1 Axes>"
      ]
     },
     "metadata": {
      "needs_background": "light"
     },
     "output_type": "display_data"
    }
   ],
   "source": [
    "#top 5 longest songs\n",
    "def generate_horizontal_bar_chart(df, title):\n",
    "    \"\"\"\n",
    "    Generate a horizontal bar chart with annotations.\n",
    "\n",
    "    Args:\n",
    "        df (pd.DataFrame): Input dataframe.\n",
    "        title (str): Title of the plot.\n",
    "\n",
    "    Returns:\n",
    "        None\n",
    "    \"\"\"\n",
    "    # Sort the dataframe by the 'duration_ms' column in descending order\n",
    "    df_sorted = df.sort_values(by='duration_ms', ascending=True)\n",
    "\n",
    "    # Create the horizontal bar chart\n",
    "    plot = df_sorted.plot(kind='barh',  xlabel='',x='track_name', y='duration_ms', figsize=(16, 8), width=0.8, legend=False)\n",
    "\n",
    "    # Set the title and other plot properties\n",
    "    plt.title(title, size=16, alpha=0.8, weight='bold')\n",
    "    plt.gca().spines['top'].set_visible(False)\n",
    "    plt.gca().spines['right'].set_visible(False)\n",
    "    plt.gca().spines['left'].set_visible(False)\n",
    "    plt.tick_params(bottom=False, left=False)\n",
    "    plt.xlabel('Duration (min)', fontsize=14) # Add x-axis label for duration\n",
    "\n",
    "    rects = plot.patches\n",
    "\n",
    "    # For each bar: Place a label\n",
    "    for rect in rects:\n",
    "        # Get X and Y placement of label from rect.\n",
    "        x_value = rect.get_width()\n",
    "        y_value = rect.get_y() + rect.get_height() / 2\n",
    "\n",
    "        # Number of points between bar and label. Change to your liking.\n",
    "        space = -50\n",
    "        # Vertical alignment for positive values\n",
    "        ha = 'left'\n",
    "\n",
    "        # If value of bar is negative: Place label left of bar\n",
    "        if x_value < 0:\n",
    "            # Invert space to place label to the left\n",
    "            space *= -1\n",
    "            # Horizontally align label at right\n",
    "            ha = 'right'\n",
    "\n",
    "        # Use X value as label and format number with one decimal place\n",
    "        label = \"{:.0f}\".format(x_value)\n",
    "\n",
    "        # Create annotation\n",
    "        plt.annotate(\n",
    "            label,                      # Use `label` as label\n",
    "            (x_value, y_value),         # Place label at end of the bar\n",
    "            xytext=(space, 0),          # Horizontally shift label by `space`\n",
    "            textcoords=\"offset points\", # Interpret `xytext` as offset in points\n",
    "            va='center',                # Vertically center label\n",
    "            ha=ha,\n",
    "            color='white',\n",
    "            weight='bold',\n",
    "            size=14)\n",
    "    plt.show()\n",
    "longest_tracks = spotify_df.sort_values(by=['duration_ms'], ascending=False)[['track_name', 'duration_ms']].head(5)\n",
    "generate_horizontal_bar_chart(longest_tracks, 'Top 5 Longest Tracks')\n"
   ]
  },
  {
   "attachments": {},
   "cell_type": "markdown",
   "metadata": {},
   "source": [
    "### Most popular genres"
   ]
  },
  {
   "cell_type": "code",
   "execution_count": 28,
   "metadata": {},
   "outputs": [
    {
     "data": {
      "text/html": [
       "<div>\n",
       "<style scoped>\n",
       "    .dataframe tbody tr th:only-of-type {\n",
       "        vertical-align: middle;\n",
       "    }\n",
       "\n",
       "    .dataframe tbody tr th {\n",
       "        vertical-align: top;\n",
       "    }\n",
       "\n",
       "    .dataframe thead th {\n",
       "        text-align: right;\n",
       "    }\n",
       "</style>\n",
       "<table border=\"1\" class=\"dataframe\">\n",
       "  <thead>\n",
       "    <tr style=\"text-align: right;\">\n",
       "      <th></th>\n",
       "      <th>popularity_mean</th>\n",
       "      <th>count</th>\n",
       "    </tr>\n",
       "    <tr>\n",
       "      <th>track_genre</th>\n",
       "      <th></th>\n",
       "      <th></th>\n",
       "    </tr>\n",
       "  </thead>\n",
       "  <tbody>\n",
       "    <tr>\n",
       "      <th>acoustic</th>\n",
       "      <td>42.483000</td>\n",
       "      <td>1000</td>\n",
       "    </tr>\n",
       "    <tr>\n",
       "      <th>alt-rock</th>\n",
       "      <td>33.896897</td>\n",
       "      <td>999</td>\n",
       "    </tr>\n",
       "    <tr>\n",
       "      <th>tango</th>\n",
       "      <td>19.866867</td>\n",
       "      <td>999</td>\n",
       "    </tr>\n",
       "    <tr>\n",
       "      <th>ambient</th>\n",
       "      <td>44.208208</td>\n",
       "      <td>999</td>\n",
       "    </tr>\n",
       "    <tr>\n",
       "      <th>afrobeat</th>\n",
       "      <td>24.407407</td>\n",
       "      <td>999</td>\n",
       "    </tr>\n",
       "    <tr>\n",
       "      <th>cantopop</th>\n",
       "      <td>34.753754</td>\n",
       "      <td>999</td>\n",
       "    </tr>\n",
       "    <tr>\n",
       "      <th>bluegrass</th>\n",
       "      <td>25.681363</td>\n",
       "      <td>998</td>\n",
       "    </tr>\n",
       "    <tr>\n",
       "      <th>forro</th>\n",
       "      <td>41.831663</td>\n",
       "      <td>998</td>\n",
       "    </tr>\n",
       "    <tr>\n",
       "      <th>study</th>\n",
       "      <td>26.128257</td>\n",
       "      <td>998</td>\n",
       "    </tr>\n",
       "    <tr>\n",
       "      <th>chicago-house</th>\n",
       "      <td>12.333667</td>\n",
       "      <td>998</td>\n",
       "    </tr>\n",
       "  </tbody>\n",
       "</table>\n",
       "</div>"
      ],
      "text/plain": [
       "               popularity_mean  count\n",
       "track_genre                          \n",
       "acoustic             42.483000   1000\n",
       "alt-rock             33.896897    999\n",
       "tango                19.866867    999\n",
       "ambient              44.208208    999\n",
       "afrobeat             24.407407    999\n",
       "cantopop             34.753754    999\n",
       "bluegrass            25.681363    998\n",
       "forro                41.831663    998\n",
       "study                26.128257    998\n",
       "chicago-house        12.333667    998"
      ]
     },
     "execution_count": 28,
     "metadata": {},
     "output_type": "execute_result"
    }
   ],
   "source": [
    "#how many genres there are in the data\n",
    "genre_stats = spotify_df.groupby('track_genre').agg({\"popularity\":np.nanmean, \"track_genre\": \"count\"})\n",
    "\n",
    "genre_stats.columns = ['popularity_mean', 'count']\n",
    "\n",
    "common_genres = genre_stats.sort_values(by=['count'], ascending=False).head(10)\n",
    "\n",
    "common_genres"
   ]
  },
  {
   "attachments": {},
   "cell_type": "markdown",
   "metadata": {},
   "source": [
    "By examining the data, we can observe that the most common genres, in terms of frequency, may not necessarily be the most popular genres. To determine the popularity of genres, we can group them together and calculate the average popularity of tracks within each genre. This approach provides insights into the genres that have the highest average popularity among the tracks in the dataset."
   ]
  },
  {
   "cell_type": "code",
   "execution_count": 29,
   "metadata": {},
   "outputs": [],
   "source": [
    "#top 10 most popular genres in average\n",
    "top_10_genres = spotify_df.groupby('track_genre').agg({\"popularity\":np.nanmean, \"track_genre\": \"count\"}).sort_values(by=['popularity'], ascending=False).head(10)\n",
    "\n",
    "top_10_genres.columns = ['popularity_mean', 'count']\n",
    "\n",
    "top_10_genres = top_10_genres.reset_index()"
   ]
  },
  {
   "cell_type": "code",
   "execution_count": 30,
   "metadata": {},
   "outputs": [
    {
     "data": {
      "text/html": [
       "<div>\n",
       "<style scoped>\n",
       "    .dataframe tbody tr th:only-of-type {\n",
       "        vertical-align: middle;\n",
       "    }\n",
       "\n",
       "    .dataframe tbody tr th {\n",
       "        vertical-align: top;\n",
       "    }\n",
       "\n",
       "    .dataframe thead th {\n",
       "        text-align: right;\n",
       "    }\n",
       "</style>\n",
       "<table border=\"1\" class=\"dataframe\">\n",
       "  <thead>\n",
       "    <tr style=\"text-align: right;\">\n",
       "      <th></th>\n",
       "      <th>track_genre</th>\n",
       "      <th>popularity_mean</th>\n",
       "      <th>count</th>\n",
       "    </tr>\n",
       "  </thead>\n",
       "  <tbody>\n",
       "    <tr>\n",
       "      <th>0</th>\n",
       "      <td>k-pop</td>\n",
       "      <td>59.423581</td>\n",
       "      <td>916</td>\n",
       "    </tr>\n",
       "    <tr>\n",
       "      <th>1</th>\n",
       "      <td>pop-film</td>\n",
       "      <td>59.096933</td>\n",
       "      <td>815</td>\n",
       "    </tr>\n",
       "    <tr>\n",
       "      <th>2</th>\n",
       "      <td>metal</td>\n",
       "      <td>56.422414</td>\n",
       "      <td>232</td>\n",
       "    </tr>\n",
       "    <tr>\n",
       "      <th>3</th>\n",
       "      <td>chill</td>\n",
       "      <td>53.738683</td>\n",
       "      <td>972</td>\n",
       "    </tr>\n",
       "    <tr>\n",
       "      <th>4</th>\n",
       "      <td>latino</td>\n",
       "      <td>51.788945</td>\n",
       "      <td>398</td>\n",
       "    </tr>\n",
       "    <tr>\n",
       "      <th>5</th>\n",
       "      <td>sad</td>\n",
       "      <td>51.109929</td>\n",
       "      <td>564</td>\n",
       "    </tr>\n",
       "    <tr>\n",
       "      <th>6</th>\n",
       "      <td>grunge</td>\n",
       "      <td>50.587007</td>\n",
       "      <td>862</td>\n",
       "    </tr>\n",
       "    <tr>\n",
       "      <th>7</th>\n",
       "      <td>indian</td>\n",
       "      <td>49.765348</td>\n",
       "      <td>733</td>\n",
       "    </tr>\n",
       "    <tr>\n",
       "      <th>8</th>\n",
       "      <td>anime</td>\n",
       "      <td>48.776884</td>\n",
       "      <td>995</td>\n",
       "    </tr>\n",
       "    <tr>\n",
       "      <th>9</th>\n",
       "      <td>emo</td>\n",
       "      <td>48.500000</td>\n",
       "      <td>932</td>\n",
       "    </tr>\n",
       "  </tbody>\n",
       "</table>\n",
       "</div>"
      ],
      "text/plain": [
       "  track_genre  popularity_mean  count\n",
       "0       k-pop        59.423581    916\n",
       "1    pop-film        59.096933    815\n",
       "2       metal        56.422414    232\n",
       "3       chill        53.738683    972\n",
       "4      latino        51.788945    398\n",
       "5         sad        51.109929    564\n",
       "6      grunge        50.587007    862\n",
       "7      indian        49.765348    733\n",
       "8       anime        48.776884    995\n",
       "9         emo        48.500000    932"
      ]
     },
     "execution_count": 30,
     "metadata": {},
     "output_type": "execute_result"
    }
   ],
   "source": [
    "top_10_genres"
   ]
  },
  {
   "cell_type": "code",
   "execution_count": 31,
   "metadata": {},
   "outputs": [
    {
     "data": {
      "image/png": "[encoded data removed]",
      "text/plain": [
       "<Figure size 1152x576 with 1 Axes>"
      ]
     },
     "metadata": {
      "needs_background": "light"
     },
     "output_type": "display_data"
    }
   ],
   "source": [
    "\n",
    "def generate_horizontal_bar_chart(df, title):\n",
    "    \"\"\"\n",
    "    Generate a horizontal bar chart with annotations.\n",
    "\n",
    "    Args:\n",
    "        df (pd.DataFrame): Input dataframe.\n",
    "        title (str): Title of the plot.\n",
    "\n",
    "    Returns:\n",
    "        None\n",
    "    \"\"\"\n",
    "    # Sort the dataframe by the 'popularity_mean' column in descending order\n",
    "    df_sorted = df.sort_values(by='popularity_mean', ascending=True)\n",
    "\n",
    "    # Calculate the average popularity of the dataset\n",
    "    avg_popularity = df['popularity_mean'].mean()\n",
    "\n",
    "    # Create the horizontal bar chart\n",
    "    plot = df_sorted.plot(kind='barh',  xlabel='',x='track_genre', y='popularity_mean', figsize=(16, 8), width=0.8, legend=False)\n",
    "\n",
    "    # Set the title and other plot properties\n",
    "    plt.title(title, size=16, alpha=0.8, weight='bold')\n",
    "    plt.gca().spines['top'].set_visible(False)\n",
    "    plt.gca().spines['right'].set_visible(False)\n",
    "    plt.gca().spines['left'].set_visible(False)\n",
    "    plt.tick_params(bottom=False, left=False)\n",
    "    plt.xlabel('Popularity Mean', fontsize=14) # Add x-axis label for popularity mean\n",
    "\n",
    "    rects = plot.patches\n",
    "\n",
    "    # For each bar: Place a label\n",
    "    for rect in rects:\n",
    "        # Get X and Y placement of label from rect.\n",
    "        x_value = rect.get_width()\n",
    "        y_value = rect.get_y() + rect.get_height() / 2\n",
    "\n",
    "        # Number of points between bar and label. Change to your liking.\n",
    "        space = -50\n",
    "        # Vertical alignment for positive values\n",
    "        ha = 'left'\n",
    "\n",
    "        # If value of bar is negative: Place label left of bar\n",
    "        if x_value < 0:\n",
    "            # Invert space to place label to the left\n",
    "            space *= -1\n",
    "            # Horizontally align label at right\n",
    "            ha = 'right'\n",
    "\n",
    "        # Use X value as label and format number with one decimal place\n",
    "        label = \"{:.0f}\".format(x_value)\n",
    "\n",
    "        # Create annotation\n",
    "        plt.annotate(\n",
    "            label,                      # Use `label` as label\n",
    "            (x_value, y_value),         # Place label at end of the bar\n",
    "            xytext=(space, 0),          # Horizontally shift label by `space`\n",
    "            textcoords=\"offset points\", # Interpret `xytext` as offset in points\n",
    "            va='center',                # Vertically center label\n",
    "            ha=ha,\n",
    "            color='white',\n",
    "            weight='bold',\n",
    "            size=14)\n",
    "\n",
    "    # Add a horizontal line for the average popularity of the dataset\n",
    "    plt.axvline(avg_popularity, color='red', linestyle='dashed', linewidth=2, label='Average Popularity')\n",
    "\n",
    "    # Add a legend\n",
    "    plt.legend(loc = 4,frameon= True, fontsize= 12)\n",
    "\n",
    "    plt.show()\n",
    "\n",
    "generate_horizontal_bar_chart(top_10_genres, \"Top 10 Genres by Popularity Mean\")\n",
    "\n"
   ]
  },
  {
   "attachments": {},
   "cell_type": "markdown",
   "metadata": {},
   "source": [
    "The horizontal bar chart illustrates the top 10 genres based on their popularity mean, with genres sorted in ascending order. Each bar represents the popularity mean of a genre, accompanied by annotations displaying the corresponding value at the end of each bar. The chart also features a red dashed line that indicates the average popularity of the dataset. Notably, genres such as k-pop, pop-film, metal, and chill not only exhibit popularity on their own, but also boast popularity means that surpass the dataset's average, indicating their higher level of popularity compared to other genres."
   ]
  },
  {
   "attachments": {},
   "cell_type": "markdown",
   "metadata": {},
   "source": [
    "## Correlation"
   ]
  },
  {
   "attachments": {},
   "cell_type": "markdown",
   "metadata": {},
   "source": [
    "Correlation is a valuable tool for identifying relationships between variables, including the direction and strength of those relationships. For example, in the context of analyzing music popularity, correlation can be used to determine whether there is a positive or negative relationship between popularity and each audio feature, and to assess the strength of that relationship. By examining correlation coefficients, we can gain insights into how different audio features may influence music popularity, helping us understand the underlying patterns and trends in the data."
   ]
  },
  {
   "cell_type": "code",
   "execution_count": 32,
   "metadata": {},
   "outputs": [
    {
     "data": {
      "text/plain": [
       "<AxesSubplot:>"
      ]
     },
     "execution_count": 32,
     "metadata": {},
     "output_type": "execute_result"
    },
    {
     "data": {
      "image/png": "[encoded data removed]",
      "text/plain": [
       "<Figure size 1152x576 with 2 Axes>"
      ]
     },
     "metadata": {},
     "output_type": "display_data"
    }
   ],
   "source": [
    "sns.set(rc = {'figure.figsize':(16, 8)})\n",
    "sns.heatmap(spotify_df.corr(), annot=True)"
   ]
  },
  {
   "attachments": {},
   "cell_type": "markdown",
   "metadata": {},
   "source": [
    "The correlation analysis reveals interesting insights about the relationships between audio features. For example:\n",
    "- There is a negative correlation between acousticness and energy, indicating that songs with higher acousticness tend to have lower energy. This relationship is intuitive, as acoustic songs are often associated with a more calm and relaxed vibe. \n",
    "- There is a positive but weak correlation (0.49) between valence and danceability, suggesting that songs with more positive tones are slightly more danceable. \n",
    "- However, when it comes to popularity, **there is no clear indication of a significant correlation with any of the audio features analyzed in the correlation map. This suggests that popularity may be influenced by other factors beyond the audio features considered in this analysis**."
   ]
  }
 ],
 "metadata": {
  "kernelspec": {
   "display_name": "base",
   "language": "python",
   "name": "python3"
  },
  "language_info": {
   "codemirror_mode": {
    "name": "ipython",
    "version": 3
   },
   "file_extension": ".py",
   "mimetype": "text/x-python",
   "name": "python",
   "nbconvert_exporter": "python",
   "pygments_lexer": "ipython3",
   "version": "3.9.12"
  },
  "orig_nbformat": 4
 },
 "nbformat": 4,
 "nbformat_minor": 2
}
