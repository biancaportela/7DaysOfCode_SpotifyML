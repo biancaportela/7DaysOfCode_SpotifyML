{
 "cells": [
  {
   "attachments": {},
   "cell_type": "markdown",
   "metadata": {},
   "source": [
    "# 7DaysOfCode - Machine Learning \n",
    "\n",
    "## Day-2: Data Pre-processing"
   ]
  },
  {
   "attachments": {},
   "cell_type": "markdown",
   "metadata": {},
   "source": [
    "Pre-processing is a crucial step in the Machine Learning workflow as it ensures the quality of our data. This step involves cleaning, organizing, and transforming raw data into high-quality data that can be used to train models. Properly preprocessed data directly impacts the ability of our models to learn and make accurate predictions.\n",
    "\n",
    "Some of the data preprocessing steps, such as handling null values and duplicates, were already addressed earlier in this documentation. In this step, I will focus on enriching the dataset, standardization, and checking for multicollinearity. "
   ]
  },
  {
   "cell_type": "code",
   "execution_count": 161,
   "metadata": {},
   "outputs": [],
   "source": [
    "\n",
    "#importing the libraries\n",
    "\n",
    "import numpy as np\n",
    "import pandas as pd\n",
    "import matplotlib.pyplot as plt\n",
    "import seaborn as sns\n",
    "\n",
    "\n",
    "#models\n",
    "from sklearn.preprocessing import StandardScaler\n",
    "from sklearn.model_selection import train_test_split\n",
    "from sklearn.model_selection import StratifiedKFold\n",
    "from sklearn.dummy import DummyClassifier\n",
    "from sklearn.linear_model import LogisticRegression\n",
    "from sklearn.neighbors import KNeighborsClassifier\n",
    "from sklearn.tree import DecisionTreeClassifier\n",
    "from sklearn.ensemble import RandomForestClassifier\n",
    "import xgboost as xgb\n",
    "from sklearn.model_selection import cross_val_score\n",
    "from sklearn.model_selection import cross_val_predict\n",
    "from sklearn.model_selection import RandomizedSearchCV\n",
    "from yellowbrick.model_selection import ValidationCurve, LearningCurve\n",
    "\n",
    "#metrics\n",
    "from sklearn.metrics import accuracy_score, recall_score, precision_score, f1_score, confusion_matrix, roc_auc_score, accuracy_score, classification_report\n",
    "from sklearn.metrics import precision_recall_curve, average_precision_score, confusion_matrix, auc, roc_curve, average_precision_score\n",
    "from sklearn.exceptions import FitFailedWarning\n",
    "\n",
    "\n",
    "#resampling\n",
    "from imblearn.over_sampling import RandomOverSampler, SMOTE\n",
    "from imblearn.under_sampling import NearMiss, TomekLinks\n",
    "from imblearn.combine import SMOTETomek\n",
    "\n",
    "#others\n",
    "\n",
    "import time\n",
    "from imblearn.pipeline import Pipeline\n",
    "from imblearn.pipeline import make_pipeline as imbalanced_make_pipeline\n",
    "from collections import Counter\n",
    "import pickle\n",
    "\n",
    "\n",
    "pd.set_option('display.max_columns', None)"
   ]
  },
  {
   "cell_type": "code",
   "execution_count": 46,
   "metadata": {},
   "outputs": [],
   "source": [
    "spotify_df = pd.read_csv(\"C:/Users/SAMSUNG/OneDrive/Documentos/GitHub/7DaysOfCode_SpotifyML/data/day_one.csv\")"
   ]
  },
  {
   "cell_type": "code",
   "execution_count": 47,
   "metadata": {},
   "outputs": [
    {
     "data": {
      "text/plain": [
       "(89740, 20)"
      ]
     },
     "execution_count": 47,
     "metadata": {},
     "output_type": "execute_result"
    }
   ],
   "source": [
    "spotify_df.shape"
   ]
  },
  {
   "attachments": {},
   "cell_type": "markdown",
   "metadata": {},
   "source": [
    "## Creating the binary class"
   ]
  },
  {
   "attachments": {},
   "cell_type": "markdown",
   "metadata": {},
   "source": [
    "As I am dealing with a binary classification problem, where the goal is to predict whether a song will be popular or not, I need to encode the 'popularity' column as the target variable. I have chosen a threshold of 70, which means that songs with a popularity score above 70 will be considered popular and encoded as 1, while those with a score below this threshold will be considered not popular and encoded as 0."
   ]
  },
  {
   "cell_type": "code",
   "execution_count": 48,
   "metadata": {},
   "outputs": [],
   "source": [
    "#target value: popularity\n",
    "spotify_df['popularity'] = spotify_df['popularity'].apply(lambda x: 1 if x > 70 else 0)"
   ]
  },
  {
   "attachments": {},
   "cell_type": "markdown",
   "metadata": {},
   "source": [
    "## Feature engineering\n",
    "Feature engineering is the process of creating new featurs or transforming existing features in a dataset to improve the perfomance of machine learning models. In this step I will remove irrelevant columns and create new features.\n"
   ]
  },
  {
   "cell_type": "code",
   "execution_count": 49,
   "metadata": {},
   "outputs": [
    {
     "data": {
      "text/html": [
       "<div>\n",
       "<style scoped>\n",
       "    .dataframe tbody tr th:only-of-type {\n",
       "        vertical-align: middle;\n",
       "    }\n",
       "\n",
       "    .dataframe tbody tr th {\n",
       "        vertical-align: top;\n",
       "    }\n",
       "\n",
       "    .dataframe thead th {\n",
       "        text-align: right;\n",
       "    }\n",
       "</style>\n",
       "<table border=\"1\" class=\"dataframe\">\n",
       "  <thead>\n",
       "    <tr style=\"text-align: right;\">\n",
       "      <th></th>\n",
       "      <th>track_id</th>\n",
       "      <th>artists</th>\n",
       "      <th>album_name</th>\n",
       "      <th>track_name</th>\n",
       "      <th>popularity</th>\n",
       "      <th>duration_ms</th>\n",
       "      <th>explicit</th>\n",
       "      <th>danceability</th>\n",
       "      <th>energy</th>\n",
       "      <th>key</th>\n",
       "      <th>loudness</th>\n",
       "      <th>mode</th>\n",
       "      <th>speechiness</th>\n",
       "      <th>acousticness</th>\n",
       "      <th>instrumentalness</th>\n",
       "      <th>liveness</th>\n",
       "      <th>valence</th>\n",
       "      <th>tempo</th>\n",
       "      <th>time_signature</th>\n",
       "      <th>track_genre</th>\n",
       "    </tr>\n",
       "  </thead>\n",
       "  <tbody>\n",
       "    <tr>\n",
       "      <th>0</th>\n",
       "      <td>5SuOikwiRyPMVoIQDJUgSV</td>\n",
       "      <td>Gen Hoshino</td>\n",
       "      <td>Comedy</td>\n",
       "      <td>Comedy</td>\n",
       "      <td>1</td>\n",
       "      <td>3.844433</td>\n",
       "      <td>False</td>\n",
       "      <td>0.676</td>\n",
       "      <td>0.4610</td>\n",
       "      <td>1</td>\n",
       "      <td>-6.746</td>\n",
       "      <td>0</td>\n",
       "      <td>0.1430</td>\n",
       "      <td>0.0322</td>\n",
       "      <td>0.000001</td>\n",
       "      <td>0.3580</td>\n",
       "      <td>0.715</td>\n",
       "      <td>87.917</td>\n",
       "      <td>4</td>\n",
       "      <td>acoustic</td>\n",
       "    </tr>\n",
       "    <tr>\n",
       "      <th>1</th>\n",
       "      <td>4qPNDBW1i3p13qLCt0Ki3A</td>\n",
       "      <td>Ben Woodward</td>\n",
       "      <td>Ghost (Acoustic)</td>\n",
       "      <td>Ghost - Acoustic</td>\n",
       "      <td>0</td>\n",
       "      <td>2.493500</td>\n",
       "      <td>False</td>\n",
       "      <td>0.420</td>\n",
       "      <td>0.1660</td>\n",
       "      <td>1</td>\n",
       "      <td>-17.235</td>\n",
       "      <td>1</td>\n",
       "      <td>0.0763</td>\n",
       "      <td>0.9240</td>\n",
       "      <td>0.000006</td>\n",
       "      <td>0.1010</td>\n",
       "      <td>0.267</td>\n",
       "      <td>77.489</td>\n",
       "      <td>4</td>\n",
       "      <td>acoustic</td>\n",
       "    </tr>\n",
       "    <tr>\n",
       "      <th>2</th>\n",
       "      <td>1iJBSr7s7jYXzM8EGcbK5b</td>\n",
       "      <td>Ingrid Michaelson;ZAYN</td>\n",
       "      <td>To Begin Again</td>\n",
       "      <td>To Begin Again</td>\n",
       "      <td>0</td>\n",
       "      <td>3.513767</td>\n",
       "      <td>False</td>\n",
       "      <td>0.438</td>\n",
       "      <td>0.3590</td>\n",
       "      <td>0</td>\n",
       "      <td>-9.734</td>\n",
       "      <td>1</td>\n",
       "      <td>0.0557</td>\n",
       "      <td>0.2100</td>\n",
       "      <td>0.000000</td>\n",
       "      <td>0.1170</td>\n",
       "      <td>0.120</td>\n",
       "      <td>76.332</td>\n",
       "      <td>4</td>\n",
       "      <td>acoustic</td>\n",
       "    </tr>\n",
       "    <tr>\n",
       "      <th>3</th>\n",
       "      <td>6lfxq3CG4xtTiEg7opyCyx</td>\n",
       "      <td>Kina Grannis</td>\n",
       "      <td>Crazy Rich Asians (Original Motion Picture Sou...</td>\n",
       "      <td>Can't Help Falling In Love</td>\n",
       "      <td>1</td>\n",
       "      <td>3.365550</td>\n",
       "      <td>False</td>\n",
       "      <td>0.266</td>\n",
       "      <td>0.0596</td>\n",
       "      <td>0</td>\n",
       "      <td>-18.515</td>\n",
       "      <td>1</td>\n",
       "      <td>0.0363</td>\n",
       "      <td>0.9050</td>\n",
       "      <td>0.000071</td>\n",
       "      <td>0.1320</td>\n",
       "      <td>0.143</td>\n",
       "      <td>181.740</td>\n",
       "      <td>3</td>\n",
       "      <td>acoustic</td>\n",
       "    </tr>\n",
       "    <tr>\n",
       "      <th>4</th>\n",
       "      <td>5vjLSffimiIP26QG5WcN2K</td>\n",
       "      <td>Chord Overstreet</td>\n",
       "      <td>Hold On</td>\n",
       "      <td>Hold On</td>\n",
       "      <td>1</td>\n",
       "      <td>3.314217</td>\n",
       "      <td>False</td>\n",
       "      <td>0.618</td>\n",
       "      <td>0.4430</td>\n",
       "      <td>2</td>\n",
       "      <td>-9.681</td>\n",
       "      <td>1</td>\n",
       "      <td>0.0526</td>\n",
       "      <td>0.4690</td>\n",
       "      <td>0.000000</td>\n",
       "      <td>0.0829</td>\n",
       "      <td>0.167</td>\n",
       "      <td>119.949</td>\n",
       "      <td>4</td>\n",
       "      <td>acoustic</td>\n",
       "    </tr>\n",
       "  </tbody>\n",
       "</table>\n",
       "</div>"
      ],
      "text/plain": [
       "                 track_id                 artists  \\\n",
       "0  5SuOikwiRyPMVoIQDJUgSV             Gen Hoshino   \n",
       "1  4qPNDBW1i3p13qLCt0Ki3A            Ben Woodward   \n",
       "2  1iJBSr7s7jYXzM8EGcbK5b  Ingrid Michaelson;ZAYN   \n",
       "3  6lfxq3CG4xtTiEg7opyCyx            Kina Grannis   \n",
       "4  5vjLSffimiIP26QG5WcN2K        Chord Overstreet   \n",
       "\n",
       "                                          album_name  \\\n",
       "0                                             Comedy   \n",
       "1                                   Ghost (Acoustic)   \n",
       "2                                     To Begin Again   \n",
       "3  Crazy Rich Asians (Original Motion Picture Sou...   \n",
       "4                                            Hold On   \n",
       "\n",
       "                   track_name  popularity  duration_ms  explicit  \\\n",
       "0                      Comedy           1     3.844433     False   \n",
       "1            Ghost - Acoustic           0     2.493500     False   \n",
       "2              To Begin Again           0     3.513767     False   \n",
       "3  Can't Help Falling In Love           1     3.365550     False   \n",
       "4                     Hold On           1     3.314217     False   \n",
       "\n",
       "   danceability  energy  key  loudness  mode  speechiness  acousticness  \\\n",
       "0         0.676  0.4610    1    -6.746     0       0.1430        0.0322   \n",
       "1         0.420  0.1660    1   -17.235     1       0.0763        0.9240   \n",
       "2         0.438  0.3590    0    -9.734     1       0.0557        0.2100   \n",
       "3         0.266  0.0596    0   -18.515     1       0.0363        0.9050   \n",
       "4         0.618  0.4430    2    -9.681     1       0.0526        0.4690   \n",
       "\n",
       "   instrumentalness  liveness  valence    tempo  time_signature track_genre  \n",
       "0          0.000001    0.3580    0.715   87.917               4    acoustic  \n",
       "1          0.000006    0.1010    0.267   77.489               4    acoustic  \n",
       "2          0.000000    0.1170    0.120   76.332               4    acoustic  \n",
       "3          0.000071    0.1320    0.143  181.740               3    acoustic  \n",
       "4          0.000000    0.0829    0.167  119.949               4    acoustic  "
      ]
     },
     "execution_count": 49,
     "metadata": {},
     "output_type": "execute_result"
    }
   ],
   "source": [
    "spotify_df.head()"
   ]
  },
  {
   "attachments": {},
   "cell_type": "markdown",
   "metadata": {},
   "source": [
    "In this initial stage,  I will be working exclusively with numeric data in this dataset. I have chosen to exclude categorical variables for some reasons:\n",
    "\n",
    "i. Limited contribution to model performance: Variables such as track_id, album_name, and track_name are unlikely to significantly improve the performance of the model, as they may not contain meaningful numerical information for the model to learn from.\n",
    "\n",
    "ii. High cardinality of variables: Variables like genre and artist may have a large number of unique categories, which can result in increased computational overhead and additional data cleaning steps. Considering the potential gains in model performance, dealing with these variables may be time-consuming and cumbersome.\n",
    "\n",
    "By excluding these categorical variables, I can streamline the data preparation process and focus on working with numerical data, which may be more relevant for the specific modeling task at hand."
   ]
  },
  {
   "cell_type": "code",
   "execution_count": 50,
   "metadata": {},
   "outputs": [],
   "source": [
    "spotify_df = spotify_df.drop(columns = ['track_id', 'album_name', 'track_name', 'artists', 'track_genre'])"
   ]
  },
  {
   "cell_type": "code",
   "execution_count": 51,
   "metadata": {},
   "outputs": [
    {
     "data": {
      "text/html": [
       "<div>\n",
       "<style scoped>\n",
       "    .dataframe tbody tr th:only-of-type {\n",
       "        vertical-align: middle;\n",
       "    }\n",
       "\n",
       "    .dataframe tbody tr th {\n",
       "        vertical-align: top;\n",
       "    }\n",
       "\n",
       "    .dataframe thead th {\n",
       "        text-align: right;\n",
       "    }\n",
       "</style>\n",
       "<table border=\"1\" class=\"dataframe\">\n",
       "  <thead>\n",
       "    <tr style=\"text-align: right;\">\n",
       "      <th></th>\n",
       "      <th>popularity</th>\n",
       "      <th>duration_ms</th>\n",
       "      <th>explicit</th>\n",
       "      <th>danceability</th>\n",
       "      <th>energy</th>\n",
       "      <th>key</th>\n",
       "      <th>loudness</th>\n",
       "      <th>mode</th>\n",
       "      <th>speechiness</th>\n",
       "      <th>acousticness</th>\n",
       "      <th>instrumentalness</th>\n",
       "      <th>liveness</th>\n",
       "      <th>valence</th>\n",
       "      <th>tempo</th>\n",
       "      <th>time_signature</th>\n",
       "    </tr>\n",
       "  </thead>\n",
       "  <tbody>\n",
       "    <tr>\n",
       "      <th>0</th>\n",
       "      <td>1</td>\n",
       "      <td>3.844433</td>\n",
       "      <td>False</td>\n",
       "      <td>0.676</td>\n",
       "      <td>0.4610</td>\n",
       "      <td>1</td>\n",
       "      <td>-6.746</td>\n",
       "      <td>0</td>\n",
       "      <td>0.1430</td>\n",
       "      <td>0.0322</td>\n",
       "      <td>0.000001</td>\n",
       "      <td>0.3580</td>\n",
       "      <td>0.7150</td>\n",
       "      <td>87.917</td>\n",
       "      <td>4</td>\n",
       "    </tr>\n",
       "    <tr>\n",
       "      <th>1</th>\n",
       "      <td>0</td>\n",
       "      <td>2.493500</td>\n",
       "      <td>False</td>\n",
       "      <td>0.420</td>\n",
       "      <td>0.1660</td>\n",
       "      <td>1</td>\n",
       "      <td>-17.235</td>\n",
       "      <td>1</td>\n",
       "      <td>0.0763</td>\n",
       "      <td>0.9240</td>\n",
       "      <td>0.000006</td>\n",
       "      <td>0.1010</td>\n",
       "      <td>0.2670</td>\n",
       "      <td>77.489</td>\n",
       "      <td>4</td>\n",
       "    </tr>\n",
       "    <tr>\n",
       "      <th>2</th>\n",
       "      <td>0</td>\n",
       "      <td>3.513767</td>\n",
       "      <td>False</td>\n",
       "      <td>0.438</td>\n",
       "      <td>0.3590</td>\n",
       "      <td>0</td>\n",
       "      <td>-9.734</td>\n",
       "      <td>1</td>\n",
       "      <td>0.0557</td>\n",
       "      <td>0.2100</td>\n",
       "      <td>0.000000</td>\n",
       "      <td>0.1170</td>\n",
       "      <td>0.1200</td>\n",
       "      <td>76.332</td>\n",
       "      <td>4</td>\n",
       "    </tr>\n",
       "    <tr>\n",
       "      <th>3</th>\n",
       "      <td>1</td>\n",
       "      <td>3.365550</td>\n",
       "      <td>False</td>\n",
       "      <td>0.266</td>\n",
       "      <td>0.0596</td>\n",
       "      <td>0</td>\n",
       "      <td>-18.515</td>\n",
       "      <td>1</td>\n",
       "      <td>0.0363</td>\n",
       "      <td>0.9050</td>\n",
       "      <td>0.000071</td>\n",
       "      <td>0.1320</td>\n",
       "      <td>0.1430</td>\n",
       "      <td>181.740</td>\n",
       "      <td>3</td>\n",
       "    </tr>\n",
       "    <tr>\n",
       "      <th>4</th>\n",
       "      <td>1</td>\n",
       "      <td>3.314217</td>\n",
       "      <td>False</td>\n",
       "      <td>0.618</td>\n",
       "      <td>0.4430</td>\n",
       "      <td>2</td>\n",
       "      <td>-9.681</td>\n",
       "      <td>1</td>\n",
       "      <td>0.0526</td>\n",
       "      <td>0.4690</td>\n",
       "      <td>0.000000</td>\n",
       "      <td>0.0829</td>\n",
       "      <td>0.1670</td>\n",
       "      <td>119.949</td>\n",
       "      <td>4</td>\n",
       "    </tr>\n",
       "    <tr>\n",
       "      <th>5</th>\n",
       "      <td>0</td>\n",
       "      <td>3.570667</td>\n",
       "      <td>False</td>\n",
       "      <td>0.688</td>\n",
       "      <td>0.4810</td>\n",
       "      <td>6</td>\n",
       "      <td>-8.807</td>\n",
       "      <td>1</td>\n",
       "      <td>0.1050</td>\n",
       "      <td>0.2890</td>\n",
       "      <td>0.000000</td>\n",
       "      <td>0.1890</td>\n",
       "      <td>0.6660</td>\n",
       "      <td>98.017</td>\n",
       "      <td>4</td>\n",
       "    </tr>\n",
       "    <tr>\n",
       "      <th>6</th>\n",
       "      <td>1</td>\n",
       "      <td>3.823333</td>\n",
       "      <td>False</td>\n",
       "      <td>0.407</td>\n",
       "      <td>0.1470</td>\n",
       "      <td>2</td>\n",
       "      <td>-8.822</td>\n",
       "      <td>1</td>\n",
       "      <td>0.0355</td>\n",
       "      <td>0.8570</td>\n",
       "      <td>0.000003</td>\n",
       "      <td>0.0913</td>\n",
       "      <td>0.0765</td>\n",
       "      <td>141.284</td>\n",
       "      <td>3</td>\n",
       "    </tr>\n",
       "    <tr>\n",
       "      <th>7</th>\n",
       "      <td>1</td>\n",
       "      <td>4.049100</td>\n",
       "      <td>False</td>\n",
       "      <td>0.703</td>\n",
       "      <td>0.4440</td>\n",
       "      <td>11</td>\n",
       "      <td>-9.331</td>\n",
       "      <td>1</td>\n",
       "      <td>0.0417</td>\n",
       "      <td>0.5590</td>\n",
       "      <td>0.000000</td>\n",
       "      <td>0.0973</td>\n",
       "      <td>0.7120</td>\n",
       "      <td>150.960</td>\n",
       "      <td>4</td>\n",
       "    </tr>\n",
       "    <tr>\n",
       "      <th>8</th>\n",
       "      <td>1</td>\n",
       "      <td>3.160217</td>\n",
       "      <td>False</td>\n",
       "      <td>0.625</td>\n",
       "      <td>0.4140</td>\n",
       "      <td>0</td>\n",
       "      <td>-8.700</td>\n",
       "      <td>1</td>\n",
       "      <td>0.0369</td>\n",
       "      <td>0.2940</td>\n",
       "      <td>0.000000</td>\n",
       "      <td>0.1510</td>\n",
       "      <td>0.6690</td>\n",
       "      <td>130.088</td>\n",
       "      <td>4</td>\n",
       "    </tr>\n",
       "    <tr>\n",
       "      <th>9</th>\n",
       "      <td>0</td>\n",
       "      <td>3.426567</td>\n",
       "      <td>False</td>\n",
       "      <td>0.442</td>\n",
       "      <td>0.6320</td>\n",
       "      <td>1</td>\n",
       "      <td>-6.770</td>\n",
       "      <td>1</td>\n",
       "      <td>0.0295</td>\n",
       "      <td>0.4260</td>\n",
       "      <td>0.004190</td>\n",
       "      <td>0.0735</td>\n",
       "      <td>0.1960</td>\n",
       "      <td>78.899</td>\n",
       "      <td>4</td>\n",
       "    </tr>\n",
       "  </tbody>\n",
       "</table>\n",
       "</div>"
      ],
      "text/plain": [
       "   popularity  duration_ms  explicit  danceability  energy  key  loudness  \\\n",
       "0           1     3.844433     False         0.676  0.4610    1    -6.746   \n",
       "1           0     2.493500     False         0.420  0.1660    1   -17.235   \n",
       "2           0     3.513767     False         0.438  0.3590    0    -9.734   \n",
       "3           1     3.365550     False         0.266  0.0596    0   -18.515   \n",
       "4           1     3.314217     False         0.618  0.4430    2    -9.681   \n",
       "5           0     3.570667     False         0.688  0.4810    6    -8.807   \n",
       "6           1     3.823333     False         0.407  0.1470    2    -8.822   \n",
       "7           1     4.049100     False         0.703  0.4440   11    -9.331   \n",
       "8           1     3.160217     False         0.625  0.4140    0    -8.700   \n",
       "9           0     3.426567     False         0.442  0.6320    1    -6.770   \n",
       "\n",
       "   mode  speechiness  acousticness  instrumentalness  liveness  valence  \\\n",
       "0     0       0.1430        0.0322          0.000001    0.3580   0.7150   \n",
       "1     1       0.0763        0.9240          0.000006    0.1010   0.2670   \n",
       "2     1       0.0557        0.2100          0.000000    0.1170   0.1200   \n",
       "3     1       0.0363        0.9050          0.000071    0.1320   0.1430   \n",
       "4     1       0.0526        0.4690          0.000000    0.0829   0.1670   \n",
       "5     1       0.1050        0.2890          0.000000    0.1890   0.6660   \n",
       "6     1       0.0355        0.8570          0.000003    0.0913   0.0765   \n",
       "7     1       0.0417        0.5590          0.000000    0.0973   0.7120   \n",
       "8     1       0.0369        0.2940          0.000000    0.1510   0.6690   \n",
       "9     1       0.0295        0.4260          0.004190    0.0735   0.1960   \n",
       "\n",
       "     tempo  time_signature  \n",
       "0   87.917               4  \n",
       "1   77.489               4  \n",
       "2   76.332               4  \n",
       "3  181.740               3  \n",
       "4  119.949               4  \n",
       "5   98.017               4  \n",
       "6  141.284               3  \n",
       "7  150.960               4  \n",
       "8  130.088               4  \n",
       "9   78.899               4  "
      ]
     },
     "execution_count": 51,
     "metadata": {},
     "output_type": "execute_result"
    }
   ],
   "source": [
    "spotify_df.head(10)"
   ]
  },
  {
   "attachments": {},
   "cell_type": "markdown",
   "metadata": {},
   "source": [
    "### One Hot enconding"
   ]
  },
  {
   "attachments": {},
   "cell_type": "markdown",
   "metadata": {},
   "source": [
    "Handling categorical data is a critical step in the machine learning workflow. Even though I have excluded categorical data with high cardinality, there are still some remaining variables that need to be addressed. Certain machine learning models are unable to work with categorical data directly, and it's important to avoid misinterpretation of categorical variables as continuous ones, such as interpreting key as an integer variable when it is actually a categorical variable. To address this, I will be utilizing One Hot Encoding to appropriately represent these categorical variables in the dataset."
   ]
  },
  {
   "cell_type": "code",
   "execution_count": 52,
   "metadata": {},
   "outputs": [],
   "source": [
    "def onehot_encode(df, column, prefix):\n",
    "    df = df.copy()\n",
    "    dummies = pd.get_dummies(df[column], prefix=prefix, drop_first=True) # Drop the first column to avoid multicollinearity\n",
    "    df = pd.concat([df, dummies], axis=1)\n",
    "    df = df.drop(column, axis=1)\n",
    "    return df"
   ]
  },
  {
   "cell_type": "code",
   "execution_count": 53,
   "metadata": {},
   "outputs": [],
   "source": [
    "#getting the dumies\n",
    "spotify_df = onehot_encode(spotify_df, 'mode', 'mode')\n",
    "spotify_df = onehot_encode(spotify_df, 'explicit', 'isExplicit')\n",
    "spotify_df = onehot_encode(spotify_df, 'key', 'key')\n",
    "spotify_df = onehot_encode(spotify_df, 'time_signature', 'time_signature')"
   ]
  },
  {
   "cell_type": "code",
   "execution_count": 54,
   "metadata": {},
   "outputs": [
    {
     "data": {
      "text/plain": [
       "(89740, 28)"
      ]
     },
     "execution_count": 54,
     "metadata": {},
     "output_type": "execute_result"
    }
   ],
   "source": [
    "spotify_df.shape"
   ]
  },
  {
   "cell_type": "code",
   "execution_count": 55,
   "metadata": {},
   "outputs": [
    {
     "data": {
      "text/html": [
       "<div>\n",
       "<style scoped>\n",
       "    .dataframe tbody tr th:only-of-type {\n",
       "        vertical-align: middle;\n",
       "    }\n",
       "\n",
       "    .dataframe tbody tr th {\n",
       "        vertical-align: top;\n",
       "    }\n",
       "\n",
       "    .dataframe thead th {\n",
       "        text-align: right;\n",
       "    }\n",
       "</style>\n",
       "<table border=\"1\" class=\"dataframe\">\n",
       "  <thead>\n",
       "    <tr style=\"text-align: right;\">\n",
       "      <th></th>\n",
       "      <th>popularity</th>\n",
       "      <th>duration_ms</th>\n",
       "      <th>danceability</th>\n",
       "      <th>energy</th>\n",
       "      <th>loudness</th>\n",
       "      <th>speechiness</th>\n",
       "      <th>acousticness</th>\n",
       "      <th>instrumentalness</th>\n",
       "      <th>liveness</th>\n",
       "      <th>valence</th>\n",
       "      <th>tempo</th>\n",
       "      <th>mode_1</th>\n",
       "      <th>isExplicit_True</th>\n",
       "      <th>key_1</th>\n",
       "      <th>key_2</th>\n",
       "      <th>key_3</th>\n",
       "      <th>key_4</th>\n",
       "      <th>key_5</th>\n",
       "      <th>key_6</th>\n",
       "      <th>key_7</th>\n",
       "      <th>key_8</th>\n",
       "      <th>key_9</th>\n",
       "      <th>key_10</th>\n",
       "      <th>key_11</th>\n",
       "      <th>time_signature_1</th>\n",
       "      <th>time_signature_3</th>\n",
       "      <th>time_signature_4</th>\n",
       "      <th>time_signature_5</th>\n",
       "    </tr>\n",
       "  </thead>\n",
       "  <tbody>\n",
       "    <tr>\n",
       "      <th>0</th>\n",
       "      <td>1</td>\n",
       "      <td>3.844433</td>\n",
       "      <td>0.676</td>\n",
       "      <td>0.4610</td>\n",
       "      <td>-6.746</td>\n",
       "      <td>0.1430</td>\n",
       "      <td>0.0322</td>\n",
       "      <td>0.000001</td>\n",
       "      <td>0.3580</td>\n",
       "      <td>0.715</td>\n",
       "      <td>87.917</td>\n",
       "      <td>0</td>\n",
       "      <td>0</td>\n",
       "      <td>1</td>\n",
       "      <td>0</td>\n",
       "      <td>0</td>\n",
       "      <td>0</td>\n",
       "      <td>0</td>\n",
       "      <td>0</td>\n",
       "      <td>0</td>\n",
       "      <td>0</td>\n",
       "      <td>0</td>\n",
       "      <td>0</td>\n",
       "      <td>0</td>\n",
       "      <td>0</td>\n",
       "      <td>0</td>\n",
       "      <td>1</td>\n",
       "      <td>0</td>\n",
       "    </tr>\n",
       "    <tr>\n",
       "      <th>1</th>\n",
       "      <td>0</td>\n",
       "      <td>2.493500</td>\n",
       "      <td>0.420</td>\n",
       "      <td>0.1660</td>\n",
       "      <td>-17.235</td>\n",
       "      <td>0.0763</td>\n",
       "      <td>0.9240</td>\n",
       "      <td>0.000006</td>\n",
       "      <td>0.1010</td>\n",
       "      <td>0.267</td>\n",
       "      <td>77.489</td>\n",
       "      <td>1</td>\n",
       "      <td>0</td>\n",
       "      <td>1</td>\n",
       "      <td>0</td>\n",
       "      <td>0</td>\n",
       "      <td>0</td>\n",
       "      <td>0</td>\n",
       "      <td>0</td>\n",
       "      <td>0</td>\n",
       "      <td>0</td>\n",
       "      <td>0</td>\n",
       "      <td>0</td>\n",
       "      <td>0</td>\n",
       "      <td>0</td>\n",
       "      <td>0</td>\n",
       "      <td>1</td>\n",
       "      <td>0</td>\n",
       "    </tr>\n",
       "    <tr>\n",
       "      <th>2</th>\n",
       "      <td>0</td>\n",
       "      <td>3.513767</td>\n",
       "      <td>0.438</td>\n",
       "      <td>0.3590</td>\n",
       "      <td>-9.734</td>\n",
       "      <td>0.0557</td>\n",
       "      <td>0.2100</td>\n",
       "      <td>0.000000</td>\n",
       "      <td>0.1170</td>\n",
       "      <td>0.120</td>\n",
       "      <td>76.332</td>\n",
       "      <td>1</td>\n",
       "      <td>0</td>\n",
       "      <td>0</td>\n",
       "      <td>0</td>\n",
       "      <td>0</td>\n",
       "      <td>0</td>\n",
       "      <td>0</td>\n",
       "      <td>0</td>\n",
       "      <td>0</td>\n",
       "      <td>0</td>\n",
       "      <td>0</td>\n",
       "      <td>0</td>\n",
       "      <td>0</td>\n",
       "      <td>0</td>\n",
       "      <td>0</td>\n",
       "      <td>1</td>\n",
       "      <td>0</td>\n",
       "    </tr>\n",
       "    <tr>\n",
       "      <th>3</th>\n",
       "      <td>1</td>\n",
       "      <td>3.365550</td>\n",
       "      <td>0.266</td>\n",
       "      <td>0.0596</td>\n",
       "      <td>-18.515</td>\n",
       "      <td>0.0363</td>\n",
       "      <td>0.9050</td>\n",
       "      <td>0.000071</td>\n",
       "      <td>0.1320</td>\n",
       "      <td>0.143</td>\n",
       "      <td>181.740</td>\n",
       "      <td>1</td>\n",
       "      <td>0</td>\n",
       "      <td>0</td>\n",
       "      <td>0</td>\n",
       "      <td>0</td>\n",
       "      <td>0</td>\n",
       "      <td>0</td>\n",
       "      <td>0</td>\n",
       "      <td>0</td>\n",
       "      <td>0</td>\n",
       "      <td>0</td>\n",
       "      <td>0</td>\n",
       "      <td>0</td>\n",
       "      <td>0</td>\n",
       "      <td>1</td>\n",
       "      <td>0</td>\n",
       "      <td>0</td>\n",
       "    </tr>\n",
       "    <tr>\n",
       "      <th>4</th>\n",
       "      <td>1</td>\n",
       "      <td>3.314217</td>\n",
       "      <td>0.618</td>\n",
       "      <td>0.4430</td>\n",
       "      <td>-9.681</td>\n",
       "      <td>0.0526</td>\n",
       "      <td>0.4690</td>\n",
       "      <td>0.000000</td>\n",
       "      <td>0.0829</td>\n",
       "      <td>0.167</td>\n",
       "      <td>119.949</td>\n",
       "      <td>1</td>\n",
       "      <td>0</td>\n",
       "      <td>0</td>\n",
       "      <td>1</td>\n",
       "      <td>0</td>\n",
       "      <td>0</td>\n",
       "      <td>0</td>\n",
       "      <td>0</td>\n",
       "      <td>0</td>\n",
       "      <td>0</td>\n",
       "      <td>0</td>\n",
       "      <td>0</td>\n",
       "      <td>0</td>\n",
       "      <td>0</td>\n",
       "      <td>0</td>\n",
       "      <td>1</td>\n",
       "      <td>0</td>\n",
       "    </tr>\n",
       "  </tbody>\n",
       "</table>\n",
       "</div>"
      ],
      "text/plain": [
       "   popularity  duration_ms  danceability  energy  loudness  speechiness  \\\n",
       "0           1     3.844433         0.676  0.4610    -6.746       0.1430   \n",
       "1           0     2.493500         0.420  0.1660   -17.235       0.0763   \n",
       "2           0     3.513767         0.438  0.3590    -9.734       0.0557   \n",
       "3           1     3.365550         0.266  0.0596   -18.515       0.0363   \n",
       "4           1     3.314217         0.618  0.4430    -9.681       0.0526   \n",
       "\n",
       "   acousticness  instrumentalness  liveness  valence    tempo  mode_1  \\\n",
       "0        0.0322          0.000001    0.3580    0.715   87.917       0   \n",
       "1        0.9240          0.000006    0.1010    0.267   77.489       1   \n",
       "2        0.2100          0.000000    0.1170    0.120   76.332       1   \n",
       "3        0.9050          0.000071    0.1320    0.143  181.740       1   \n",
       "4        0.4690          0.000000    0.0829    0.167  119.949       1   \n",
       "\n",
       "   isExplicit_True  key_1  key_2  key_3  key_4  key_5  key_6  key_7  key_8  \\\n",
       "0                0      1      0      0      0      0      0      0      0   \n",
       "1                0      1      0      0      0      0      0      0      0   \n",
       "2                0      0      0      0      0      0      0      0      0   \n",
       "3                0      0      0      0      0      0      0      0      0   \n",
       "4                0      0      1      0      0      0      0      0      0   \n",
       "\n",
       "   key_9  key_10  key_11  time_signature_1  time_signature_3  \\\n",
       "0      0       0       0                 0                 0   \n",
       "1      0       0       0                 0                 0   \n",
       "2      0       0       0                 0                 0   \n",
       "3      0       0       0                 0                 1   \n",
       "4      0       0       0                 0                 0   \n",
       "\n",
       "   time_signature_4  time_signature_5  \n",
       "0                 1                 0  \n",
       "1                 1                 0  \n",
       "2                 1                 0  \n",
       "3                 0                 0  \n",
       "4                 1                 0  "
      ]
     },
     "execution_count": 55,
     "metadata": {},
     "output_type": "execute_result"
    }
   ],
   "source": [
    "spotify_df.head()"
   ]
  },
  {
   "attachments": {},
   "cell_type": "markdown",
   "metadata": {},
   "source": [
    "\n",
    "## Scaling"
   ]
  },
  {
   "attachments": {},
   "cell_type": "markdown",
   "metadata": {},
   "source": [
    "In this step, I will perform standardization. Standardization involves transforming the values of the dataset such that the mean of the values is 0 and the standard deviation is 1. This is crucial because many machine learning models, including those that use the gradient descent algorithm, are sensitive to the scale of the input features. Having columns with different scales can result in issues such as overshooting or loss of computational efficiency. Standardization helps to mitigate these problems and ensures that the data is normalized to a common scale, making it more suitable for machine learning model training and inference."
   ]
  },
  {
   "cell_type": "code",
   "execution_count": 56,
   "metadata": {},
   "outputs": [
    {
     "data": {
      "text/plain": [
       "Index(['popularity', 'duration_ms', 'danceability', 'energy', 'loudness',\n",
       "       'speechiness', 'acousticness', 'instrumentalness', 'liveness',\n",
       "       'valence', 'tempo', 'mode_1', 'isExplicit_True', 'key_1', 'key_2',\n",
       "       'key_3', 'key_4', 'key_5', 'key_6', 'key_7', 'key_8', 'key_9', 'key_10',\n",
       "       'key_11', 'time_signature_1', 'time_signature_3', 'time_signature_4',\n",
       "       'time_signature_5'],\n",
       "      dtype='object')"
      ]
     },
     "execution_count": 56,
     "metadata": {},
     "output_type": "execute_result"
    }
   ],
   "source": [
    "spotify_df.columns"
   ]
  },
  {
   "cell_type": "code",
   "execution_count": 57,
   "metadata": {},
   "outputs": [],
   "source": [
    "y = spotify_df.loc[:, 'popularity']\n",
    "X = spotify_df.drop('popularity', axis = 1)"
   ]
  },
  {
   "cell_type": "code",
   "execution_count": 58,
   "metadata": {},
   "outputs": [],
   "source": [
    "#standardization\n",
    "scaler = StandardScaler()\n",
    "X_std = scaler.fit_transform(X)"
   ]
  },
  {
   "attachments": {},
   "cell_type": "markdown",
   "metadata": {},
   "source": [
    "## Day-3: Train Test Validation\n",
    "\n",
    "### Train-test sets"
   ]
  },
  {
   "attachments": {},
   "cell_type": "markdown",
   "metadata": {},
   "source": [
    "Today, my focus is on splitting the dataset into train, test, and validation sets. In machine learning, we split the data into train and test sets to allow our model to learn from the patterns in the training data. Once the learning is done, the model can then make predictions on unseen data from the test set. This helps us evaluate how well the model can generalize to new, unseen data and assess its performance.This step is important to avoid issues with overfitting or underfitting, which can negatively impact the model's ability to generalize to new data and result in lower accuracy.\n",
    "\n",
    "A common practice is to allocate around 80% of the data for training and 20% for testing. This is the approach I will be using to split the dataset."
   ]
  },
  {
   "cell_type": "code",
   "execution_count": 59,
   "metadata": {},
   "outputs": [
    {
     "name": "stdout",
     "output_type": "stream",
     "text": [
      "89740\n",
      "89740\n"
     ]
    }
   ],
   "source": [
    "print(len(X_std))\n",
    "print(len(y))"
   ]
  },
  {
   "cell_type": "code",
   "execution_count": 60,
   "metadata": {},
   "outputs": [
    {
     "data": {
      "text/plain": [
       "0    0.969545\n",
       "1    0.030455\n",
       "Name: popularity, dtype: float64"
      ]
     },
     "execution_count": 60,
     "metadata": {},
     "output_type": "execute_result"
    }
   ],
   "source": [
    "y.value_counts(normalize=True)"
   ]
  },
  {
   "cell_type": "code",
   "execution_count": 61,
   "metadata": {},
   "outputs": [],
   "source": [
    "X_train, X_test, y_train, y_test = train_test_split(X_std, y, test_size=0.2, random_state = 42, shuffle=True)"
   ]
  },
  {
   "attachments": {},
   "cell_type": "markdown",
   "metadata": {},
   "source": [
    "### Cross-Validation"
   ]
  },
  {
   "attachments": {},
   "cell_type": "markdown",
   "metadata": {},
   "source": [
    "One potential drawback of simply splitting the dataset into train/test sets is that the splitting may not be random, which can lead to issues with overfitting. To address this concern, I will be performing a cross-validation step. Cross-validation involves creating multiple train/test sets by splitting the data into k subsets, and training the model on k-1 of these subsets. There are various cross-validation methods available, and for this exercise, I will be using the StratifiedKFold method.\n",
    "\n",
    "The `StratifiedKFold` method is particularly useful as it ensures that the class proportions within each fold are as close as possible to the real class proportions in the overall dataset. By using cross-validation, we can obtain a more robust assessment of our model's performance and ensure that it can generalize well to unseen data, improving its reliability for real-world scenarios."
   ]
  },
  {
   "cell_type": "code",
   "execution_count": 62,
   "metadata": {},
   "outputs": [],
   "source": [
    "# Create an instance of StratifiedKFold with the desired number of splits\n",
    "skf = StratifiedKFold(n_splits= 5, shuffle= True, random_state= 42)\n",
    "\n",
    "# Iterate over the splits and perform cross-validation\n",
    "for train_index, val_index in skf.split(X_train, y_train):\n",
    "    X_train_fold, X_val_fold = X_train[train_index], X_train[val_index]\n",
    "    y_train_fold, y_val_fold = y_train.reset_index(drop=True)[train_index], y_train.reset_index(drop=True)[val_index]  ## .reset_index is to ensure data alignment"
   ]
  },
  {
   "attachments": {},
   "cell_type": "markdown",
   "metadata": {},
   "source": [
    "**Note:** The `.reset_index`method in pandas is used to ensure proper alignment of data. It is typically used to reset the index of a dataframe, which can be useful in cases where the index is not sequential or needs to be re-aligned after performing certain operations on the data. This step can help avoid issues such as bugs caused by misaligned data (which I encountered in my code). By using.`reset_index`, we can ensure that the data is in the correct order and alignment, which is essential for accurate analysis and modeling."
   ]
  },
  {
   "attachments": {},
   "cell_type": "markdown",
   "metadata": {},
   "source": [
    "## D-4: Modeling and Training"
   ]
  },
  {
   "attachments": {},
   "cell_type": "markdown",
   "metadata": {},
   "source": [
    "### Baselines: Dummy Classifier and Logistic Regression"
   ]
  },
  {
   "attachments": {},
   "cell_type": "markdown",
   "metadata": {},
   "source": [
    "#### Dummy Classifier"
   ]
  },
  {
   "attachments": {},
   "cell_type": "markdown",
   "metadata": {},
   "source": [
    "Now that I have split the data, I will be working on some baseline models. A baseline model serves as a starting point for performance comparison with other models. It is usually a simple model that allows us to establish a benchmark. If a model performs better than the baseline model, then it can be considered a good model. Additionally, a baseline model can be useful in identifying potential issues with bias or variance. For example, if a baseline model performs poorly, with low accuracy, it may indicate problems with bias or variance in the data.\n",
    "\n",
    "I will start with a **dummy classifier**. A dummy classifier is so named because it does not use the data to make predictions. Instead, it uses a pre-defined strategy that we pass to it. In this case, I will set the strategy to 'most frequent', which predicts the most frequent class in the dataset. In our dataset, the most frequent class is '0', as there are more music items that fall under the label of 'not popular' (scoring less than 70 on the popularity score) than those that are popular."
   ]
  },
  {
   "attachments": {},
   "cell_type": "markdown",
   "metadata": {},
   "source": [
    "The dummy classifier provides a null accuracy baseline, which is the accuracy that can be achieved by always predicting the most frequent class. While a dummy classifier is not typically used in real-world classification problems, it can be useful in certain scenarios. If the models I'm going to train perform close to the performance of the dummy classifier, it may indicate that the features in the model are ineffective, erroneously computed, or missing for some reason. It could also indicate a large class imbalance, where the accuracy gains on the test set simply applied to too few examples to produce a significant gain. In such cases, I will need to work on solutions for the imbalanced class and consider other metrics besides accuracy. Therefore, dummy classifiers can provide a useful sanity check and point of comparison for evaluating model performance."
   ]
  },
  {
   "cell_type": "code",
   "execution_count": 63,
   "metadata": {},
   "outputs": [],
   "source": [
    "\n",
    "dummy_model = DummyClassifier(strategy = 'most_frequent' )\n",
    "\n",
    "#training the model\n",
    "dummy_model.fit(X_train_fold, y_train_fold)\n",
    "\n",
    "#predicting on the train data\n",
    "dummy_pred_train = dummy_model.predict(X_train_fold)\n",
    "\n",
    "#predicting on the validation data\n",
    "dummy_pred_val = dummy_model.predict(X_val_fold)\n",
    "\n"
   ]
  },
  {
   "cell_type": "code",
   "execution_count": 64,
   "metadata": {},
   "outputs": [
    {
     "name": "stdout",
     "output_type": "stream",
     "text": [
      "Prediction on dummy classifier set on train data \n",
      " [0 0 0 0 0 0 0 0 0 0 0 0 0 0 0 0 0 0 0 0 0 0 0 0 0 0 0 0 0 0 0 0 0 0 0 0 0\n",
      " 0 0 0 0 0 0 0 0 0 0 0 0 0 0 0 0 0 0 0 0 0 0 0 0 0 0 0 0 0 0 0 0 0 0 0 0 0\n",
      " 0 0 0 0 0 0 0 0 0 0 0 0 0 0 0 0 0 0 0 0 0 0 0 0 0 0 0 0 0 0 0 0 0 0 0 0 0\n",
      " 0 0 0 0 0 0 0 0 0 0 0 0 0 0 0 0 0 0 0 0 0 0 0 0 0 0 0 0 0 0 0 0 0 0 0 0 0\n",
      " 0 0 0 0 0 0 0 0 0 0 0 0 0 0 0 0 0 0 0 0 0 0 0 0 0 0 0 0 0 0 0 0 0 0 0 0 0\n",
      " 0 0 0 0 0 0 0 0 0 0 0 0 0 0 0]\n",
      "Prediction on dummy classifier set on validation data \n",
      " [0 0 0 0 0 0 0 0 0 0 0 0 0 0 0 0 0 0 0 0 0 0 0 0 0 0 0 0 0 0 0 0 0 0 0 0 0\n",
      " 0 0 0 0 0 0 0 0 0 0 0 0 0 0 0 0 0 0 0 0 0 0 0 0 0 0 0 0 0 0 0 0 0 0 0 0 0\n",
      " 0 0 0 0 0 0 0 0 0 0 0 0 0 0 0 0 0 0 0 0 0 0 0 0 0 0 0 0 0 0 0 0 0 0 0 0 0\n",
      " 0 0 0 0 0 0 0 0 0 0 0 0 0 0 0 0 0 0 0 0 0 0 0 0 0 0 0 0 0 0 0 0 0 0 0 0 0\n",
      " 0 0 0 0 0 0 0 0 0 0 0 0 0 0 0 0 0 0 0 0 0 0 0 0 0 0 0 0 0 0 0 0 0 0 0 0 0\n",
      " 0 0 0 0 0 0 0 0 0 0 0 0 0 0 0]\n"
     ]
    }
   ],
   "source": [
    "print(f'Prediction on dummy classifier set on train data \\n', dummy_pred_train[:200])\n",
    "print(f'Prediction on dummy classifier set on validation data \\n', dummy_pred_val[:200])\n",
    "\n"
   ]
  },
  {
   "attachments": {},
   "cell_type": "markdown",
   "metadata": {},
   "source": [
    "Above you can read the result from DummyClassifier's predictions. It's always predicting 0 or the negative class for every instance in the test set.  Now we can call the usual score method to get the accuracy of the DummyClassifier's constant negative prediction. "
   ]
  },
  {
   "cell_type": "code",
   "execution_count": 65,
   "metadata": {},
   "outputs": [
    {
     "name": "stdout",
     "output_type": "stream",
     "text": [
      "accuracy on the training set:  0.9691820176202249\n",
      "accuracy on the validation set:  0.9691461206296141\n"
     ]
    }
   ],
   "source": [
    "print(f'accuracy on the training set: ',dummy_model.score(X_train_fold, y_train_fold))\n",
    "print(f'accuracy on the validation set: ',dummy_model.score(X_val_fold, y_val_fold))"
   ]
  },
  {
   "attachments": {},
   "cell_type": "markdown",
   "metadata": {},
   "source": [
    "An accuracy score of 0.96 is very high, but it should be noted that this dataset is imbalanced, so such a high accuracy is expected."
   ]
  },
  {
   "attachments": {},
   "cell_type": "markdown",
   "metadata": {},
   "source": [
    "### Logistic Regression"
   ]
  },
  {
   "attachments": {},
   "cell_type": "markdown",
   "metadata": {},
   "source": [
    "Logistic regression can be seen as a kind of generalized linear model. Like ordinary least squares and other regression methods, logistic regression takes a set of input variables (features) and estimates a target value. However, unlike ordinary linear regression, the target value in logistic regression is binary, typically represented as 0 or 1. The logistic regression model uses a logistic function to transform the input from a real value to an output Y that is bounded between 0 and 1. This output is interpreted as the probability of the object belonging to the positive class, given the input characteristics. "
   ]
  },
  {
   "cell_type": "code",
   "execution_count": 66,
   "metadata": {},
   "outputs": [],
   "source": [
    "#regression model\n",
    "log_model = LogisticRegression()\n",
    "\n",
    "# training the model\n",
    "log_model.fit(X_train_fold, y_train_fold)\n",
    "\n",
    "# predicting on the train set\n",
    "log_pred_train = log_model.predict(X_train_fold)\n",
    "\n",
    "# predicting on the validation set\n",
    "log_pred_val = log_model.predict(X_val_fold)"
   ]
  },
  {
   "cell_type": "code",
   "execution_count": 67,
   "metadata": {},
   "outputs": [],
   "source": [
    "log_odds = np.exp(log_model.coef_[0])"
   ]
  },
  {
   "cell_type": "code",
   "execution_count": 68,
   "metadata": {},
   "outputs": [
    {
     "data": {
      "text/html": [
       "<div>\n",
       "<style scoped>\n",
       "    .dataframe tbody tr th:only-of-type {\n",
       "        vertical-align: middle;\n",
       "    }\n",
       "\n",
       "    .dataframe tbody tr th {\n",
       "        vertical-align: top;\n",
       "    }\n",
       "\n",
       "    .dataframe thead th {\n",
       "        text-align: right;\n",
       "    }\n",
       "</style>\n",
       "<table border=\"1\" class=\"dataframe\">\n",
       "  <thead>\n",
       "    <tr style=\"text-align: right;\">\n",
       "      <th></th>\n",
       "      <th>coef</th>\n",
       "    </tr>\n",
       "  </thead>\n",
       "  <tbody>\n",
       "    <tr>\n",
       "      <th>loudness</th>\n",
       "      <td>1.879194</td>\n",
       "    </tr>\n",
       "    <tr>\n",
       "      <th>danceability</th>\n",
       "      <td>1.232885</td>\n",
       "    </tr>\n",
       "    <tr>\n",
       "      <th>isExplicit_True</th>\n",
       "      <td>1.211023</td>\n",
       "    </tr>\n",
       "    <tr>\n",
       "      <th>key_8</th>\n",
       "      <td>1.090023</td>\n",
       "    </tr>\n",
       "    <tr>\n",
       "      <th>key_1</th>\n",
       "      <td>1.074752</td>\n",
       "    </tr>\n",
       "    <tr>\n",
       "      <th>key_11</th>\n",
       "      <td>1.051540</td>\n",
       "    </tr>\n",
       "    <tr>\n",
       "      <th>key_9</th>\n",
       "      <td>1.033019</td>\n",
       "    </tr>\n",
       "    <tr>\n",
       "      <th>key_3</th>\n",
       "      <td>1.030284</td>\n",
       "    </tr>\n",
       "    <tr>\n",
       "      <th>key_5</th>\n",
       "      <td>1.026017</td>\n",
       "    </tr>\n",
       "    <tr>\n",
       "      <th>key_10</th>\n",
       "      <td>1.024640</td>\n",
       "    </tr>\n",
       "    <tr>\n",
       "      <th>key_4</th>\n",
       "      <td>1.022513</td>\n",
       "    </tr>\n",
       "    <tr>\n",
       "      <th>key_6</th>\n",
       "      <td>1.020652</td>\n",
       "    </tr>\n",
       "    <tr>\n",
       "      <th>valence</th>\n",
       "      <td>0.987762</td>\n",
       "    </tr>\n",
       "    <tr>\n",
       "      <th>key_2</th>\n",
       "      <td>0.984284</td>\n",
       "    </tr>\n",
       "    <tr>\n",
       "      <th>mode_1</th>\n",
       "      <td>0.972700</td>\n",
       "    </tr>\n",
       "    <tr>\n",
       "      <th>key_7</th>\n",
       "      <td>0.959818</td>\n",
       "    </tr>\n",
       "    <tr>\n",
       "      <th>duration_ms</th>\n",
       "      <td>0.952894</td>\n",
       "    </tr>\n",
       "    <tr>\n",
       "      <th>tempo</th>\n",
       "      <td>0.939759</td>\n",
       "    </tr>\n",
       "    <tr>\n",
       "      <th>speechiness</th>\n",
       "      <td>0.804861</td>\n",
       "    </tr>\n",
       "    <tr>\n",
       "      <th>time_signature_5</th>\n",
       "      <td>0.783366</td>\n",
       "    </tr>\n",
       "    <tr>\n",
       "      <th>time_signature_1</th>\n",
       "      <td>0.758144</td>\n",
       "    </tr>\n",
       "    <tr>\n",
       "      <th>liveness</th>\n",
       "      <td>0.758096</td>\n",
       "    </tr>\n",
       "    <tr>\n",
       "      <th>time_signature_3</th>\n",
       "      <td>0.714035</td>\n",
       "    </tr>\n",
       "    <tr>\n",
       "      <th>time_signature_4</th>\n",
       "      <td>0.684397</td>\n",
       "    </tr>\n",
       "    <tr>\n",
       "      <th>acousticness</th>\n",
       "      <td>0.665290</td>\n",
       "    </tr>\n",
       "    <tr>\n",
       "      <th>energy</th>\n",
       "      <td>0.598361</td>\n",
       "    </tr>\n",
       "    <tr>\n",
       "      <th>instrumentalness</th>\n",
       "      <td>0.450752</td>\n",
       "    </tr>\n",
       "  </tbody>\n",
       "</table>\n",
       "</div>"
      ],
      "text/plain": [
       "                      coef\n",
       "loudness          1.879194\n",
       "danceability      1.232885\n",
       "isExplicit_True   1.211023\n",
       "key_8             1.090023\n",
       "key_1             1.074752\n",
       "key_11            1.051540\n",
       "key_9             1.033019\n",
       "key_3             1.030284\n",
       "key_5             1.026017\n",
       "key_10            1.024640\n",
       "key_4             1.022513\n",
       "key_6             1.020652\n",
       "valence           0.987762\n",
       "key_2             0.984284\n",
       "mode_1            0.972700\n",
       "key_7             0.959818\n",
       "duration_ms       0.952894\n",
       "tempo             0.939759\n",
       "speechiness       0.804861\n",
       "time_signature_5  0.783366\n",
       "time_signature_1  0.758144\n",
       "liveness          0.758096\n",
       "time_signature_3  0.714035\n",
       "time_signature_4  0.684397\n",
       "acousticness      0.665290\n",
       "energy            0.598361\n",
       "instrumentalness  0.450752"
      ]
     },
     "execution_count": 68,
     "metadata": {},
     "output_type": "execute_result"
    }
   ],
   "source": [
    "pd.DataFrame(log_odds,\n",
    "             X.columns,\n",
    "             columns=['coef']).sort_values(by='coef', ascending = False)"
   ]
  },
  {
   "attachments": {},
   "cell_type": "markdown",
   "metadata": {},
   "source": [
    "Logistic Regression models can be more challenging to interpret due to the use of the logit function, which returns probabilities. To make sense of these probabilities, we often convert them to odds by taking the exponential of the logs. For example, when the `loudness` variable increases by one unit, the odds of the music being in the target class (\"1\") are over 1.8 times as large as the odds of it not being in the target class. On the other hand, when the `instrumentalness` variable increases by one unit, the odds of the music being in the target class are only around 0.4. Since the odds are less than one, we can take the reciprocal (1/odds) to gain better insight. Thus, as instrumentalness increases by 1, the odds of the music **NOT** being in the target class are 2.2 times as likely as the odds of it being in the target class."
   ]
  },
  {
   "cell_type": "code",
   "execution_count": 69,
   "metadata": {},
   "outputs": [
    {
     "name": "stdout",
     "output_type": "stream",
     "text": [
      "Accuracy on train set: 0.9691820176202249\n",
      "Accuracy on validation set: 0.9691461206296141\n"
     ]
    }
   ],
   "source": [
    "# Calculate accuracy on the train set\n",
    "accuracy_train = log_model.score(X_train_fold, y_train_fold)\n",
    "print(\"Accuracy on train set:\", accuracy_train)\n",
    "\n",
    "# Calculate accuracy on the validation set\n",
    "accuracy_val = log_model.score(X_val_fold, y_val_fold)\n",
    "print(\"Accuracy on validation set:\", accuracy_val)\n"
   ]
  },
  {
   "attachments": {},
   "cell_type": "markdown",
   "metadata": {},
   "source": [
    "Upon calculating only the accuracy, we can observe that the Logistic Regression model, as it stands, is not performing different than the Dummy Classifier. This suggests that we may have issues with an imbalanced dataset. To improve the generalization of the model, we will need to address this issue by applying methods such as resampling techniques to mitigate the impact of class imbalance."
   ]
  },
  {
   "attachments": {},
   "cell_type": "markdown",
   "metadata": {},
   "source": [
    "## D-5: Evaluation\n",
    "\n",
    "As previously mentioned, the data is heavily imbalanced and because of that relying solely on accuracy as the evaluation metric may not be sufficient. Therefore, in the next step of the evaluation process, we will delve deeper and consider additional metrics such as precision and recall. These metrics provide insights into how well our model is performing, reflecting the quality of the project. In a classification problem, these metrics allow us to compare the predicted class with the true class of each example, providing a measure of how far our model is from achieving perfect classification.\n",
    "So:\n",
    "\n",
    "- **Accuracy**: The proportion of correctly classified instances out of the total instances.\n",
    "- **Recall**: The proportion of true positive instances (correctly predicted positive class) out of the actual positive instances.\n",
    "- **Precision:** The proportion of true positive instances (correctly predicted positive class) out of the predicted positive instances.\n",
    "- **F1 Score:** The harmonic mean of precision and recall, providing a balanced measure of both precision and recall."
   ]
  },
  {
   "cell_type": "code",
   "execution_count": 70,
   "metadata": {},
   "outputs": [
    {
     "name": "stderr",
     "output_type": "stream",
     "text": [
      "c:\\Users\\SAMSUNG\\anaconda3\\lib\\site-packages\\sklearn\\metrics\\_classification.py:1318: UndefinedMetricWarning: Precision is ill-defined and being set to 0.0 due to no predicted samples. Use `zero_division` parameter to control this behavior.\n",
      "  _warn_prf(average, modifier, msg_start, len(result))\n",
      "c:\\Users\\SAMSUNG\\anaconda3\\lib\\site-packages\\sklearn\\metrics\\_classification.py:1318: UndefinedMetricWarning: Precision is ill-defined and being set to 0.0 due to no predicted samples. Use `zero_division` parameter to control this behavior.\n",
      "  _warn_prf(average, modifier, msg_start, len(result))\n"
     ]
    }
   ],
   "source": [
    "# dummy classifier: train data\n",
    "\n",
    "accuracy_dummy_t = accuracy_score(y_train_fold, dummy_pred_train)\n",
    "recall_dummy_t = recall_score(y_train_fold, dummy_pred_train)\n",
    "precision_dummy_t = precision_score(y_train_fold, dummy_pred_train, zero_division='warn')\n",
    "f1_dummy_t = f1_score(y_train_fold, dummy_pred_train)\n",
    "\n",
    "# logistic classifier: train data\n",
    "\n",
    "accuracy_log_t = accuracy_score(y_train_fold,log_pred_train )\n",
    "recall_log_t = recall_score(y_train_fold,log_pred_train)\n",
    "precision_log_t = precision_score(y_train_fold,log_pred_train, zero_division='warn')\n",
    "f1_log_t = f1_score(y_train_fold,log_pred_train)\n",
    "\n",
    "\n",
    "metrics_t = {'Model': ['Dummy Classifier', 'Logistic Regression'],\n",
    "        'Accuracy': [accuracy_dummy_t, accuracy_log_t],\n",
    "        'Recall': [recall_dummy_t, recall_log_t],\n",
    "        'Precision': [precision_dummy_t, precision_log_t],\n",
    "        'F1-Score': [f1_dummy_t, f1_log_t]}\n",
    "metrics_train = pd.DataFrame(metrics_t)\n",
    "\n"
   ]
  },
  {
   "cell_type": "code",
   "execution_count": 71,
   "metadata": {},
   "outputs": [
    {
     "name": "stderr",
     "output_type": "stream",
     "text": [
      "c:\\Users\\SAMSUNG\\anaconda3\\lib\\site-packages\\sklearn\\metrics\\_classification.py:1318: UndefinedMetricWarning: Precision is ill-defined and being set to 0.0 due to no predicted samples. Use `zero_division` parameter to control this behavior.\n",
      "  _warn_prf(average, modifier, msg_start, len(result))\n",
      "c:\\Users\\SAMSUNG\\anaconda3\\lib\\site-packages\\sklearn\\metrics\\_classification.py:1318: UndefinedMetricWarning: Precision is ill-defined and being set to 0.0 due to no predicted samples. Use `zero_division` parameter to control this behavior.\n",
      "  _warn_prf(average, modifier, msg_start, len(result))\n"
     ]
    }
   ],
   "source": [
    "# dummy classifier: validation data\n",
    "\n",
    "accuracy_dummy_v = accuracy_score(y_val_fold, dummy_pred_val)\n",
    "recall_dummy_v = recall_score(y_val_fold, dummy_pred_val)\n",
    "precision_dummy_v = precision_score(y_val_fold, dummy_pred_val, zero_division='warn')\n",
    "f1_dummy_v = f1_score(y_val_fold, dummy_pred_val)\n",
    "\n",
    "# logistic classifier: validation data\n",
    "\n",
    "accuracy_log_v = accuracy_score(y_val_fold,log_pred_val )\n",
    "recall_log_v = recall_score(y_val_fold,log_pred_val)\n",
    "precision_log_v = precision_score(y_val_fold,log_pred_val, zero_division='warn')\n",
    "f1_log_v = f1_score(y_val_fold,log_pred_val)\n",
    "\n",
    "\n",
    "metrics_v = {'Model': ['Dummy Classifier', 'Logistic Regression'],\n",
    "        'Accuracy': [accuracy_dummy_v, accuracy_log_v],\n",
    "        'Recall': [recall_dummy_v, recall_log_v],\n",
    "        'Precision': [precision_dummy_v, precision_log_v],\n",
    "        'F1-Score': [f1_dummy_v, f1_log_v]}\n",
    "metrics_val = pd.DataFrame(metrics_v)"
   ]
  },
  {
   "cell_type": "code",
   "execution_count": 72,
   "metadata": {},
   "outputs": [
    {
     "name": "stdout",
     "output_type": "stream",
     "text": [
      "EVALUATION IN TRAIN DATA\n"
     ]
    },
    {
     "data": {
      "text/html": [
       "<div>\n",
       "<style scoped>\n",
       "    .dataframe tbody tr th:only-of-type {\n",
       "        vertical-align: middle;\n",
       "    }\n",
       "\n",
       "    .dataframe tbody tr th {\n",
       "        vertical-align: top;\n",
       "    }\n",
       "\n",
       "    .dataframe thead th {\n",
       "        text-align: right;\n",
       "    }\n",
       "</style>\n",
       "<table border=\"1\" class=\"dataframe\">\n",
       "  <thead>\n",
       "    <tr style=\"text-align: right;\">\n",
       "      <th>Model</th>\n",
       "      <th>Dummy Classifier</th>\n",
       "      <th>Logistic Regression</th>\n",
       "    </tr>\n",
       "  </thead>\n",
       "  <tbody>\n",
       "    <tr>\n",
       "      <th>Accuracy</th>\n",
       "      <td>0.969182</td>\n",
       "      <td>0.969182</td>\n",
       "    </tr>\n",
       "    <tr>\n",
       "      <th>Recall</th>\n",
       "      <td>0.000000</td>\n",
       "      <td>0.000000</td>\n",
       "    </tr>\n",
       "    <tr>\n",
       "      <th>Precision</th>\n",
       "      <td>0.000000</td>\n",
       "      <td>0.000000</td>\n",
       "    </tr>\n",
       "    <tr>\n",
       "      <th>F1-Score</th>\n",
       "      <td>0.000000</td>\n",
       "      <td>0.000000</td>\n",
       "    </tr>\n",
       "  </tbody>\n",
       "</table>\n",
       "</div>"
      ],
      "text/plain": [
       "Model      Dummy Classifier  Logistic Regression\n",
       "Accuracy           0.969182             0.969182\n",
       "Recall             0.000000             0.000000\n",
       "Precision          0.000000             0.000000\n",
       "F1-Score           0.000000             0.000000"
      ]
     },
     "execution_count": 72,
     "metadata": {},
     "output_type": "execute_result"
    }
   ],
   "source": [
    "print('EVALUATION IN TRAIN DATA')\n",
    "metrics_train.set_index(['Model']).T"
   ]
  },
  {
   "cell_type": "code",
   "execution_count": 73,
   "metadata": {},
   "outputs": [
    {
     "name": "stdout",
     "output_type": "stream",
     "text": [
      "EVALUATION IN VALIDATION DATA\n"
     ]
    },
    {
     "data": {
      "text/html": [
       "<div>\n",
       "<style scoped>\n",
       "    .dataframe tbody tr th:only-of-type {\n",
       "        vertical-align: middle;\n",
       "    }\n",
       "\n",
       "    .dataframe tbody tr th {\n",
       "        vertical-align: top;\n",
       "    }\n",
       "\n",
       "    .dataframe thead th {\n",
       "        text-align: right;\n",
       "    }\n",
       "</style>\n",
       "<table border=\"1\" class=\"dataframe\">\n",
       "  <thead>\n",
       "    <tr style=\"text-align: right;\">\n",
       "      <th>Model</th>\n",
       "      <th>Dummy Classifier</th>\n",
       "      <th>Logistic Regression</th>\n",
       "    </tr>\n",
       "  </thead>\n",
       "  <tbody>\n",
       "    <tr>\n",
       "      <th>Accuracy</th>\n",
       "      <td>0.969146</td>\n",
       "      <td>0.969146</td>\n",
       "    </tr>\n",
       "    <tr>\n",
       "      <th>Recall</th>\n",
       "      <td>0.000000</td>\n",
       "      <td>0.000000</td>\n",
       "    </tr>\n",
       "    <tr>\n",
       "      <th>Precision</th>\n",
       "      <td>0.000000</td>\n",
       "      <td>0.000000</td>\n",
       "    </tr>\n",
       "    <tr>\n",
       "      <th>F1-Score</th>\n",
       "      <td>0.000000</td>\n",
       "      <td>0.000000</td>\n",
       "    </tr>\n",
       "  </tbody>\n",
       "</table>\n",
       "</div>"
      ],
      "text/plain": [
       "Model      Dummy Classifier  Logistic Regression\n",
       "Accuracy           0.969146             0.969146\n",
       "Recall             0.000000             0.000000\n",
       "Precision          0.000000             0.000000\n",
       "F1-Score           0.000000             0.000000"
      ]
     },
     "execution_count": 73,
     "metadata": {},
     "output_type": "execute_result"
    }
   ],
   "source": [
    "print('EVALUATION IN VALIDATION DATA')\n",
    "(metrics_val.set_index(['Model']).T)"
   ]
  },
  {
   "attachments": {},
   "cell_type": "markdown",
   "metadata": {},
   "source": [
    "The two tables above display the evaluation metrics chosen for the train data and validation data. One notable observation is that both the Dummy Classifier and the Logistic Regressor are yielding similar results in terms of accuracy, with a slight improvement on the validation data. However, it's important to note that accuracy can be misleading when dealing with imbalanced classes. In this case, with an accuracy as high as ~96%, it's evident that the classifier is simply predicting all samples as belonging to the majority class (class 0), which is further supported by the fact that the Logistic Regressor is behaving similarly to the Dummy Classifier that predicts the majority class \"always\".\n",
    "\n",
    "In the presence of imbalanced classes, achieving a high accuracy doesn't necessarily translate to useful predictions. Precision and recall are more appropriate performance metrics in such scenarios. Both precision and recall focus on the positive class (i.e., the minority class) and are not influenced by the true negatives (majority class). An ideal classifier would have precision and recall values closer to 1. In the current evaluation, the model is performing poorly, with both recall and precision being 0.\n",
    "\n",
    "Below, the confusion matrix of each model is plotted. The confusion matrix is a performance measurement tool for machine learning classification problems with two or more classes. It is a table that displays the four combinations of predicted and actual values, from which accuracy, recall, and precision metrics are derived. The confusion matrix does not contain false positives or true positives: In other words, the model did not correctly identify any instances of the positive class. "
   ]
  },
  {
   "cell_type": "code",
   "execution_count": 74,
   "metadata": {},
   "outputs": [
    {
     "data": {
      "image/png": "[encoded data removed]",
      "text/plain": [
       "<Figure size 2160x1440 with 4 Axes>"
      ]
     },
     "metadata": {
      "needs_background": "light"
     },
     "output_type": "display_data"
    }
   ],
   "source": [
    "cm_dummy_t = confusion_matrix(y_train_fold, dummy_pred_train)\n",
    "cm_dummy_v = confusion_matrix(y_val_fold, dummy_pred_val)\n",
    "cm_log_t = confusion_matrix(y_train_fold, log_pred_train)\n",
    "cm_log_v = confusion_matrix(y_val_fold, log_pred_val)\n",
    "\n",
    "\n",
    "\n",
    "\n",
    "fig, axes = plt.subplots(2, 2, figsize=(30, 20))\n",
    "tick_labels = ['Popularity_0','Popularity_1']\n",
    "# Confusion Matrix: Dummy Classifier - Train Data\n",
    "sns.heatmap(cm_dummy_t, annot=True, cmap='Greens', fmt='g', cbar=False, annot_kws={'fontsize': 16}, ax=axes[0, 0], xticklabels=tick_labels, yticklabels=tick_labels)\n",
    "axes[0, 0].set_title('Confusion Matrix: Dummy Classifier Train Data', size=20, alpha=0.8, weight='bold')\n",
    "axes[0, 0].set_xlabel('Predicted', size=16)\n",
    "axes[0, 0].set_ylabel('Actual', size=16)\n",
    "axes[0, 0].tick_params(axis='x', labelsize=14)\n",
    "axes[0, 0].tick_params(axis='y', labelsize=14)\n",
    "\n",
    "# Confusion Matrix: Dummy Classifier - Validation Data\n",
    "sns.heatmap(cm_dummy_v, annot=True, cmap='Greens', fmt='g', cbar=False, annot_kws={'fontsize': 16}, ax=axes[0, 1], xticklabels=tick_labels, yticklabels=tick_labels)\n",
    "axes[0, 1].set_title('Confusion Matrix: Dummy Classifier Validation Data', size=20, alpha=0.8, weight='bold')\n",
    "axes[0, 1].set_xlabel('Predicted', size=16)\n",
    "axes[0, 1].set_ylabel('Actual', size=16)\n",
    "axes[0, 1].tick_params(axis='x', labelsize=14)\n",
    "axes[0, 1].tick_params(axis='y', labelsize=14)\n",
    "\n",
    "# Confusion Matrix: Logistic Regressor - Train Data\n",
    "sns.heatmap(cm_log_t, annot=True, cmap='Greens', fmt='g', cbar=False, annot_kws={'fontsize': 16}, ax=axes[1, 0], xticklabels=tick_labels, yticklabels=tick_labels)\n",
    "axes[1, 0].set_title('Confusion Matrix: Logistic Regressor Train Data', size=20, alpha=0.8, weight='bold')\n",
    "axes[1, 0].set_xlabel('Predicted', size=16)\n",
    "axes[1, 0].set_ylabel('Actual', size=16)\n",
    "axes[1, 0].tick_params(axis='x', labelsize=14)\n",
    "axes[1, 0].tick_params(axis='y', labelsize=14)\n",
    "\n",
    "# Confusion Matrix: Logistic Regressor - Validation Data\n",
    "sns.heatmap(cm_log_v, annot=True, cmap='Greens', fmt='g', cbar=False, annot_kws={'fontsize': 16}, ax=axes[1, 1], xticklabels=tick_labels, yticklabels=tick_labels)\n",
    "axes[1, 1].set_title('Confusion Matrix: Logistic Regressor Validation Data', size=20, alpha=0.8, weight='bold')\n",
    "axes[1, 1].set_xlabel('Predicted', size=16)\n",
    "axes[1, 1].set_ylabel('Actual', size=16)\n",
    "axes[1, 1].tick_params(axis='x', labelsize=14)\n",
    "axes[1, 1].tick_params(axis='y', labelsize=14)\n",
    "\n",
    "plt.show()"
   ]
  },
  {
   "attachments": {},
   "cell_type": "markdown",
   "metadata": {},
   "source": [
    "## D - 6: Resampling"
   ]
  },
  {
   "attachments": {},
   "cell_type": "markdown",
   "metadata": {},
   "source": [
    "Now we're going to implement a resampling technique to address the class imbalance issue in the dataset. Resampling involves adding artificial data to the dataset in order to balance the classes. There are various ways to do this, including undersampling and oversampling, or a combination of both.\n",
    "\n",
    "Oversampling involves adding more examples to the minority class until the classes are balanced, while undersampling involves removing data from the majority class until the classes are balanced. There are several algorithms that can be used for this process. In this project, we will be using Random Oversampling, SMOTE (Synthetic Minority Over-sampling Technique), Near Miss, and a hybrid technique that combines random oversampling and random undersampling to address the class imbalance issue. "
   ]
  },
  {
   "attachments": {},
   "cell_type": "markdown",
   "metadata": {},
   "source": [
    "### Resampling"
   ]
  },
  {
   "cell_type": "code",
   "execution_count": 75,
   "metadata": {},
   "outputs": [],
   "source": [
    "classifiers = {\n",
    "    'LogisticRegression': LogisticRegression(),\n",
    "    'KNearest': KNeighborsClassifier(),\n",
    "    'DecisionTreeClassifier': DecisionTreeClassifier(),\n",
    "    'Random Forest': RandomForestClassifier(),\n",
    "    'XGBoost': xgb.XGBClassifier()  \n",
    "}"
   ]
  },
  {
   "attachments": {},
   "cell_type": "markdown",
   "metadata": {},
   "source": [
    "### Oversampling"
   ]
  },
  {
   "attachments": {},
   "cell_type": "markdown",
   "metadata": {},
   "source": [
    "Oversampling is a technique used when we have limited information on the minority class, which is the rare class, compared to the majority class. In this approach, the number of occurrences of the minority class is increased by creating artificial events using various techniques. This helps to balance the class distribution and provide more training examples for the minority class. The goal is to improve the representation of the minority class in the dataset, which can lead to better model performance and more accurate predictions for the minority class."
   ]
  },
  {
   "attachments": {},
   "cell_type": "markdown",
   "metadata": {},
   "source": [
    "#### Random OverSampling"
   ]
  },
  {
   "attachments": {},
   "cell_type": "markdown",
   "metadata": {},
   "source": [
    "Random oversampling involves randomly duplicating examples in the minority class."
   ]
  },
  {
   "cell_type": "code",
   "execution_count": 76,
   "metadata": {},
   "outputs": [
    {
     "name": "stdout",
     "output_type": "stream",
     "text": [
      "Original dataset shape Counter({0: 55664, 1: 1770})\n",
      "Resample dataset shape Counter({0: 55664, 1: 55664})\n"
     ]
    }
   ],
   "source": [
    "ros = RandomOverSampler(sampling_strategy='minority')\n",
    "X_ros, y_ros = ros.fit_resample(X_train_fold, y_train_fold)\n",
    "print('Original dataset shape', Counter(y_train_fold))\n",
    "print('Resample dataset shape', Counter(y_ros))"
   ]
  },
  {
   "cell_type": "code",
   "execution_count": 77,
   "metadata": {},
   "outputs": [
    {
     "name": "stdout",
     "output_type": "stream",
     "text": [
      "Model: LogisticRegression\n",
      "Accuracy:  0.5894274968658587\n",
      "Precision: 0.05501142670584394\n",
      "Recall:    0.7607223476297968\n",
      "F1-Score:  0.10260313594154362\n",
      "------------------------------------------------------------\n",
      "------------------------------------------------------------\n"
     ]
    },
    {
     "name": "stderr",
     "output_type": "stream",
     "text": [
      "c:\\Users\\SAMSUNG\\anaconda3\\lib\\site-packages\\sklearn\\neighbors\\_classification.py:228: FutureWarning: Unlike other reduction functions (e.g. `skew`, `kurtosis`), the default behavior of `mode` typically preserves the axis it acts along. In SciPy 1.11.0, this behavior will change: the default value of `keepdims` will become False, the `axis` over which the statistic is taken will be eliminated, and the value None will no longer be accepted. Set `keepdims` to True or False to avoid this warning.\n",
      "  mode, _ = stats.mode(_y[neigh_ind, k], axis=1)\n"
     ]
    },
    {
     "name": "stdout",
     "output_type": "stream",
     "text": [
      "Model: KNearest\n",
      "Accuracy:  0.8853600780052933\n",
      "Precision: 0.0650759219088937\n",
      "Recall:    0.20316027088036118\n",
      "F1-Score:  0.09857612267250822\n",
      "------------------------------------------------------------\n",
      "------------------------------------------------------------\n",
      "Model: DecisionTreeClassifier\n",
      "Accuracy:  0.9336955007661234\n",
      "Precision: 0.06937394247038917\n",
      "Recall:    0.09255079006772009\n",
      "F1-Score:  0.0793036750483559\n",
      "------------------------------------------------------------\n",
      "------------------------------------------------------------\n",
      "Model: Random Forest\n",
      "Accuracy:  0.9613455913079816\n",
      "Precision: 0.08208955223880597\n",
      "Recall:    0.024830699774266364\n",
      "F1-Score:  0.038128249566724434\n",
      "------------------------------------------------------------\n",
      "------------------------------------------------------------\n",
      "Model: XGBoost\n",
      "Accuracy:  0.8478200306449366\n",
      "Precision: 0.07345739471106758\n",
      "Recall:    0.33860045146726864\n",
      "F1-Score:  0.12072434607645875\n",
      "------------------------------------------------------------\n",
      "------------------------------------------------------------\n"
     ]
    },
    {
     "data": {
      "image/png": "[encoded data removed]",
      "text/plain": [
       "<Figure size 1440x864 with 4 Axes>"
      ]
     },
     "metadata": {
      "needs_background": "light"
     },
     "output_type": "display_data"
    }
   ],
   "source": [
    "# Create empty lists to store evaluation metrics for each classifier\n",
    "accuracy_vals_ros = []\n",
    "precision_vals_ros = []\n",
    "recall_vals_ros = []\n",
    "f1_vals_ros = []\n",
    "\n",
    "# Loop through classifiers\n",
    "for clf_name, clf in classifiers.items():\n",
    "    \n",
    "    #Train the classifier\n",
    "    clf.fit(X_ros, y_ros)\n",
    "    \n",
    "    #Make prediction on validation data\n",
    "    y_val_pred = clf.predict(X_val_fold)\n",
    "    \n",
    "    #Calculate evalution metrics\n",
    "    accuracy_val = accuracy_score(y_val_fold, y_val_pred)\n",
    "    recall_val = recall_score(y_val_fold, y_val_pred)\n",
    "    precision_val = precision_score(y_val_fold, y_val_pred, zero_division='warn')\n",
    "    f1_val = f1_score(y_val_fold, y_val_pred)\n",
    "    \n",
    "    # Append evaluation metrics to respective lists\n",
    "    accuracy_vals_ros.append(accuracy_val)\n",
    "    precision_vals_ros.append(precision_val)\n",
    "    recall_vals_ros.append(recall_val)\n",
    "    f1_vals_ros.append(f1_val)\n",
    "    \n",
    "    # Print evaluation metrics \n",
    "    print(f'Model: {clf_name}')\n",
    "    print(f'Accuracy:  {accuracy_val}')\n",
    "    print(f'Precision: {precision_val}')\n",
    "    print(f'Recall:    {recall_val}')\n",
    "    print(f'F1-Score:  {f1_val}')\n",
    "    print('------------------------------------------------------------')\n",
    "    print('------------------------------------------------------------')\n",
    "\n",
    "# Create a 2x2 subplot for each metric\n",
    "fig, axs = plt.subplots(2, 2, figsize=(20, 12))\n",
    "\n",
    "# Plot accuracy\n",
    "axs[0, 0].bar(classifiers.keys(), accuracy_vals_ros, color= '#3DA65F')\n",
    "axs[0, 0].set_title('Accuracy', alpha = 0.8, weight = 'bold')\n",
    "axs[0, 0].set_xlabel('Classifier')\n",
    "axs[0, 0].set_ylabel('Score')\n",
    "axs[0, 0].spines['top'].set_visible(False)\n",
    "axs[0, 0].spines['right'].set_visible(False)\n",
    "axs[0, 0].spines['left'].set_visible(False)\n",
    "axs[0, 0].tick_params(bottom = False, left = False)\n",
    "\n",
    "\n",
    "\n",
    "# Plot precision\n",
    "axs[0, 1].bar(classifiers.keys(), precision_vals_ros, color= '#3DA65F')\n",
    "axs[0, 1].set_title('Precision', alpha = 0.8, weight = 'bold')\n",
    "axs[0, 1].set_xlabel('Classifier')\n",
    "axs[0, 1].set_ylabel('Score')\n",
    "axs[0, 1].spines['top'].set_visible(False)\n",
    "axs[0, 1].spines['right'].set_visible(False)\n",
    "axs[0, 1].spines['left'].set_visible(False)\n",
    "axs[0, 1].tick_params(bottom = False, left = False)\n",
    "\n",
    "\n",
    "\n",
    "# Plot recall\n",
    "axs[1, 0].bar(classifiers.keys(), recall_vals_ros, color= '#3DA65F')\n",
    "axs[1, 0].set_title('Recall', alpha = 0.8, weight = 'bold')\n",
    "axs[1, 0].set_xlabel('Classifier')\n",
    "axs[1, 0].set_ylabel('Score')\n",
    "axs[1, 0].spines['top'].set_visible(False)\n",
    "axs[1, 0].spines['right'].set_visible(False)\n",
    "axs[1, 0].spines['left'].set_visible(False)\n",
    "axs[1, 0].tick_params(bottom = False, left = False)\n",
    "\n",
    "# Plot F1-Score\n",
    "axs[1, 1].bar(classifiers.keys(), f1_vals_ros, color= '#3DA65F')\n",
    "axs[1, 1].set_title('F1-Score', alpha = 0.8, weight = 'bold')\n",
    "axs[1, 1].set_xlabel('Classifier')\n",
    "axs[1, 1].set_ylabel('Score')\n",
    "axs[1, 1].spines['top'].set_visible(False)\n",
    "axs[1, 1].spines['right'].set_visible(False)\n",
    "axs[1, 1].spines['left'].set_visible(False)\n",
    "axs[1, 1].tick_params(bottom = False, left = False)\n",
    "\n",
    "# Adjust spacing between subplots\n",
    "plt.subplots_adjust(hspace=0.3, wspace=0.3)"
   ]
  },
  {
   "attachments": {},
   "cell_type": "markdown",
   "metadata": {},
   "source": [
    "#### SMOTE"
   ]
  },
  {
   "attachments": {},
   "cell_type": "markdown",
   "metadata": {},
   "source": [
    "SMOTE is one of the most popular oversampling techniques. Unlike random oversampling that only duplicates some random examples from the minority class, SMOTE generates examples based on the distance of each data (usually using Euclidean distance) and the minority class nearest neighbors, so the generated examples are different from the original minority class."
   ]
  },
  {
   "cell_type": "code",
   "execution_count": 78,
   "metadata": {},
   "outputs": [
    {
     "name": "stdout",
     "output_type": "stream",
     "text": [
      "Original dataset shape Counter({0: 55664, 1: 1770})\n",
      "Resample dataset shape Counter({0: 55664, 1: 55664})\n"
     ]
    }
   ],
   "source": [
    "smote = SMOTE(sampling_strategy='minority')\n",
    "\n",
    "X_smote, y_smote = smote.fit_resample(X_train_fold, y_train_fold)\n",
    "\n",
    "print('Original dataset shape', Counter(y_train_fold))\n",
    "print('Resample dataset shape', Counter(y_smote))"
   ]
  },
  {
   "cell_type": "code",
   "execution_count": 151,
   "metadata": {},
   "outputs": [
    {
     "name": "stdout",
     "output_type": "stream",
     "text": [
      "Model: LogisticRegression\n",
      "Accuracy:  0.6143613316617913\n",
      "Precision: 0.05627177700348432\n",
      "Recall:    0.7291196388261851\n",
      "F1-Score:  0.10448002587740579\n",
      "------------------------------------------------------------\n",
      "------------------------------------------------------------\n"
     ]
    },
    {
     "name": "stderr",
     "output_type": "stream",
     "text": [
      "c:\\Users\\SAMSUNG\\anaconda3\\lib\\site-packages\\sklearn\\neighbors\\_classification.py:228: FutureWarning: Unlike other reduction functions (e.g. `skew`, `kurtosis`), the default behavior of `mode` typically preserves the axis it acts along. In SciPy 1.11.0, this behavior will change: the default value of `keepdims` will become False, the `axis` over which the statistic is taken will be eliminated, and the value None will no longer be accepted. Set `keepdims` to True or False to avoid this warning.\n",
      "  mode, _ = stats.mode(_y[neigh_ind, k], axis=1)\n"
     ]
    },
    {
     "name": "stdout",
     "output_type": "stream",
     "text": [
      "Model: KNearest\n",
      "Accuracy:  0.8073547847889678\n",
      "Precision: 0.05786067757898744\n",
      "Recall:    0.3431151241534989\n",
      "F1-Score:  0.0990228013029316\n",
      "------------------------------------------------------------\n",
      "------------------------------------------------------------\n",
      "Model: DecisionTreeClassifier\n",
      "Accuracy:  0.8600780052932163\n",
      "Precision: 0.06692477876106195\n",
      "Recall:    0.27313769751693\n",
      "F1-Score:  0.10750777432252334\n",
      "------------------------------------------------------------\n",
      "------------------------------------------------------------\n",
      "Model: Random Forest\n",
      "Accuracy:  0.9245716673631424\n",
      "Precision: 0.10880195599022005\n",
      "Recall:    0.20090293453724606\n",
      "F1-Score:  0.14115781126090407\n",
      "------------------------------------------------------------\n",
      "------------------------------------------------------------\n",
      "Model: XGBoost\n",
      "Accuracy:  0.8377907786599805\n",
      "Precision: 0.07675044883303411\n",
      "Recall:    0.3860045146726862\n",
      "F1-Score:  0.12804193186072632\n",
      "------------------------------------------------------------\n",
      "------------------------------------------------------------\n"
     ]
    },
    {
     "data": {
      "image/png": "[encoded data removed]",
      "text/plain": [
       "<Figure size 1440x864 with 4 Axes>"
      ]
     },
     "metadata": {},
     "output_type": "display_data"
    }
   ],
   "source": [
    "# Create empty lists to store evaluation metrics for each classifier\n",
    "accuracy_vals_smote = []\n",
    "precision_vals_smote = []\n",
    "recall_vals_smote = []\n",
    "f1_vals_smote = []\n",
    "\n",
    "\n",
    "\n",
    "for clf_name, clf in classifiers.items():\n",
    "    \n",
    "    #Train the classifier\n",
    "    clf.fit(X_smote, y_smote)\n",
    "    \n",
    "    #Make prediction on validation data\n",
    "    y_val_pred = clf.predict(X_val_fold)\n",
    "    \n",
    "    #Calculate evalution metrics\n",
    "    accuracy_val = accuracy_score(y_val_fold, y_val_pred)\n",
    "    recall_val = recall_score(y_val_fold, y_val_pred)\n",
    "    precision_val = precision_score(y_val_fold, y_val_pred, zero_division='warn')\n",
    "    f1_val = f1_score(y_val_fold, y_val_pred)\n",
    "    \n",
    "    # Append evaluation metrics to respective lists\n",
    "    accuracy_vals_smote.append(accuracy_val)\n",
    "    precision_vals_smote.append(precision_val)\n",
    "    recall_vals_smote.append(recall_val)\n",
    "    f1_vals_smote.append(f1_val)\n",
    "    \n",
    "    # Print evaluation metrics \n",
    "    print(f'Model: {clf_name}')\n",
    "    print(f'Accuracy:  {accuracy_val}')\n",
    "    print(f'Precision: {precision_val}')\n",
    "    print(f'Recall:    {recall_val}')\n",
    "    print(f'F1-Score:  {f1_val}')\n",
    "    print('------------------------------------------------------------')\n",
    "    print('------------------------------------------------------------')\n",
    "    \n",
    "# Create a 2x2 subplot for each metric\n",
    "fig, axs = plt.subplots(2, 2, figsize=(20, 12))\n",
    "\n",
    "# Plot accuracy\n",
    "axs[0, 0].bar(classifiers.keys(), accuracy_vals_smote, color= '#3DA65F')\n",
    "axs[0, 0].set_title('Accuracy', alpha = 0.8, weight = 'bold')\n",
    "axs[0, 0].set_xlabel('Classifier')\n",
    "axs[0, 0].set_ylabel('Score')\n",
    "axs[0, 0].spines['top'].set_visible(False)\n",
    "axs[0, 0].spines['right'].set_visible(False)\n",
    "axs[0, 0].spines['left'].set_visible(False)\n",
    "axs[0, 0].tick_params(bottom = False, left = False)\n",
    "\n",
    "\n",
    "\n",
    "# Plot precision\n",
    "axs[0, 1].bar(classifiers.keys(), precision_vals_smote, color= '#3DA65F')\n",
    "axs[0, 1].set_title('Precision', alpha = 0.8, weight = 'bold')\n",
    "axs[0, 1].set_xlabel('Classifier')\n",
    "axs[0, 1].set_ylabel('Score')\n",
    "axs[0, 1].spines['top'].set_visible(False)\n",
    "axs[0, 1].spines['right'].set_visible(False)\n",
    "axs[0, 1].spines['left'].set_visible(False)\n",
    "axs[0, 1].tick_params(bottom = False, left = False)\n",
    "\n",
    "# Plot recall\n",
    "axs[1, 0].bar(classifiers.keys(), recall_vals_smote, color= '#3DA65F')\n",
    "axs[1, 0].set_title('Recall', alpha = 0.8, weight = 'bold')\n",
    "axs[1, 0].set_xlabel('Classifier')\n",
    "axs[1, 0].set_ylabel('Score')\n",
    "axs[1, 0].spines['top'].set_visible(False)\n",
    "axs[1, 0].spines['right'].set_visible(False)\n",
    "axs[1, 0].spines['left'].set_visible(False)\n",
    "axs[1, 0].tick_params(bottom = False, left = False)\n",
    "\n",
    "\n",
    "# Plot F1-Score\n",
    "axs[1, 1].bar(classifiers.keys(), f1_vals_smote, color= '#3DA65F')\n",
    "axs[1, 1].set_title('F1-Score', alpha = 0.8, weight = 'bold')\n",
    "axs[1, 1].set_xlabel('Classifier')\n",
    "axs[1, 1].set_ylabel('Score')\n",
    "axs[1, 1].spines['top'].set_visible(False)\n",
    "axs[1, 1].spines['right'].set_visible(False)\n",
    "axs[1, 1].spines['left'].set_visible(False)\n",
    "axs[1, 1].tick_params(bottom = False, left = False)\n",
    "\n",
    "# Adjust spacing between subplots\n",
    "sns.set_style(\"white\")\n",
    "plt.subplots_adjust(hspace=0.3, wspace=0.3)    \n"
   ]
  },
  {
   "attachments": {},
   "cell_type": "markdown",
   "metadata": {},
   "source": [
    "### Under sampling"
   ]
  },
  {
   "attachments": {},
   "cell_type": "markdown",
   "metadata": {},
   "source": [
    "Undersampling techniques are used to remove examples from the training dataset that belong to the majority class in order to achieve a more balanced class distribution. This approach is appropriate when there is a sufficient amount of data available for accurate analysis. In this case, all the rare events from the minority class are retained, while the number of abundant events (majority class) is reduced, resulting in two equally sized classes. "
   ]
  },
  {
   "attachments": {},
   "cell_type": "markdown",
   "metadata": {},
   "source": [
    "#### Near-Miss"
   ]
  },
  {
   "attachments": {},
   "cell_type": "markdown",
   "metadata": {},
   "source": [
    "Near Miss refers to a collection of undersampling methods that select examples based on the distance of majority class examples to minority class examples. In the standart near miss, we keep events from the majority class that have the smallest average distance to the three closest events from the minority class."
   ]
  },
  {
   "cell_type": "code",
   "execution_count": 80,
   "metadata": {},
   "outputs": [
    {
     "name": "stdout",
     "output_type": "stream",
     "text": [
      "Original dataset shape Counter({0: 55664, 1: 1770})\n",
      "Resample dataset shape Counter({0: 1770, 1: 1770})\n"
     ]
    }
   ],
   "source": [
    "nm = NearMiss()\n",
    "\n",
    "X_nm, y_nm = nm.fit_resample(X_train_fold, y_train_fold)\n",
    "\n",
    "print('Original dataset shape', Counter(y_train_fold))\n",
    "print('Resample dataset shape', Counter(y_nm))"
   ]
  },
  {
   "cell_type": "code",
   "execution_count": 81,
   "metadata": {},
   "outputs": [
    {
     "name": "stdout",
     "output_type": "stream",
     "text": [
      "Model: LogisticRegression\n",
      "Accuracy:  0.21479314667781027\n",
      "Precision: 0.026161518943039638\n",
      "Recall:    0.6749435665914221\n",
      "F1-Score:  0.05037061994609165\n",
      "------------------------------------------------------------\n",
      "------------------------------------------------------------\n"
     ]
    },
    {
     "name": "stderr",
     "output_type": "stream",
     "text": [
      "c:\\Users\\SAMSUNG\\anaconda3\\lib\\site-packages\\sklearn\\neighbors\\_classification.py:228: FutureWarning: Unlike other reduction functions (e.g. `skew`, `kurtosis`), the default behavior of `mode` typically preserves the axis it acts along. In SciPy 1.11.0, this behavior will change: the default value of `keepdims` will become False, the `axis` over which the statistic is taken will be eliminated, and the value None will no longer be accepted. Set `keepdims` to True or False to avoid this warning.\n",
      "  mode, _ = stats.mode(_y[neigh_ind, k], axis=1)\n"
     ]
    },
    {
     "name": "stdout",
     "output_type": "stream",
     "text": [
      "Model: KNearest\n",
      "Accuracy:  0.33716395041092073\n",
      "Precision: 0.026606844741235394\n",
      "Recall:    0.5756207674943566\n",
      "F1-Score:  0.05086267078887005\n",
      "------------------------------------------------------------\n",
      "------------------------------------------------------------\n",
      "Model: DecisionTreeClassifier\n",
      "Accuracy:  0.22454380832985096\n",
      "Precision: 0.02932112353614511\n",
      "Recall:    0.7516930022573364\n",
      "F1-Score:  0.05644067796610169\n",
      "------------------------------------------------------------\n",
      "------------------------------------------------------------\n",
      "Model: Random Forest\n",
      "Accuracy:  0.1283604958907926\n",
      "Precision: 0.028290090653329165\n",
      "Recall:    0.8171557562076749\n",
      "F1-Score:  0.05468690988745373\n",
      "------------------------------------------------------------\n",
      "------------------------------------------------------------\n",
      "Model: XGBoost\n",
      "Accuracy:  0.1367878534614849\n",
      "Precision: 0.027964294178055137\n",
      "Recall:    0.7990970654627539\n",
      "F1-Score:  0.05403755151885208\n",
      "------------------------------------------------------------\n",
      "------------------------------------------------------------\n"
     ]
    },
    {
     "data": {
      "image/png": "[encoded data removed]",
      "text/plain": [
       "<Figure size 1440x864 with 4 Axes>"
      ]
     },
     "metadata": {
      "needs_background": "light"
     },
     "output_type": "display_data"
    }
   ],
   "source": [
    "# Create empty lists to store evaluation metrics for each classifier\n",
    "accuracy_vals_nm = []\n",
    "precision_vals_nm = []\n",
    "recall_vals_nm = []\n",
    "f1_vals_nm = []\n",
    "\n",
    "\n",
    "\n",
    "for clf_name, clf in classifiers.items():\n",
    "    \n",
    "    #Train the classifier\n",
    "    clf.fit(X_nm, y_nm)\n",
    "    \n",
    "    #Make prediction on validation data\n",
    "    y_val_pred = clf.predict(X_val_fold)\n",
    "    \n",
    "    #Calculate evalution metrics\n",
    "    accuracy_val = accuracy_score(y_val_fold, y_val_pred)\n",
    "    recall_val = recall_score(y_val_fold, y_val_pred)\n",
    "    precision_val = precision_score(y_val_fold, y_val_pred, zero_division='warn')\n",
    "    f1_val = f1_score(y_val_fold, y_val_pred)\n",
    "    \n",
    "    # Append evaluation metrics to respective lists\n",
    "    accuracy_vals_nm.append(accuracy_val)\n",
    "    precision_vals_nm.append(precision_val)\n",
    "    recall_vals_nm.append(recall_val)\n",
    "    f1_vals_nm.append(f1_val)\n",
    "    \n",
    "    # Print evaluation metrics \n",
    "    print(f'Model: {clf_name}')\n",
    "    print(f'Accuracy:  {accuracy_val}')\n",
    "    print(f'Precision: {precision_val}')\n",
    "    print(f'Recall:    {recall_val}')\n",
    "    print(f'F1-Score:  {f1_val}')\n",
    "    print('------------------------------------------------------------')\n",
    "    print('------------------------------------------------------------')\n",
    "    \n",
    "# Create a 2x2 subplot for each metric\n",
    "fig, axs = plt.subplots(2, 2, figsize=(20, 12))\n",
    "\n",
    "# Plot accuracy\n",
    "axs[0, 0].bar(classifiers.keys(), accuracy_vals_nm, color= '#3DA65F')\n",
    "axs[0, 0].set_title('Accuracy', alpha = 0.8, weight = 'bold')\n",
    "axs[0, 0].set_xlabel('Classifier')\n",
    "axs[0, 0].set_ylabel('Score')\n",
    "axs[0, 0].spines['top'].set_visible(False)\n",
    "axs[0, 0].spines['right'].set_visible(False)\n",
    "axs[0, 0].spines['left'].set_visible(False)\n",
    "axs[0, 0].tick_params(bottom = False, left = False)\n",
    "\n",
    "# Plot precision\n",
    "axs[0, 1].bar(classifiers.keys(), precision_vals_nm, color= '#3DA65F')\n",
    "axs[0, 1].set_title('Precision', alpha = 0.8, weight = 'bold')\n",
    "axs[0, 1].set_xlabel('Classifier')\n",
    "axs[0, 1].set_ylabel('Score')\n",
    "axs[0, 1].spines['top'].set_visible(False)\n",
    "axs[0, 1].spines['right'].set_visible(False)\n",
    "axs[0, 1].spines['left'].set_visible(False)\n",
    "axs[0, 1].tick_params(bottom = False, left = False)\n",
    "\n",
    "# Plot recall\n",
    "axs[1, 0].bar(classifiers.keys(), recall_vals_nm, color= '#3DA65F')\n",
    "axs[1, 0].set_title('Recall', alpha = 0.8, weight = 'bold')\n",
    "axs[1, 0].set_xlabel('Classifier')\n",
    "axs[1, 0].set_ylabel('Score')\n",
    "axs[1, 0].spines['top'].set_visible(False)\n",
    "axs[1, 0].spines['right'].set_visible(False)\n",
    "axs[1, 0].spines['left'].set_visible(False)\n",
    "axs[1, 0].tick_params(bottom = False, left = False)\n",
    "\n",
    "\n",
    "# Plot F1-Score\n",
    "axs[1, 1].bar(classifiers.keys(), f1_vals_nm, color= '#3DA65F')\n",
    "axs[1, 1].set_title('F1-Score', alpha = 0.8, weight = 'bold')\n",
    "axs[1, 1].set_xlabel('Classifier')\n",
    "axs[1, 1].set_ylabel('Score')\n",
    "axs[1, 1].spines['top'].set_visible(False)\n",
    "axs[1, 1].spines['right'].set_visible(False)\n",
    "axs[1, 1].spines['left'].set_visible(False)\n",
    "axs[1, 1].tick_params(bottom = False, left = False)\n",
    "\n",
    "# Adjust spacing between subplots\n",
    "plt.subplots_adjust(hspace=0.3, wspace=0.3)"
   ]
  },
  {
   "attachments": {},
   "cell_type": "markdown",
   "metadata": {},
   "source": [
    "#### Hybrid"
   ]
  },
  {
   "attachments": {},
   "cell_type": "markdown",
   "metadata": {},
   "source": [
    "Hybridization techniques combine both undersampling and oversampling methods to optimize classifier model performance on generated samples. SMOTE-Tomek, a hybrid technique, combines SMOTE for oversampling the minority class with Tomek Links for undersampling the majority class.\n",
    "\n",
    "SMOTE is an oversampling method that synthesizes new plausible examples in the minority class. Tomek Links refers to a method for identifying pairs of nearest neighbors in a dataset that have different classes. Removing one or both of the examples in these pairs (such as the examples in the majority class) has the effect of making the decision boundary in the training dataset less noisy or ambiguous.\n",
    "\n",
    "SMOTE-Tomek results in a more balanced dataset with improved decision boundary for machine learning models, addressing the class imbalance issue and enhancing model performance on imbalanced data."
   ]
  },
  {
   "cell_type": "code",
   "execution_count": 82,
   "metadata": {},
   "outputs": [
    {
     "name": "stdout",
     "output_type": "stream",
     "text": [
      "Original dataset shape Counter({0: 55664, 1: 1770})\n",
      "Resample dataset shape Counter({0: 55536, 1: 55536})\n"
     ]
    }
   ],
   "source": [
    "hybrid = SMOTETomek()\n",
    "\n",
    "X_hybrid, y_hybrid = hybrid.fit_resample(X_train_fold, y_train_fold)\n",
    "\n",
    "print('Original dataset shape', Counter(y_train_fold))\n",
    "print('Resample dataset shape', Counter(y_hybrid))"
   ]
  },
  {
   "cell_type": "code",
   "execution_count": 83,
   "metadata": {},
   "outputs": [
    {
     "name": "stdout",
     "output_type": "stream",
     "text": [
      "Model: LogisticRegression\n",
      "Accuracy:  0.6149185123276222\n",
      "Precision: 0.056350314026517793\n",
      "Recall:    0.7291196388261851\n",
      "F1-Score:  0.10461538461538461\n",
      "------------------------------------------------------------\n",
      "------------------------------------------------------------\n"
     ]
    },
    {
     "name": "stderr",
     "output_type": "stream",
     "text": [
      "c:\\Users\\SAMSUNG\\anaconda3\\lib\\site-packages\\sklearn\\neighbors\\_classification.py:228: FutureWarning: Unlike other reduction functions (e.g. `skew`, `kurtosis`), the default behavior of `mode` typically preserves the axis it acts along. In SciPy 1.11.0, this behavior will change: the default value of `keepdims` will become False, the `axis` over which the statistic is taken will be eliminated, and the value None will no longer be accepted. Set `keepdims` to True or False to avoid this warning.\n",
      "  mode, _ = stats.mode(_y[neigh_ind, k], axis=1)\n"
     ]
    },
    {
     "name": "stdout",
     "output_type": "stream",
     "text": [
      "Model: KNearest\n",
      "Accuracy:  0.8069368992895947\n",
      "Precision: 0.05906853464596744\n",
      "Recall:    0.35214446952595935\n",
      "F1-Score:  0.10116731517509728\n",
      "------------------------------------------------------------\n",
      "------------------------------------------------------------\n",
      "Model: DecisionTreeClassifier\n",
      "Accuracy:  0.8526953614709569\n",
      "Precision: 0.06092436974789916\n",
      "Recall:    0.2618510158013544\n",
      "F1-Score:  0.09884959522795056\n",
      "------------------------------------------------------------\n",
      "------------------------------------------------------------\n",
      "Model: Random Forest\n",
      "Accuracy:  0.9232483632817942\n",
      "Precision: 0.10727056019070322\n",
      "Recall:    0.20316027088036118\n",
      "F1-Score:  0.140405616224649\n",
      "------------------------------------------------------------\n",
      "------------------------------------------------------------\n",
      "Model: XGBoost\n",
      "Accuracy:  0.8375121883270651\n",
      "Precision: 0.07661290322580645\n",
      "Recall:    0.3860045146726862\n",
      "F1-Score:  0.12785046728971963\n",
      "------------------------------------------------------------\n",
      "------------------------------------------------------------\n"
     ]
    },
    {
     "data": {
      "image/png": "[encoded data removed]",
      "text/plain": [
       "<Figure size 1440x864 with 4 Axes>"
      ]
     },
     "metadata": {
      "needs_background": "light"
     },
     "output_type": "display_data"
    }
   ],
   "source": [
    "# Create empty lists to store evaluation metrics for each classifier\n",
    "accuracy_vals_hybrid = []\n",
    "precision_vals_hybrid = []\n",
    "recall_vals_hybrid = []\n",
    "f1_vals_hybrid = []\n",
    "\n",
    "for clf_name, clf in classifiers.items():\n",
    "    \n",
    "    #Train the classifier\n",
    "    clf.fit(X_hybrid, y_hybrid)\n",
    "    \n",
    "    #Make prediction on validation data\n",
    "    y_val_pred = clf.predict(X_val_fold)\n",
    "    \n",
    "    #Calculate evalution metrics\n",
    "    accuracy_val = accuracy_score(y_val_fold, y_val_pred)\n",
    "    recall_val = recall_score(y_val_fold, y_val_pred)\n",
    "    precision_val = precision_score(y_val_fold, y_val_pred, zero_division='warn')\n",
    "    f1_val = f1_score(y_val_fold, y_val_pred)\n",
    "    \n",
    "    # Append evaluation metrics to respective lists\n",
    "    accuracy_vals_hybrid.append(accuracy_val)\n",
    "    precision_vals_hybrid.append(precision_val)\n",
    "    recall_vals_hybrid.append(recall_val)\n",
    "    f1_vals_hybrid.append(f1_val)\n",
    "    \n",
    "    # Print evaluation metrics \n",
    "    print(f'Model: {clf_name}')\n",
    "    print(f'Accuracy:  {accuracy_val}')\n",
    "    print(f'Precision: {precision_val}')\n",
    "    print(f'Recall:    {recall_val}')\n",
    "    print(f'F1-Score:  {f1_val}')\n",
    "    print('------------------------------------------------------------')\n",
    "    print('------------------------------------------------------------')\n",
    "    \n",
    "    \n",
    "# Create a 2x2 subplot for each metric\n",
    "fig, axs = plt.subplots(2, 2, figsize=(20, 12))\n",
    "\n",
    "# Plot accuracy\n",
    "axs[0, 0].bar(classifiers.keys(), accuracy_vals_hybrid, color= '#3DA65F')\n",
    "axs[0, 0].set_title('Accuracy', alpha = 0.8, weight = 'bold')\n",
    "axs[0, 0].set_xlabel('Classifier')\n",
    "axs[0, 0].set_ylabel('Score')\n",
    "axs[0, 0].spines['top'].set_visible(False)\n",
    "axs[0, 0].spines['right'].set_visible(False)\n",
    "axs[0, 0].spines['left'].set_visible(False)\n",
    "axs[0, 0].tick_params(bottom = False, left = False)\n",
    "\n",
    "\n",
    "\n",
    "# Plot precision\n",
    "axs[0, 1].bar(classifiers.keys(), precision_vals_hybrid, color= '#3DA65F')\n",
    "axs[0, 1].set_title('Precision', alpha = 0.8, weight = 'bold')\n",
    "axs[0, 1].set_xlabel('Classifier')\n",
    "axs[0, 1].set_ylabel('Score')\n",
    "axs[0, 1].spines['top'].set_visible(False)\n",
    "axs[0, 1].spines['right'].set_visible(False)\n",
    "axs[0, 1].spines['left'].set_visible(False)\n",
    "axs[0, 1].tick_params(bottom = False, left = False)\n",
    "\n",
    "\n",
    "\n",
    "# Plot recall\n",
    "axs[1, 0].bar(classifiers.keys(), recall_vals_hybrid, color= '#3DA65F')\n",
    "axs[1, 0].set_title('Recall', alpha = 0.8, weight = 'bold')\n",
    "axs[1, 0].set_xlabel('Classifier')\n",
    "axs[1, 0].set_ylabel('Score')\n",
    "axs[1, 0].spines['top'].set_visible(False)\n",
    "axs[1, 0].spines['right'].set_visible(False)\n",
    "axs[1, 0].spines['left'].set_visible(False)\n",
    "axs[1, 0].tick_params(bottom = False, left = False)\n",
    "\n",
    "# Plot F1-Score\n",
    "axs[1, 1].bar(classifiers.keys(), f1_vals_hybrid, color= '#3DA65F')\n",
    "axs[1, 1].set_title('F1-Score', alpha = 0.8, weight = 'bold')\n",
    "axs[1, 1].set_xlabel('Classifier')\n",
    "axs[1, 1].set_ylabel('Score')\n",
    "axs[1, 1].spines['top'].set_visible(False)\n",
    "axs[1, 1].spines['right'].set_visible(False)\n",
    "axs[1, 1].spines['left'].set_visible(False)\n",
    "axs[1, 1].tick_params(bottom = False, left = False)\n",
    "\n",
    "# Adjust spacing between subplots\n",
    "plt.subplots_adjust(hspace=0.3, wspace=0.3)"
   ]
  },
  {
   "attachments": {},
   "cell_type": "markdown",
   "metadata": {},
   "source": [
    "For this project, Precision is our primary evaluation metric. We aim to select the model and resampling technique that yield the highest precision scores. From the results obtained, the Random Forest model consistently outperforms other models across all resampling options. Among the resampling techniques, the oversampling SMOTE achieves the highest precision score of ~0.11 (slightly above SMOTETomek algorithm that performed ~0.107), making it the preferred choice for this project."
   ]
  },
  {
   "attachments": {},
   "cell_type": "markdown",
   "metadata": {},
   "source": [
    "### Hyperparameter Tuning the Random Forest and Evaluation\n",
    "\n",
    "Hyperparameter tuning is important to optimize performance. Hyperparameters must be set by the data scientist before training. In the case of a random forest, hyperparameters include the number of decision trees in the forest and the number of features considered by each tree when splitting a node. Hyperparameter tuning relies more on experimental results than theory, and thus the best method to determine the optimal settings is to try many different combinations evaluate the performance of each model. \n",
    "\n",
    "Using Scikit-Learn’s RandomizedSearchCV method, we can define a grid of hyperparameter ranges, and randomly sample from the grid, performing K-Fold CV with each combination of values.\n",
    "\n",
    "#### Tuning Random Forest"
   ]
  },
  {
   "cell_type": "code",
   "execution_count": 98,
   "metadata": {},
   "outputs": [
    {
     "data": {
      "image/png": "[encoded data removed]",
      "text/plain": [
       "<Figure size 1152x576 with 1 Axes>"
      ]
     },
     "metadata": {},
     "output_type": "display_data"
    },
    {
     "data": {
      "text/plain": [
       "<AxesSubplot:title={'center':'Validation Curve for RandomForestClassifier'}, xlabel='max_depth', ylabel='score'>"
      ]
     },
     "execution_count": 98,
     "metadata": {},
     "output_type": "execute_result"
    }
   ],
   "source": [
    "fig, ax = plt.subplots(figsize = (16, 8))\n",
    "\n",
    "vc_viz = ValidationCurve(RandomForestClassifier(n_estimators=100),\n",
    "                         param_name=\"max_depth\",\n",
    "                         param_range=np.arange(1,20),\n",
    "                         cv = 5,\n",
    "                         n_jobs = -1,\n",
    "                         scoring='precision')\n",
    "vc_viz.fit(X_smote, y_smote)\n",
    "vc_viz.poof()"
   ]
  },
  {
   "cell_type": "code",
   "execution_count": 99,
   "metadata": {},
   "outputs": [
    {
     "data": {
      "image/png": "[encoded data removed]",
      "text/plain": [
       "<Figure size 1152x576 with 1 Axes>"
      ]
     },
     "metadata": {},
     "output_type": "display_data"
    },
    {
     "data": {
      "text/plain": [
       "<AxesSubplot:title={'center':'Validation Curve for RandomForestClassifier'}, xlabel='min_samples_split', ylabel='score'>"
      ]
     },
     "execution_count": 99,
     "metadata": {},
     "output_type": "execute_result"
    }
   ],
   "source": [
    "fig, ax = plt.subplots(figsize = (16, 8))\n",
    "\n",
    "vc2_viz = ValidationCurve(RandomForestClassifier(n_estimators=100),\n",
    "                         param_name=\"min_samples_split\",\n",
    "                         param_range=np.arange(2,20),\n",
    "                         cv = 5,\n",
    "                         n_jobs = -1,\n",
    "                         scoring='precision')\n",
    "vc2_viz.fit(X_smote, y_smote)\n",
    "vc2_viz.poof()"
   ]
  },
  {
   "cell_type": "code",
   "execution_count": 100,
   "metadata": {},
   "outputs": [
    {
     "data": {
      "image/png": "[encoded data removed]",
      "text/plain": [
       "<Figure size 1152x576 with 1 Axes>"
      ]
     },
     "metadata": {},
     "output_type": "display_data"
    },
    {
     "data": {
      "text/plain": [
       "<AxesSubplot:title={'center':'Validation Curve for RandomForestClassifier'}, xlabel='min_samples_leaf', ylabel='score'>"
      ]
     },
     "execution_count": 100,
     "metadata": {},
     "output_type": "execute_result"
    }
   ],
   "source": [
    "fig, ax = plt.subplots(figsize = (16, 8))\n",
    "\n",
    "vc3_viz = ValidationCurve(RandomForestClassifier(n_estimators=100),\n",
    "                         param_name=\"min_samples_leaf\",\n",
    "                         param_range=np.arange(1,3),\n",
    "                         cv = 5,\n",
    "                         n_jobs = -1,\n",
    "                         scoring='precision')\n",
    "vc3_viz.fit(X_smote, y_smote)\n",
    "vc3_viz.poof()"
   ]
  },
  {
   "cell_type": "code",
   "execution_count": 97,
   "metadata": {},
   "outputs": [
    {
     "data": {
      "image/png": "[encoded data removed]",
      "text/plain": [
       "<Figure size 1152x576 with 1 Axes>"
      ]
     },
     "metadata": {},
     "output_type": "display_data"
    },
    {
     "data": {
      "text/plain": [
       "<AxesSubplot:title={'center':'Learning Curve for RandomForestClassifier'}, xlabel='Training Instances', ylabel='Score'>"
      ]
     },
     "execution_count": 97,
     "metadata": {},
     "output_type": "execute_result"
    }
   ],
   "source": [
    "fig, ax = plt.subplots(figsize = (16, 8))\n",
    "\n",
    "lc_viz = LearningCurve(RandomForestClassifier(n_estimators=100),\n",
    "                         cv = 5,\n",
    "                         n_jobs = -1,\n",
    "                        )\n",
    "lc_viz.fit(X_smote, y_smote)\n",
    "lc_viz.poof()"
   ]
  },
  {
   "cell_type": "code",
   "execution_count": 103,
   "metadata": {},
   "outputs": [],
   "source": [
    "y_train_fold_array = y_train_fold.values\n",
    "y_val_fold_array = y_val_fold.values"
   ]
  },
  {
   "cell_type": "code",
   "execution_count": 107,
   "metadata": {},
   "outputs": [
    {
     "name": "stdout",
     "output_type": "stream",
     "text": [
      "{'n_estimators': [3, 10, 50, 100], 'max_features': ['auto', 'sqrt', 'log2'], 'max_depth': [5, 10, 15, 20, None], 'min_samples_split': [2, 5, 10], 'min_samples_leaf': [1, 2, 3], 'bootstrap': [True, False], 'class_weight': ['balanced', None]}\n"
     ]
    }
   ],
   "source": [
    "# Number of trees in random forest\n",
    "n_estimators = [3, 10, 50, 100]\n",
    "# Number of features to consider at every split\n",
    "max_features = ['auto', 'sqrt', 'log2']\n",
    "# Maximum number of levels in tree\n",
    "max_depth = [5, 10, 15, 20, None]\n",
    "# Minimum number of samples required to split a node\n",
    "min_samples_split = [2, 5, 10]\n",
    "# Minimum number of samples required at each leaf node\n",
    "min_samples_leaf = [1, 2, 3]\n",
    "# Method of selecting samples for training each tree\n",
    "bootstrap = [True, False]\n",
    "#Weights associated with classes\n",
    "class_weight = ['balanced', None]\n",
    "\n",
    "# Create the random grid\n",
    "random_grid = {'n_estimators': n_estimators,\n",
    "               'max_features': max_features,\n",
    "               'max_depth': max_depth ,\n",
    "               'min_samples_split': min_samples_split,\n",
    "               'min_samples_leaf': min_samples_leaf,\n",
    "               'bootstrap': bootstrap,\n",
    "               'class_weight': class_weight }\n",
    "\n",
    "print(random_grid)"
   ]
  },
  {
   "cell_type": "code",
   "execution_count": 110,
   "metadata": {},
   "outputs": [
    {
     "name": "stdout",
     "output_type": "stream",
     "text": [
      "kfold nº: 1\n",
      "Intermediate time: 7.4 minutes\n",
      "\n",
      "kfold nº: 2\n",
      "Intermediate time: 15.8 minutes\n",
      "\n",
      "kfold nº: 3\n",
      "Intermediate time: 23.4 minutes\n",
      "\n",
      "kfold nº: 4\n",
      "Intermediate time: 31.7 minutes\n",
      "\n",
      "kfold nº: 5\n",
      "Intermediate time: 39.3 minutes\n",
      "\n",
      "------------------------------------------------------------\n",
      "Best estimators for RF: {'n_estimators': 100, 'min_samples_split': 10, 'min_samples_leaf': 1, 'max_features': 'log2', 'max_depth': None, 'class_weight': None, 'bootstrap': False}\n",
      "------------------------------------------------------------\n",
      "Results\n",
      "Accuracy:  0.9361005493404175\n",
      "Precision: 0.09829080782419891\n",
      "Recall:    0.1310734463276836\n",
      "F1:        0.11228304684086106\n",
      "AUC:       0.5463860965924024\n",
      "------------------------------------------------------------\n",
      "Time of the loop for cross-validation: 39.3 minutes\n"
     ]
    }
   ],
   "source": [
    "#RANDOM FOREST: SMOTE\n",
    "accuracy_lst_rf = []\n",
    "precision_lst_rf = []\n",
    "recall_lst_rf = []\n",
    "f1_lst_rf = []\n",
    "auc_lst_rf = []\n",
    "\n",
    "\n",
    "# Set error_score to raise in RandomizedSearchCV\n",
    "rf_grid = RandomizedSearchCV(RandomForestClassifier(), random_grid, random_state=42)\n",
    "\n",
    "start = time.time()\n",
    "count = 0\n",
    "\n",
    "# Start the loop for cross-validation\n",
    "for train, test in StratifiedKFold().split(X_train_fold, y_train_fold_array):\n",
    "    \n",
    "    # Define the imbalanced pipeline with SMOTETomek and the random forest model\n",
    "    pipeline_rf = imbalanced_make_pipeline(SMOTE(), rf_grid)\n",
    "    \n",
    "    \n",
    "    # Fit the pipeline to the training data\n",
    "    model_rf = pipeline_rf.fit(X_train_fold[train], y_train_fold_array[train])\n",
    "        \n",
    "    # Select the best estimator from RandomizedSearchCV\n",
    "    best_est_rf = rf_grid.best_estimator_\n",
    "    \n",
    "    # Make predictions on the test set\n",
    "    prediction_rf = best_est_rf.predict(X_train_fold[test])\n",
    "    \n",
    "    # Append the evaluation metrics to their respective lists\n",
    "    accuracy_lst_rf.append(pipeline_rf.score(X_train_fold[test], y_train_fold_array[test]))\n",
    "    precision_lst_rf.append(precision_score(y_train_fold_array[test], prediction_rf, zero_division='warn'))\n",
    "    recall_lst_rf.append(recall_score(y_train_fold_array[test], prediction_rf))\n",
    "    f1_lst_rf.append(f1_score(y_train_fold_array[test], prediction_rf))\n",
    "    auc_lst_rf.append(roc_auc_score(y_train_fold_array[test], prediction_rf))\n",
    "    \n",
    "    count = count + 1\n",
    "    print(f\"kfold nº: {count}\")\n",
    "    \n",
    "    # Print the current fold number and the intermediate time\n",
    "    intervalo = time.time()\n",
    "    print(f\"Intermediate time: {(intervalo - start)/60:.1f} minutes\")\n",
    "    print()\n",
    "    \n",
    "    # Print the best hyperparameters for the random forest model\n",
    "\n",
    "print('---' * 20)\n",
    "print(f\"Best estimators for RF: {rf_grid.best_params_}\")\n",
    "\n",
    "# Print the mean of the evaluation metrics across all folds\n",
    "print('---' * 20)\n",
    "print('Results')\n",
    "print(f\"Accuracy:  {np.mean(accuracy_lst_rf)}\")\n",
    "print(f\"Precision: {np.mean(precision_lst_rf)}\")\n",
    "print(f\"Recall:    {np.mean(recall_lst_rf)}\")\n",
    "print(f\"F1:        {np.mean(f1_lst_rf)}\")\n",
    "print(f\"AUC:       {np.mean(auc_lst_rf)}\")\n",
    "print('---' * 20)\n",
    "\n",
    "# printing the total time of cross-validation\n",
    "\n",
    "end = time.time()\n",
    "print(f\"Time of the loop for cross-validation: {(end - start)/60:.1f} minutes\")"
   ]
  },
  {
   "cell_type": "code",
   "execution_count": 111,
   "metadata": {},
   "outputs": [
    {
     "name": "stdout",
     "output_type": "stream",
     "text": [
      "kfold nº: 1\n",
      "Intermediate time: 10.3 minutes\n",
      "\n",
      "kfold nº: 2\n",
      "Intermediate time: 20.9 minutes\n",
      "\n",
      "kfold nº: 3\n",
      "Intermediate time: 32.2 minutes\n",
      "\n",
      "kfold nº: 4\n",
      "Intermediate time: 43.6 minutes\n",
      "\n",
      "kfold nº: 5\n",
      "Intermediate time: 54.5 minutes\n",
      "\n",
      "------------------------------------------------------------\n",
      "Best estimators for RF: {'n_estimators': 100, 'min_samples_split': 10, 'min_samples_leaf': 1, 'max_features': 'log2', 'max_depth': None, 'class_weight': None, 'bootstrap': False}\n",
      "------------------------------------------------------------\n",
      "Results\n",
      "Accuracy:  0.9366751255319837\n",
      "Precision: 0.09819419946866484\n",
      "Recall:    0.12824858757062146\n",
      "F1:        0.11118002017493026\n",
      "AUC:       0.5453150036743248\n",
      "------------------------------------------------------------\n",
      "Time of the loop for cross-validation: 54.5 minutes\n"
     ]
    }
   ],
   "source": [
    "#RANDOM FOREST: SMOTETOMEK\n",
    "accuracy_lst_rf = []\n",
    "precision_lst_rf = []\n",
    "recall_lst_rf = []\n",
    "f1_lst_rf = []\n",
    "auc_lst_rf = []\n",
    "\n",
    "\n",
    "# Set error_score to raise in RandomizedSearchCV\n",
    "rf_grid = RandomizedSearchCV(RandomForestClassifier(), random_grid, random_state=42)\n",
    "\n",
    "start = time.time()\n",
    "count = 0\n",
    "\n",
    "# Start the loop for cross-validation\n",
    "for train, test in StratifiedKFold().split(X_train_fold, y_train_fold_array):\n",
    "    \n",
    "    # Define the imbalanced pipeline with SMOTETomek and the random forest model\n",
    "    pipeline_rf = imbalanced_make_pipeline(SMOTETomek(), rf_grid)\n",
    "    \n",
    "    \n",
    "    # Fit the pipeline to the training data\n",
    "    model_rf = pipeline_rf.fit(X_train_fold[train], y_train_fold_array[train])\n",
    "        \n",
    "    # Select the best estimator from RandomizedSearchCV\n",
    "    best_est_rf = rf_grid.best_estimator_\n",
    "    \n",
    "    # Make predictions on the test set\n",
    "    prediction_rf = best_est_rf.predict(X_train_fold[test])\n",
    "    \n",
    "    # Append the evaluation metrics to their respective lists\n",
    "    accuracy_lst_rf.append(pipeline_rf.score(X_train_fold[test], y_train_fold_array[test]))\n",
    "    precision_lst_rf.append(precision_score(y_train_fold_array[test], prediction_rf, zero_division='warn'))\n",
    "    recall_lst_rf.append(recall_score(y_train_fold_array[test], prediction_rf))\n",
    "    f1_lst_rf.append(f1_score(y_train_fold_array[test], prediction_rf))\n",
    "    auc_lst_rf.append(roc_auc_score(y_train_fold_array[test], prediction_rf))\n",
    "    \n",
    "    count = count + 1\n",
    "    print(f\"kfold nº: {count}\")\n",
    "    \n",
    "    # Print the current fold number and the intermediate time\n",
    "    intervalo = time.time()\n",
    "    print(f\"Intermediate time: {(intervalo - start)/60:.1f} minutes\")\n",
    "    print()\n",
    "    \n",
    "    # Print the best hyperparameters for the random forest model\n",
    "\n",
    "print('---' * 20)\n",
    "print(f\"Best estimators for RF: {rf_grid.best_params_}\")\n",
    "\n",
    "# Print the mean of the evaluation metrics across all folds\n",
    "print('---' * 20)\n",
    "print('Results')\n",
    "print(f\"Accuracy:  {np.mean(accuracy_lst_rf)}\")\n",
    "print(f\"Precision: {np.mean(precision_lst_rf)}\")\n",
    "print(f\"Recall:    {np.mean(recall_lst_rf)}\")\n",
    "print(f\"F1:        {np.mean(f1_lst_rf)}\")\n",
    "print(f\"AUC:       {np.mean(auc_lst_rf)}\")\n",
    "print('---' * 20)\n",
    "\n",
    "# printing the total time of cross-validation\n",
    "\n",
    "end = time.time()\n",
    "print(f\"Time of the loop for cross-validation: {(end - start)/60:.1f} minutes\")"
   ]
  },
  {
   "cell_type": "code",
   "execution_count": 117,
   "metadata": {},
   "outputs": [],
   "source": [
    "\n",
    "from sklearn.model_selection import GridSearchCV\n",
    "\n",
    "# Create the parameter grid based on the results of random search \n",
    "cv_grid = {\n",
    "    'bootstrap': [ False],\n",
    "    'max_depth': [5, 10, 15, None],\n",
    "    'max_features': ['log2'],\n",
    "    'min_samples_leaf': [1, 2],\n",
    "    'min_samples_split': [8, 10, 12],\n",
    "    'n_estimators': [80, 100, 110, 120], \n",
    "    'class_weight': [None]\n",
    "}\n",
    "\n"
   ]
  },
  {
   "cell_type": "code",
   "execution_count": 118,
   "metadata": {},
   "outputs": [
    {
     "name": "stdout",
     "output_type": "stream",
     "text": [
      "kfold nº: 1\n",
      "Intermediate time: 133.1 minutes\n",
      "\n",
      "kfold nº: 2\n",
      "Intermediate time: 254.5 minutes\n",
      "\n",
      "kfold nº: 3\n",
      "Intermediate time: 549.0 minutes\n",
      "\n",
      "kfold nº: 4\n",
      "Intermediate time: 700.7 minutes\n",
      "\n",
      "kfold nº: 5\n",
      "Intermediate time: 864.4 minutes\n",
      "\n",
      "------------------------------------------------------------\n",
      "Best estimators for RF: {'n_estimators': 100, 'min_samples_split': 10, 'min_samples_leaf': 1, 'max_features': 'log2', 'max_depth': None, 'class_weight': None, 'bootstrap': False}\n",
      "------------------------------------------------------------\n",
      "Results\n",
      "Accuracy:  0.9386078026169565\n",
      "Precision: 0.10058923399655298\n",
      "Recall:    0.12485875706214689\n",
      "F1:        0.11135751304704844\n",
      "AUC:       0.5446710511711503\n",
      "------------------------------------------------------------\n",
      "Time of the loop for cross-validation: 864.4 minutes\n"
     ]
    }
   ],
   "source": [
    "accuracy_lst_cv = []\n",
    "precision_lst_cv = []\n",
    "recall_lst_cv = []\n",
    "f1_lst_cv = []\n",
    "auc_lst_cv = []\n",
    "\n",
    "\n",
    "# Set error_score to raise in RandomizedSearchCV\n",
    "cv_grid = GridSearchCV(RandomForestClassifier(), cv_grid)\n",
    "\n",
    "start = time.time()\n",
    "count = 0\n",
    "\n",
    "# Start the loop for cross-validation\n",
    "for train, test in StratifiedKFold().split(X_train_fold, y_train_fold_array):\n",
    "    \n",
    "    # Define the imbalanced pipeline with SMOTETomek and the random forest model\n",
    "    pipeline_cv = imbalanced_make_pipeline(SMOTE(), cv_grid)\n",
    "    \n",
    "    \n",
    "    # Fit the pipeline to the training data\n",
    "    model_cv = pipeline_cv.fit(X_train_fold[train], y_train_fold_array[train])\n",
    "        \n",
    "    # Select the best estimator from RandomizedSearchCV\n",
    "    best_est_cv = cv_grid.best_estimator_\n",
    "    \n",
    "    # Make predictions on the test set\n",
    "    prediction_cv = best_est_cv.predict(X_train_fold[test])\n",
    "    \n",
    "    # Append the evaluation metrics to their respective lists\n",
    "    accuracy_lst_cv.append(pipeline_cv.score(X_train_fold[test], y_train_fold_array[test]))\n",
    "    precision_lst_cv.append(precision_score(y_train_fold_array[test], prediction_cv, zero_division='warn'))\n",
    "    recall_lst_cv.append(recall_score(y_train_fold_array[test], prediction_cv))\n",
    "    f1_lst_cv.append(f1_score(y_train_fold_array[test], prediction_cv))\n",
    "    auc_lst_cv.append(roc_auc_score(y_train_fold_array[test], prediction_cv))\n",
    "    \n",
    "    count = count + 1\n",
    "    print(f\"kfold nº: {count}\")\n",
    "    \n",
    "    # Print the current fold number and the intermediate time\n",
    "    intervalo = time.time()\n",
    "    print(f\"Intermediate time: {(intervalo - start)/60:.1f} minutes\")\n",
    "    print()\n",
    "    \n",
    "    # Print the best hyperparameters for the random forest model\n",
    "\n",
    "print('---' * 20)\n",
    "print(f\"Best estimators for RF: {rf_grid.best_params_}\")\n",
    "\n",
    "# Print the mean of the evaluation metrics across all folds\n",
    "print('---' * 20)\n",
    "print('Results')\n",
    "print(f\"Accuracy:  {np.mean(accuracy_lst_cv)}\")\n",
    "print(f\"Precision: {np.mean(precision_lst_cv)}\")\n",
    "print(f\"Recall:    {np.mean(recall_lst_cv)}\")\n",
    "print(f\"F1:        {np.mean(f1_lst_cv)}\")\n",
    "print(f\"AUC:       {np.mean(auc_lst_cv)}\")\n",
    "print('---' * 20)\n",
    "\n",
    "# printing the total time of cross-validation\n",
    "\n",
    "end = time.time()\n",
    "print(f\"Time of the loop for cross-validation: {(end - start)/60:.1f} minutes\")"
   ]
  },
  {
   "attachments": {},
   "cell_type": "markdown",
   "metadata": {},
   "source": [
    "After running tests to tune the model, we can observe a slight improvement in the estimator's performance. It's important to note that in the baseline model estimation, I didn't split the training data into cross-validation folds, which could have led to overoptimistic predictions. With the tuning and cross-validation steps, I obtained a more accurate result. To understand how the data behaves as we increase some parameters, I created graphs and ran a RandomSearch to establish a baseline. Initially, the tuning models were providing a precision of 0.6, which I improved through trial and error. Finally, I attempted a GridSearch to further optimize the model. The final model achieved better results, with a precision of 0.10 and an F1-score of 0.11."
   ]
  }
 ],
 "metadata": {
  "kernelspec": {
   "display_name": "base",
   "language": "python",
   "name": "python3"
  },
  "language_info": {
   "codemirror_mode": {
    "name": "ipython",
    "version": 3
   },
   "file_extension": ".py",
   "mimetype": "text/x-python",
   "name": "python",
   "nbconvert_exporter": "python",
   "pygments_lexer": "ipython3",
   "version": "3.9.12"
  },
  "orig_nbformat": 4
 },
 "nbformat": 4,
 "nbformat_minor": 2
}
